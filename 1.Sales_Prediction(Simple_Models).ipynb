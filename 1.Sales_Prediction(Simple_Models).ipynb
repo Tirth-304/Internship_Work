{
 "cells": [
  {
   "cell_type": "code",
   "execution_count": 7,
   "metadata": {},
   "outputs": [],
   "source": [
    "import pandas as pd\n",
    "import matplotlib.pyplot as plt\n",
    "import seaborn as sns\n",
    "import numpy as np\n",
    "from sklearn import metrics\n",
    "import warnings\n",
    "warnings.filterwarnings('ignore')\n",
    "%matplotlib inline"
   ]
  },
  {
   "cell_type": "code",
   "execution_count": 8,
   "metadata": {},
   "outputs": [],
   "source": [
    "data = pd.read_excel('E:/Sales.xlsx')"
   ]
  },
  {
   "cell_type": "code",
   "execution_count": 9,
   "metadata": {},
   "outputs": [
    {
     "data": {
      "text/html": [
       "<div>\n",
       "<style scoped>\n",
       "    .dataframe tbody tr th:only-of-type {\n",
       "        vertical-align: middle;\n",
       "    }\n",
       "\n",
       "    .dataframe tbody tr th {\n",
       "        vertical-align: top;\n",
       "    }\n",
       "\n",
       "    .dataframe thead th {\n",
       "        text-align: right;\n",
       "    }\n",
       "</style>\n",
       "<table border=\"1\" class=\"dataframe\">\n",
       "  <thead>\n",
       "    <tr style=\"text-align: right;\">\n",
       "      <th></th>\n",
       "      <th>Billing Date</th>\n",
       "      <th>Customer</th>\n",
       "      <th>Material Number</th>\n",
       "      <th>Material Group</th>\n",
       "      <th>Qty</th>\n",
       "      <th>UoM</th>\n",
       "      <th>Net Value in Doc Currency</th>\n",
       "    </tr>\n",
       "  </thead>\n",
       "  <tbody>\n",
       "    <tr>\n",
       "      <th>0</th>\n",
       "      <td>2019-06-02</td>\n",
       "      <td>10000003</td>\n",
       "      <td>100099</td>\n",
       "      <td>501</td>\n",
       "      <td>1920.0</td>\n",
       "      <td>KAR</td>\n",
       "      <td>1366867.14</td>\n",
       "    </tr>\n",
       "    <tr>\n",
       "      <th>1</th>\n",
       "      <td>2019-06-02</td>\n",
       "      <td>10000003</td>\n",
       "      <td>100101</td>\n",
       "      <td>503</td>\n",
       "      <td>1170.0</td>\n",
       "      <td>KAR</td>\n",
       "      <td>832934.68</td>\n",
       "    </tr>\n",
       "    <tr>\n",
       "      <th>2</th>\n",
       "      <td>2019-06-02</td>\n",
       "      <td>10000003</td>\n",
       "      <td>100107</td>\n",
       "      <td>504</td>\n",
       "      <td>690.0</td>\n",
       "      <td>KAR</td>\n",
       "      <td>491217.89</td>\n",
       "    </tr>\n",
       "    <tr>\n",
       "      <th>3</th>\n",
       "      <td>2019-06-02</td>\n",
       "      <td>10000003</td>\n",
       "      <td>100109</td>\n",
       "      <td>505</td>\n",
       "      <td>90.0</td>\n",
       "      <td>KAR</td>\n",
       "      <td>64071.90</td>\n",
       "    </tr>\n",
       "    <tr>\n",
       "      <th>4</th>\n",
       "      <td>2019-06-02</td>\n",
       "      <td>10000003</td>\n",
       "      <td>100105</td>\n",
       "      <td>503B</td>\n",
       "      <td>330.0</td>\n",
       "      <td>KAR</td>\n",
       "      <td>234930.30</td>\n",
       "    </tr>\n",
       "  </tbody>\n",
       "</table>\n",
       "</div>"
      ],
      "text/plain": [
       "  Billing Date  Customer Material Number Material Group     Qty  UoM  \\\n",
       "0   2019-06-02  10000003          100099            501  1920.0  KAR   \n",
       "1   2019-06-02  10000003          100101            503  1170.0  KAR   \n",
       "2   2019-06-02  10000003          100107            504   690.0  KAR   \n",
       "3   2019-06-02  10000003          100109            505    90.0  KAR   \n",
       "4   2019-06-02  10000003          100105           503B   330.0  KAR   \n",
       "\n",
       "   Net Value in Doc Currency  \n",
       "0                 1366867.14  \n",
       "1                  832934.68  \n",
       "2                  491217.89  \n",
       "3                   64071.90  \n",
       "4                  234930.30  "
      ]
     },
     "execution_count": 9,
     "metadata": {},
     "output_type": "execute_result"
    }
   ],
   "source": [
    "data.head()"
   ]
  },
  {
   "cell_type": "code",
   "execution_count": 10,
   "metadata": {},
   "outputs": [],
   "source": [
    "# data['Billing Date'] = pd.to_datetime(data['Billing Date'])"
   ]
  },
  {
   "cell_type": "code",
   "execution_count": 11,
   "metadata": {},
   "outputs": [
    {
     "data": {
      "text/plain": [
       "(152773, 7)"
      ]
     },
     "execution_count": 11,
     "metadata": {},
     "output_type": "execute_result"
    }
   ],
   "source": [
    "data.shape"
   ]
  },
  {
   "cell_type": "code",
   "execution_count": 12,
   "metadata": {},
   "outputs": [
    {
     "data": {
      "text/plain": [
       "Billing Date                 152773\n",
       "Customer                     152773\n",
       "Material Number              152773\n",
       "Material Group               152683\n",
       "Qty                          152773\n",
       "UoM                          152773\n",
       "Net Value in Doc Currency    152773\n",
       "dtype: int64"
      ]
     },
     "execution_count": 12,
     "metadata": {},
     "output_type": "execute_result"
    }
   ],
   "source": [
    "data.count()"
   ]
  },
  {
   "cell_type": "code",
   "execution_count": 13,
   "metadata": {},
   "outputs": [
    {
     "data": {
      "text/html": [
       "<div>\n",
       "<style scoped>\n",
       "    .dataframe tbody tr th:only-of-type {\n",
       "        vertical-align: middle;\n",
       "    }\n",
       "\n",
       "    .dataframe tbody tr th {\n",
       "        vertical-align: top;\n",
       "    }\n",
       "\n",
       "    .dataframe thead th {\n",
       "        text-align: right;\n",
       "    }\n",
       "</style>\n",
       "<table border=\"1\" class=\"dataframe\">\n",
       "  <thead>\n",
       "    <tr style=\"text-align: right;\">\n",
       "      <th></th>\n",
       "      <th>Billing Date</th>\n",
       "      <th>Customer</th>\n",
       "      <th>Material Number</th>\n",
       "      <th>Material Group</th>\n",
       "      <th>Qty</th>\n",
       "      <th>UoM</th>\n",
       "      <th>Net Value in Doc Currency</th>\n",
       "    </tr>\n",
       "  </thead>\n",
       "  <tbody>\n",
       "    <tr>\n",
       "      <th>0</th>\n",
       "      <td>2019-06-02</td>\n",
       "      <td>10000003</td>\n",
       "      <td>100099</td>\n",
       "      <td>501</td>\n",
       "      <td>1920.0</td>\n",
       "      <td>KAR</td>\n",
       "      <td>1366867.14</td>\n",
       "    </tr>\n",
       "    <tr>\n",
       "      <th>1</th>\n",
       "      <td>2019-06-02</td>\n",
       "      <td>10000003</td>\n",
       "      <td>100101</td>\n",
       "      <td>503</td>\n",
       "      <td>1170.0</td>\n",
       "      <td>KAR</td>\n",
       "      <td>832934.68</td>\n",
       "    </tr>\n",
       "    <tr>\n",
       "      <th>2</th>\n",
       "      <td>2019-06-02</td>\n",
       "      <td>10000003</td>\n",
       "      <td>100107</td>\n",
       "      <td>504</td>\n",
       "      <td>690.0</td>\n",
       "      <td>KAR</td>\n",
       "      <td>491217.89</td>\n",
       "    </tr>\n",
       "    <tr>\n",
       "      <th>3</th>\n",
       "      <td>2019-06-02</td>\n",
       "      <td>10000003</td>\n",
       "      <td>100109</td>\n",
       "      <td>505</td>\n",
       "      <td>90.0</td>\n",
       "      <td>KAR</td>\n",
       "      <td>64071.90</td>\n",
       "    </tr>\n",
       "    <tr>\n",
       "      <th>4</th>\n",
       "      <td>2019-06-02</td>\n",
       "      <td>10000003</td>\n",
       "      <td>100105</td>\n",
       "      <td>503B</td>\n",
       "      <td>330.0</td>\n",
       "      <td>KAR</td>\n",
       "      <td>234930.30</td>\n",
       "    </tr>\n",
       "  </tbody>\n",
       "</table>\n",
       "</div>"
      ],
      "text/plain": [
       "  Billing Date  Customer Material Number Material Group     Qty  UoM  \\\n",
       "0   2019-06-02  10000003          100099            501  1920.0  KAR   \n",
       "1   2019-06-02  10000003          100101            503  1170.0  KAR   \n",
       "2   2019-06-02  10000003          100107            504   690.0  KAR   \n",
       "3   2019-06-02  10000003          100109            505    90.0  KAR   \n",
       "4   2019-06-02  10000003          100105           503B   330.0  KAR   \n",
       "\n",
       "   Net Value in Doc Currency  \n",
       "0                 1366867.14  \n",
       "1                  832934.68  \n",
       "2                  491217.89  \n",
       "3                   64071.90  \n",
       "4                  234930.30  "
      ]
     },
     "execution_count": 13,
     "metadata": {},
     "output_type": "execute_result"
    }
   ],
   "source": [
    "data.head()"
   ]
  },
  {
   "cell_type": "code",
   "execution_count": 14,
   "metadata": {},
   "outputs": [
    {
     "name": "stdout",
     "output_type": "stream",
     "text": [
      "<class 'pandas.core.frame.DataFrame'>\n",
      "RangeIndex: 152773 entries, 0 to 152772\n",
      "Data columns (total 7 columns):\n",
      " #   Column                     Non-Null Count   Dtype         \n",
      "---  ------                     --------------   -----         \n",
      " 0   Billing Date               152773 non-null  datetime64[ns]\n",
      " 1   Customer                   152773 non-null  int64         \n",
      " 2   Material Number            152773 non-null  object        \n",
      " 3   Material Group             152683 non-null  object        \n",
      " 4   Qty                        152773 non-null  float64       \n",
      " 5   UoM                        152773 non-null  object        \n",
      " 6   Net Value in Doc Currency  152773 non-null  float64       \n",
      "dtypes: datetime64[ns](1), float64(2), int64(1), object(3)\n",
      "memory usage: 8.2+ MB\n"
     ]
    }
   ],
   "source": [
    "data.info()"
   ]
  },
  {
   "cell_type": "code",
   "execution_count": 232,
   "metadata": {},
   "outputs": [],
   "source": [
    "data = data.dropna()"
   ]
  },
  {
   "cell_type": "code",
   "execution_count": 15,
   "metadata": {},
   "outputs": [
    {
     "data": {
      "text/html": [
       "<div>\n",
       "<style scoped>\n",
       "    .dataframe tbody tr th:only-of-type {\n",
       "        vertical-align: middle;\n",
       "    }\n",
       "\n",
       "    .dataframe tbody tr th {\n",
       "        vertical-align: top;\n",
       "    }\n",
       "\n",
       "    .dataframe thead th {\n",
       "        text-align: right;\n",
       "    }\n",
       "</style>\n",
       "<table border=\"1\" class=\"dataframe\">\n",
       "  <thead>\n",
       "    <tr style=\"text-align: right;\">\n",
       "      <th></th>\n",
       "      <th>Billing Date</th>\n",
       "      <th>Net Value in Doc Currency</th>\n",
       "    </tr>\n",
       "  </thead>\n",
       "  <tbody>\n",
       "    <tr>\n",
       "      <th>0</th>\n",
       "      <td>2019-04-01</td>\n",
       "      <td>50648642.57</td>\n",
       "    </tr>\n",
       "    <tr>\n",
       "      <th>1</th>\n",
       "      <td>2019-04-02</td>\n",
       "      <td>49487702.60</td>\n",
       "    </tr>\n",
       "    <tr>\n",
       "      <th>2</th>\n",
       "      <td>2019-04-03</td>\n",
       "      <td>58869847.96</td>\n",
       "    </tr>\n",
       "    <tr>\n",
       "      <th>3</th>\n",
       "      <td>2019-04-04</td>\n",
       "      <td>61066072.85</td>\n",
       "    </tr>\n",
       "    <tr>\n",
       "      <th>4</th>\n",
       "      <td>2019-04-05</td>\n",
       "      <td>60422859.61</td>\n",
       "    </tr>\n",
       "  </tbody>\n",
       "</table>\n",
       "</div>"
      ],
      "text/plain": [
       "  Billing Date  Net Value in Doc Currency\n",
       "0   2019-04-01                50648642.57\n",
       "1   2019-04-02                49487702.60\n",
       "2   2019-04-03                58869847.96\n",
       "3   2019-04-04                61066072.85\n",
       "4   2019-04-05                60422859.61"
      ]
     },
     "execution_count": 15,
     "metadata": {},
     "output_type": "execute_result"
    }
   ],
   "source": [
    "# -9 is to remove sec, min & hour from format\n",
    "data['Billing Date'] = data['Billing Date'].apply(lambda x: str(x)[:-9])  \n",
    "data = data.groupby('Billing Date')['Net Value in Doc Currency'].sum().reset_index()\n",
    "data.head()"
   ]
  },
  {
   "cell_type": "code",
   "execution_count": 16,
   "metadata": {},
   "outputs": [
    {
     "data": {
      "text/plain": [
       "(91, 3)"
      ]
     },
     "execution_count": 16,
     "metadata": {},
     "output_type": "execute_result"
    }
   ],
   "source": [
    "data['Sales_diff'] = data['Net Value in Doc Currency'].diff()\n",
    "data.shape"
   ]
  },
  {
   "cell_type": "code",
   "execution_count": 17,
   "metadata": {},
   "outputs": [
    {
     "data": {
      "text/html": [
       "<div>\n",
       "<style scoped>\n",
       "    .dataframe tbody tr th:only-of-type {\n",
       "        vertical-align: middle;\n",
       "    }\n",
       "\n",
       "    .dataframe tbody tr th {\n",
       "        vertical-align: top;\n",
       "    }\n",
       "\n",
       "    .dataframe thead th {\n",
       "        text-align: right;\n",
       "    }\n",
       "</style>\n",
       "<table border=\"1\" class=\"dataframe\">\n",
       "  <thead>\n",
       "    <tr style=\"text-align: right;\">\n",
       "      <th></th>\n",
       "      <th>Billing Date</th>\n",
       "      <th>Net Value in Doc Currency</th>\n",
       "      <th>Sales_diff</th>\n",
       "    </tr>\n",
       "  </thead>\n",
       "  <tbody>\n",
       "    <tr>\n",
       "      <th>0</th>\n",
       "      <td>2019-04-01</td>\n",
       "      <td>50648642.57</td>\n",
       "      <td>NaN</td>\n",
       "    </tr>\n",
       "    <tr>\n",
       "      <th>1</th>\n",
       "      <td>2019-04-02</td>\n",
       "      <td>49487702.60</td>\n",
       "      <td>-1160939.97</td>\n",
       "    </tr>\n",
       "    <tr>\n",
       "      <th>2</th>\n",
       "      <td>2019-04-03</td>\n",
       "      <td>58869847.96</td>\n",
       "      <td>9382145.36</td>\n",
       "    </tr>\n",
       "    <tr>\n",
       "      <th>3</th>\n",
       "      <td>2019-04-04</td>\n",
       "      <td>61066072.85</td>\n",
       "      <td>2196224.89</td>\n",
       "    </tr>\n",
       "    <tr>\n",
       "      <th>4</th>\n",
       "      <td>2019-04-05</td>\n",
       "      <td>60422859.61</td>\n",
       "      <td>-643213.24</td>\n",
       "    </tr>\n",
       "  </tbody>\n",
       "</table>\n",
       "</div>"
      ],
      "text/plain": [
       "  Billing Date  Net Value in Doc Currency  Sales_diff\n",
       "0   2019-04-01                50648642.57         NaN\n",
       "1   2019-04-02                49487702.60 -1160939.97\n",
       "2   2019-04-03                58869847.96  9382145.36\n",
       "3   2019-04-04                61066072.85  2196224.89\n",
       "4   2019-04-05                60422859.61  -643213.24"
      ]
     },
     "execution_count": 17,
     "metadata": {},
     "output_type": "execute_result"
    }
   ],
   "source": [
    "data.head()"
   ]
  },
  {
   "cell_type": "code",
   "execution_count": 18,
   "metadata": {},
   "outputs": [],
   "source": [
    "data = data.dropna()"
   ]
  },
  {
   "cell_type": "code",
   "execution_count": 19,
   "metadata": {},
   "outputs": [
    {
     "data": {
      "text/plain": [
       "Text(0, 0.5, 'Diff')"
      ]
     },
     "execution_count": 19,
     "metadata": {},
     "output_type": "execute_result"
    },
    {
     "data": {
      "image/png": "[encoded data removed]",
      "text/plain": [
       "<Figure size 432x288 with 1 Axes>"
      ]
     },
     "metadata": {
      "needs_background": "light"
     },
     "output_type": "display_data"
    }
   ],
   "source": [
    "plt.plot(data['Billing Date'] , data['Sales_diff'] , color='Blue')\n",
    "plt.xlabel('Date')\n",
    "plt.ylabel('Diff')"
   ]
  },
  {
   "cell_type": "markdown",
   "metadata": {},
   "source": [
    "# Predict for 1 future date"
   ]
  },
  {
   "cell_type": "code",
   "execution_count": 237,
   "metadata": {},
   "outputs": [],
   "source": [
    "# dt_data = data.set_index('Billing Date').drop('Net Value in Doc Currency' , axis = 1)\n",
    "# dt_data.dropna(axis = 0)\n",
    "# dt_data.head()"
   ]
  },
  {
   "cell_type": "code",
   "execution_count": 20,
   "metadata": {},
   "outputs": [
    {
     "data": {
      "text/html": [
       "<div>\n",
       "<style scoped>\n",
       "    .dataframe tbody tr th:only-of-type {\n",
       "        vertical-align: middle;\n",
       "    }\n",
       "\n",
       "    .dataframe tbody tr th {\n",
       "        vertical-align: top;\n",
       "    }\n",
       "\n",
       "    .dataframe thead th {\n",
       "        text-align: right;\n",
       "    }\n",
       "</style>\n",
       "<table border=\"1\" class=\"dataframe\">\n",
       "  <thead>\n",
       "    <tr style=\"text-align: right;\">\n",
       "      <th></th>\n",
       "      <th>Billing Date</th>\n",
       "      <th>Net Value in Doc Currency</th>\n",
       "      <th>Sales_diff</th>\n",
       "      <th>lag_1</th>\n",
       "      <th>lag_2</th>\n",
       "      <th>lag_3</th>\n",
       "      <th>lag_4</th>\n",
       "      <th>lag_5</th>\n",
       "      <th>lag_6</th>\n",
       "      <th>lag_7</th>\n",
       "      <th>lag_8</th>\n",
       "      <th>lag_9</th>\n",
       "      <th>lag_10</th>\n",
       "      <th>lag_11</th>\n",
       "      <th>lag_12</th>\n",
       "      <th>lag_13</th>\n",
       "      <th>lag_14</th>\n",
       "      <th>lag_15</th>\n",
       "    </tr>\n",
       "  </thead>\n",
       "  <tbody>\n",
       "    <tr>\n",
       "      <th>0</th>\n",
       "      <td>2019-04-17</td>\n",
       "      <td>63069820.94</td>\n",
       "      <td>2476806.48</td>\n",
       "      <td>4004410.68</td>\n",
       "      <td>-274677.10</td>\n",
       "      <td>-1713113.84</td>\n",
       "      <td>-6214129.37</td>\n",
       "      <td>7358203.59</td>\n",
       "      <td>-6818769.87</td>\n",
       "      <td>8813581.75</td>\n",
       "      <td>2888627.99</td>\n",
       "      <td>1749793.80</td>\n",
       "      <td>-8545099.89</td>\n",
       "      <td>-1078672.89</td>\n",
       "      <td>-643213.24</td>\n",
       "      <td>2196224.89</td>\n",
       "      <td>9382145.36</td>\n",
       "      <td>-1160939.97</td>\n",
       "    </tr>\n",
       "    <tr>\n",
       "      <th>1</th>\n",
       "      <td>2019-04-18</td>\n",
       "      <td>57417478.86</td>\n",
       "      <td>-5652342.08</td>\n",
       "      <td>2476806.48</td>\n",
       "      <td>4004410.68</td>\n",
       "      <td>-274677.10</td>\n",
       "      <td>-1713113.84</td>\n",
       "      <td>-6214129.37</td>\n",
       "      <td>7358203.59</td>\n",
       "      <td>-6818769.87</td>\n",
       "      <td>8813581.75</td>\n",
       "      <td>2888627.99</td>\n",
       "      <td>1749793.80</td>\n",
       "      <td>-8545099.89</td>\n",
       "      <td>-1078672.89</td>\n",
       "      <td>-643213.24</td>\n",
       "      <td>2196224.89</td>\n",
       "      <td>9382145.36</td>\n",
       "    </tr>\n",
       "    <tr>\n",
       "      <th>2</th>\n",
       "      <td>2019-04-19</td>\n",
       "      <td>59960667.17</td>\n",
       "      <td>2543188.31</td>\n",
       "      <td>-5652342.08</td>\n",
       "      <td>2476806.48</td>\n",
       "      <td>4004410.68</td>\n",
       "      <td>-274677.10</td>\n",
       "      <td>-1713113.84</td>\n",
       "      <td>-6214129.37</td>\n",
       "      <td>7358203.59</td>\n",
       "      <td>-6818769.87</td>\n",
       "      <td>8813581.75</td>\n",
       "      <td>2888627.99</td>\n",
       "      <td>1749793.80</td>\n",
       "      <td>-8545099.89</td>\n",
       "      <td>-1078672.89</td>\n",
       "      <td>-643213.24</td>\n",
       "      <td>2196224.89</td>\n",
       "    </tr>\n",
       "    <tr>\n",
       "      <th>3</th>\n",
       "      <td>2019-04-20</td>\n",
       "      <td>56352448.08</td>\n",
       "      <td>-3608219.09</td>\n",
       "      <td>2543188.31</td>\n",
       "      <td>-5652342.08</td>\n",
       "      <td>2476806.48</td>\n",
       "      <td>4004410.68</td>\n",
       "      <td>-274677.10</td>\n",
       "      <td>-1713113.84</td>\n",
       "      <td>-6214129.37</td>\n",
       "      <td>7358203.59</td>\n",
       "      <td>-6818769.87</td>\n",
       "      <td>8813581.75</td>\n",
       "      <td>2888627.99</td>\n",
       "      <td>1749793.80</td>\n",
       "      <td>-8545099.89</td>\n",
       "      <td>-1078672.89</td>\n",
       "      <td>-643213.24</td>\n",
       "    </tr>\n",
       "    <tr>\n",
       "      <th>4</th>\n",
       "      <td>2019-04-21</td>\n",
       "      <td>45337782.65</td>\n",
       "      <td>-11014665.43</td>\n",
       "      <td>-3608219.09</td>\n",
       "      <td>2543188.31</td>\n",
       "      <td>-5652342.08</td>\n",
       "      <td>2476806.48</td>\n",
       "      <td>4004410.68</td>\n",
       "      <td>-274677.10</td>\n",
       "      <td>-1713113.84</td>\n",
       "      <td>-6214129.37</td>\n",
       "      <td>7358203.59</td>\n",
       "      <td>-6818769.87</td>\n",
       "      <td>8813581.75</td>\n",
       "      <td>2888627.99</td>\n",
       "      <td>1749793.80</td>\n",
       "      <td>-8545099.89</td>\n",
       "      <td>-1078672.89</td>\n",
       "    </tr>\n",
       "  </tbody>\n",
       "</table>\n",
       "</div>"
      ],
      "text/plain": [
       "  Billing Date  Net Value in Doc Currency   Sales_diff       lag_1  \\\n",
       "0   2019-04-17                63069820.94   2476806.48  4004410.68   \n",
       "1   2019-04-18                57417478.86  -5652342.08  2476806.48   \n",
       "2   2019-04-19                59960667.17   2543188.31 -5652342.08   \n",
       "3   2019-04-20                56352448.08  -3608219.09  2543188.31   \n",
       "4   2019-04-21                45337782.65 -11014665.43 -3608219.09   \n",
       "\n",
       "        lag_2       lag_3       lag_4       lag_5       lag_6       lag_7  \\\n",
       "0  -274677.10 -1713113.84 -6214129.37  7358203.59 -6818769.87  8813581.75   \n",
       "1  4004410.68  -274677.10 -1713113.84 -6214129.37  7358203.59 -6818769.87   \n",
       "2  2476806.48  4004410.68  -274677.10 -1713113.84 -6214129.37  7358203.59   \n",
       "3 -5652342.08  2476806.48  4004410.68  -274677.10 -1713113.84 -6214129.37   \n",
       "4  2543188.31 -5652342.08  2476806.48  4004410.68  -274677.10 -1713113.84   \n",
       "\n",
       "        lag_8       lag_9      lag_10      lag_11      lag_12      lag_13  \\\n",
       "0  2888627.99  1749793.80 -8545099.89 -1078672.89  -643213.24  2196224.89   \n",
       "1  8813581.75  2888627.99  1749793.80 -8545099.89 -1078672.89  -643213.24   \n",
       "2 -6818769.87  8813581.75  2888627.99  1749793.80 -8545099.89 -1078672.89   \n",
       "3  7358203.59 -6818769.87  8813581.75  2888627.99  1749793.80 -8545099.89   \n",
       "4 -6214129.37  7358203.59 -6818769.87  8813581.75  2888627.99  1749793.80   \n",
       "\n",
       "       lag_14      lag_15  \n",
       "0  9382145.36 -1160939.97  \n",
       "1  2196224.89  9382145.36  \n",
       "2  -643213.24  2196224.89  \n",
       "3 -1078672.89  -643213.24  \n",
       "4 -8545099.89 -1078672.89  "
      ]
     },
     "execution_count": 20,
     "metadata": {},
     "output_type": "execute_result"
    }
   ],
   "source": [
    "# taking 15 days as lookback\n",
    "for i in range(1 , 16):\n",
    "    col = 'lag_' + str(i)\n",
    "    data[col] = data['Sales_diff'].shift(i)\n",
    "    \n",
    "data = data.dropna().reset_index(drop=True)\n",
    "data.head()"
   ]
  },
  {
   "cell_type": "code",
   "execution_count": 21,
   "metadata": {},
   "outputs": [
    {
     "data": {
      "text/html": [
       "<div>\n",
       "<style scoped>\n",
       "    .dataframe tbody tr th:only-of-type {\n",
       "        vertical-align: middle;\n",
       "    }\n",
       "\n",
       "    .dataframe tbody tr th {\n",
       "        vertical-align: top;\n",
       "    }\n",
       "\n",
       "    .dataframe thead th {\n",
       "        text-align: right;\n",
       "    }\n",
       "</style>\n",
       "<table border=\"1\" class=\"dataframe\">\n",
       "  <thead>\n",
       "    <tr style=\"text-align: right;\">\n",
       "      <th></th>\n",
       "      <th>Sales_diff</th>\n",
       "      <th>lag_1</th>\n",
       "      <th>lag_2</th>\n",
       "      <th>lag_3</th>\n",
       "      <th>lag_4</th>\n",
       "      <th>lag_5</th>\n",
       "      <th>lag_6</th>\n",
       "      <th>lag_7</th>\n",
       "      <th>lag_8</th>\n",
       "      <th>lag_9</th>\n",
       "      <th>lag_10</th>\n",
       "      <th>lag_11</th>\n",
       "      <th>lag_12</th>\n",
       "      <th>lag_13</th>\n",
       "      <th>lag_14</th>\n",
       "      <th>lag_15</th>\n",
       "    </tr>\n",
       "  </thead>\n",
       "  <tbody>\n",
       "    <tr>\n",
       "      <th>74</th>\n",
       "      <td>-4222416.94</td>\n",
       "      <td>-4564028.55</td>\n",
       "      <td>3626696.92</td>\n",
       "      <td>-6248510.58</td>\n",
       "      <td>2479960.24</td>\n",
       "      <td>-10157764.82</td>\n",
       "      <td>24790713.81</td>\n",
       "      <td>-13204133.78</td>\n",
       "      <td>-4831902.57</td>\n",
       "      <td>7485924.97</td>\n",
       "      <td>-1278581.14</td>\n",
       "      <td>3097617.63</td>\n",
       "      <td>2102590.36</td>\n",
       "      <td>15262964.59</td>\n",
       "      <td>-6606465.28</td>\n",
       "      <td>-13106653.61</td>\n",
       "    </tr>\n",
       "  </tbody>\n",
       "</table>\n",
       "</div>"
      ],
      "text/plain": [
       "    Sales_diff       lag_1       lag_2       lag_3       lag_4        lag_5  \\\n",
       "74 -4222416.94 -4564028.55  3626696.92 -6248510.58  2479960.24 -10157764.82   \n",
       "\n",
       "          lag_6        lag_7       lag_8       lag_9      lag_10      lag_11  \\\n",
       "74  24790713.81 -13204133.78 -4831902.57  7485924.97 -1278581.14  3097617.63   \n",
       "\n",
       "        lag_12       lag_13      lag_14       lag_15  \n",
       "74  2102590.36  15262964.59 -6606465.28 -13106653.61  "
      ]
     },
     "execution_count": 21,
     "metadata": {},
     "output_type": "execute_result"
    }
   ],
   "source": [
    "# Just predict net worth on last date & compare\n",
    "X_test = data.iloc[[-1]]\n",
    "y_test = X_test['Net Value in Doc Currency']\n",
    "X_test.drop(['Net Value in Doc Currency' , 'Billing Date'] , axis = 1 , inplace = True)\n",
    "X_test.head()"
   ]
  },
  {
   "cell_type": "code",
   "execution_count": 22,
   "metadata": {},
   "outputs": [
    {
     "data": {
      "text/plain": [
       "(1, 16)"
      ]
     },
     "execution_count": 22,
     "metadata": {},
     "output_type": "execute_result"
    }
   ],
   "source": [
    "X_test.shape"
   ]
  },
  {
   "cell_type": "code",
   "execution_count": 23,
   "metadata": {},
   "outputs": [],
   "source": [
    "X_train = data.drop(index=data.index[-1], axis=0)\n",
    "y_train = X_train['Net Value in Doc Currency']\n",
    "X_train.drop(['Net Value in Doc Currency' , 'Billing Date'] , axis = 1 , inplace = True)"
   ]
  },
  {
   "cell_type": "code",
   "execution_count": 24,
   "metadata": {},
   "outputs": [
    {
     "name": "stdout",
     "output_type": "stream",
     "text": [
      "(1, 16) (1,) (74, 16) (74,)\n"
     ]
    }
   ],
   "source": [
    "print(X_test.shape , y_test.shape , X_train.shape , y_train.shape)"
   ]
  },
  {
   "cell_type": "markdown",
   "metadata": {},
   "source": [
    "### Linear regression"
   ]
  },
  {
   "cell_type": "code",
   "execution_count": 25,
   "metadata": {},
   "outputs": [],
   "source": [
    "from sklearn.linear_model import LinearRegression\n",
    "model = LinearRegression().fit(X_train,y_train)\n",
    "y_pred = model.predict(X_test)"
   ]
  },
  {
   "cell_type": "code",
   "execution_count": 26,
   "metadata": {},
   "outputs": [
    {
     "name": "stdout",
     "output_type": "stream",
     "text": [
      "74    69357869.46\n",
      "Name: Net Value in Doc Currency, dtype: float64\n",
      "[59916348.35031406]\n"
     ]
    }
   ],
   "source": [
    "print(y_test)\n",
    "print(y_pred)"
   ]
  },
  {
   "cell_type": "markdown",
   "metadata": {},
   "source": [
    "### Random Forest regression"
   ]
  },
  {
   "cell_type": "code",
   "execution_count": 27,
   "metadata": {},
   "outputs": [],
   "source": [
    "from sklearn.ensemble import RandomForestRegressor\n",
    "model=RandomForestRegressor().fit(X_train,y_train)\n",
    "y_pred = model.predict(X_test)"
   ]
  },
  {
   "cell_type": "code",
   "execution_count": 28,
   "metadata": {},
   "outputs": [
    {
     "name": "stdout",
     "output_type": "stream",
     "text": [
      "74    69357869.46\n",
      "Name: Net Value in Doc Currency, dtype: float64\n",
      "[55639141.33899996]\n"
     ]
    }
   ],
   "source": [
    "print(y_test)\n",
    "print(y_pred)"
   ]
  },
  {
   "cell_type": "markdown",
   "metadata": {},
   "source": [
    "### Knn Regressor"
   ]
  },
  {
   "cell_type": "code",
   "execution_count": 29,
   "metadata": {},
   "outputs": [],
   "source": [
    "from sklearn.neighbors import KNeighborsRegressor\n",
    "model = KNeighborsRegressor().fit(X_train,y_train)\n",
    "y_pred = model.predict(X_test)"
   ]
  },
  {
   "cell_type": "code",
   "execution_count": 30,
   "metadata": {},
   "outputs": [
    {
     "name": "stdout",
     "output_type": "stream",
     "text": [
      "74    69357869.46\n",
      "Name: Net Value in Doc Currency, dtype: float64\n",
      "[54592069.89199997]\n"
     ]
    }
   ],
   "source": [
    "print(y_test)\n",
    "print(y_pred)"
   ]
  },
  {
   "cell_type": "markdown",
   "metadata": {},
   "source": [
    "### Decision Tree regressor"
   ]
  },
  {
   "cell_type": "code",
   "execution_count": 31,
   "metadata": {},
   "outputs": [],
   "source": [
    "from sklearn.tree import DecisionTreeRegressor\n",
    "model = DecisionTreeRegressor().fit(X_train,y_train)\n",
    "y_pred = model.predict(X_test)"
   ]
  },
  {
   "cell_type": "code",
   "execution_count": 32,
   "metadata": {},
   "outputs": [
    {
     "name": "stdout",
     "output_type": "stream",
     "text": [
      "74    69357869.46\n",
      "Name: Net Value in Doc Currency, dtype: float64\n",
      "[55018739.32000002]\n"
     ]
    }
   ],
   "source": [
    "print(y_test)\n",
    "print(y_pred)"
   ]
  },
  {
   "cell_type": "markdown",
   "metadata": {},
   "source": [
    "------------------------------------------------------Process Ends-------------------------------------------------------------"
   ]
  },
  {
   "cell_type": "markdown",
   "metadata": {},
   "source": [
    "# Split into train test data(80 - 20)"
   ]
  },
  {
   "cell_type": "markdown",
   "metadata": {},
   "source": [
    "As in splitting we are giving random shuffle to data model accuracy is low.\n",
    "So, above method is more accurate."
   ]
  },
  {
   "cell_type": "code",
   "execution_count": 33,
   "metadata": {},
   "outputs": [],
   "source": [
    "X = data.drop(['Net Value in Doc Currency' , 'Billing Date'] , axis = 1)\n",
    "y = data['Net Value in Doc Currency']"
   ]
  },
  {
   "cell_type": "code",
   "execution_count": 34,
   "metadata": {},
   "outputs": [],
   "source": [
    "from sklearn.model_selection import train_test_split\n",
    "X_train,X_test,y_train,y_test=train_test_split(X,y,test_size=0.1,random_state = 15)"
   ]
  },
  {
   "cell_type": "markdown",
   "metadata": {},
   "source": [
    "### Linear Regression"
   ]
  },
  {
   "cell_type": "code",
   "execution_count": 35,
   "metadata": {},
   "outputs": [],
   "source": [
    "from sklearn.linear_model import LinearRegression\n",
    "model = LinearRegression().fit(X_train,y_train)\n",
    "y_pred = model.predict(X_test)"
   ]
  },
  {
   "cell_type": "code",
   "execution_count": 36,
   "metadata": {},
   "outputs": [
    {
     "name": "stdout",
     "output_type": "stream",
     "text": [
      "r2 score: 0.6170440185556463\n"
     ]
    }
   ],
   "source": [
    "print('r2 score:' , metrics.r2_score(y_test,y_pred))"
   ]
  },
  {
   "cell_type": "markdown",
   "metadata": {},
   "source": [
    "### Random Forest Regression"
   ]
  },
  {
   "cell_type": "code",
   "execution_count": 37,
   "metadata": {},
   "outputs": [],
   "source": [
    "from sklearn.ensemble import RandomForestRegressor\n",
    "model=RandomForestRegressor().fit(X_train,y_train)\n",
    "y_pred = model.predict(X_test)"
   ]
  },
  {
   "cell_type": "code",
   "execution_count": 38,
   "metadata": {},
   "outputs": [
    {
     "name": "stdout",
     "output_type": "stream",
     "text": [
      "r2 score: 0.475029255848189\n"
     ]
    }
   ],
   "source": [
    "print('r2 score:' , metrics.r2_score(y_test,y_pred))"
   ]
  },
  {
   "cell_type": "markdown",
   "metadata": {},
   "source": [
    "### Knn Regression"
   ]
  },
  {
   "cell_type": "code",
   "execution_count": 39,
   "metadata": {},
   "outputs": [],
   "source": [
    "from sklearn.neighbors import KNeighborsRegressor\n",
    "model = KNeighborsRegressor().fit(X_train,y_train)\n",
    "y_pred = model.predict(X_test)"
   ]
  },
  {
   "cell_type": "code",
   "execution_count": 40,
   "metadata": {},
   "outputs": [
    {
     "name": "stdout",
     "output_type": "stream",
     "text": [
      "r2 score: 0.3888621197019846\n"
     ]
    }
   ],
   "source": [
    "print('r2 score:' , metrics.r2_score(y_test,y_pred))"
   ]
  },
  {
   "cell_type": "markdown",
   "metadata": {},
   "source": [
    "### Decision Tree Regression"
   ]
  },
  {
   "cell_type": "code",
   "execution_count": 41,
   "metadata": {},
   "outputs": [],
   "source": [
    "from sklearn.tree import DecisionTreeRegressor\n",
    "model = DecisionTreeRegressor().fit(X_train,y_train)\n",
    "y_pred = model.predict(X_test)"
   ]
  },
  {
   "cell_type": "code",
   "execution_count": 42,
   "metadata": {},
   "outputs": [
    {
     "name": "stdout",
     "output_type": "stream",
     "text": [
      "r2 score: 0.1974180181180354\n"
     ]
    }
   ],
   "source": [
    "# Accuracy is small bcz random state is zero\n",
    "# By removing random state accuracy can be increased\n",
    "print('r2 score:' , metrics.r2_score(y_test,y_pred))"
   ]
  },
  {
   "cell_type": "code",
   "execution_count": 50,
   "metadata": {},
   "outputs": [
    {
     "name": "stdout",
     "output_type": "stream",
     "text": [
      "['2019-06-23', '2019-06-24', '2019-06-25', '2019-06-26', '2019-06-27', '2019-06-28', '2019-06-29', '2019-06-30']\n"
     ]
    }
   ],
   "source": [
    "dates = data['Billing Date'].tolist()\n",
    "print(dates[-8:])"
   ]
  },
  {
   "cell_type": "code",
   "execution_count": 71,
   "metadata": {},
   "outputs": [],
   "source": [
    "import matplotlib.pyplot as plt\n",
    "# Create a function to plot time series data\n",
    "def plot_time_series(timesteps , values , color , format='.' , label=None):\n",
    "  # Plot the series\n",
    "    plt.plot(timesteps, values, format, label=label , color = color)\n",
    "    plt.xlabel(\"Time\")\n",
    "    plt.ylabel(\"Price\")\n",
    "    if label:\n",
    "        plt.legend(fontsize=14) # make label bigger\n",
    "    plt.grid(False)"
   ]
  },
  {
   "cell_type": "code",
   "execution_count": 44,
   "metadata": {},
   "outputs": [],
   "source": [
    "import tensorflow as tf\n",
    "def upper_lower(y_true , y_pred):\n",
    "    y_true = tf.cast(y_true, dtype=tf.float32)\n",
    "    y_pred = tf.cast(y_pred, dtype=tf.float32)\n",
    "    upper = y_pred + (y_pred/10)\n",
    "    lower = y_pred - (y_pred/10)\n",
    "    return upper , lower"
   ]
  },
  {
   "cell_type": "code",
   "execution_count": 45,
   "metadata": {},
   "outputs": [],
   "source": [
    "upper , lower = upper_lower(y_test , y_pred)"
   ]
  },
  {
   "cell_type": "code",
   "execution_count": 53,
   "metadata": {},
   "outputs": [
    {
     "data": {
      "text/plain": [
       "((8,), (8,))"
      ]
     },
     "execution_count": 53,
     "metadata": {},
     "output_type": "execute_result"
    }
   ],
   "source": [
    "y_test.shape , y_pred.shape"
   ]
  },
  {
   "cell_type": "code",
   "execution_count": 74,
   "metadata": {},
   "outputs": [
    {
     "data": {
      "image/png": "[encoded data removed]",
      "text/plain": [
       "<Figure size 720x504 with 1 Axes>"
      ]
     },
     "metadata": {
      "needs_background": "light"
     },
     "output_type": "display_data"
    }
   ],
   "source": [
    "fig = plt.figure(figsize=(10, 7))\n",
    "# Account for the test_window offset and index into test_labels to ensure correct plotting\n",
    "plot_time_series(timesteps = dates[-8:] , values = np.array(y_test) , format=\"-\", label=\"Original Data\" , color = 'orange')\n",
    "plot_time_series(timesteps = dates[-8:] , values = y_pred.tolist() , format=\"-\", label=\"Model Prediction\" , color = '#0E83C5')\n",
    "plt.fill_between(x = dates[-8:] , y1 = upper , y2 = lower , color = '#ACD9E7')\n",
    "plt.ylabel('Sales')\n",
    "fig.savefig(\"Decision Tree.png\")"
   ]
  },
  {
   "cell_type": "code",
   "execution_count": 65,
   "metadata": {},
   "outputs": [
    {
     "name": "stdout",
     "output_type": "stream",
     "text": [
      "tf.Tensor(\n",
      "[73493050. 72319610. 74864750. 65956736. 88842744. 63159228. 64049084.\n",
      " 55034810.], shape=(8,), dtype=float32)\n",
      "['2019-06-23', '2019-06-24', '2019-06-25', '2019-06-26', '2019-06-27', '2019-06-28', '2019-06-29', '2019-06-30']\n",
      "tf.Tensor(\n",
      "[60130676. 59170590. 61252976. 53964600. 72689510. 51675732. 52403796.\n",
      " 45028480.], shape=(8,), dtype=float32)\n"
     ]
    }
   ],
   "source": [
    "print(upper)\n",
    "print(dates[-8:])\n",
    "print(lower)"
   ]
  },
  {
   "cell_type": "code",
   "execution_count": 63,
   "metadata": {},
   "outputs": [
    {
     "name": "stdout",
     "output_type": "stream",
     "text": [
      "2019-06-23\n"
     ]
    }
   ],
   "source": [
    "date = dates[-8:]\n",
    "print(date)"
   ]
  }
 ],
 "metadata": {
  "kernelspec": {
   "display_name": "Python 3",
   "language": "python",
   "name": "python3"
  },
  "language_info": {
   "codemirror_mode": {
    "name": "ipython",
    "version": 3
   },
   "file_extension": ".py",
   "mimetype": "text/x-python",
   "name": "python",
   "nbconvert_exporter": "python",
   "pygments_lexer": "ipython3",
   "version": "3.8.8"
  }
 },
 "nbformat": 4,
 "nbformat_minor": 2
}
