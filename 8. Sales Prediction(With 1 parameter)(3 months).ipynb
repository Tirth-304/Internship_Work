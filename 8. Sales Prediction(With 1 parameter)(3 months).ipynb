{
 "cells": [
  {
   "cell_type": "markdown",
   "id": "8e558dcb",
   "metadata": {},
   "source": [
    "# Without OnehotEncoding"
   ]
  },
  {
   "cell_type": "markdown",
   "id": "5e62e209",
   "metadata": {},
   "source": [
    "# Import Dataset & Convert it into needed form"
   ]
  },
  {
   "cell_type": "code",
   "execution_count": 1,
   "id": "5579cbca",
   "metadata": {},
   "outputs": [],
   "source": [
    "import pandas as pd\n",
    "data = pd.read_excel('E:/Sales (2).xlsx')"
   ]
  },
  {
   "cell_type": "code",
   "execution_count": 2,
   "id": "4e450dcc",
   "metadata": {},
   "outputs": [
    {
     "data": {
      "text/html": [
       "<div>\n",
       "<style scoped>\n",
       "    .dataframe tbody tr th:only-of-type {\n",
       "        vertical-align: middle;\n",
       "    }\n",
       "\n",
       "    .dataframe tbody tr th {\n",
       "        vertical-align: top;\n",
       "    }\n",
       "\n",
       "    .dataframe thead th {\n",
       "        text-align: right;\n",
       "    }\n",
       "</style>\n",
       "<table border=\"1\" class=\"dataframe\">\n",
       "  <thead>\n",
       "    <tr style=\"text-align: right;\">\n",
       "      <th></th>\n",
       "      <th>Billing Date</th>\n",
       "      <th>Customer</th>\n",
       "      <th>Material Number</th>\n",
       "      <th>Material Group</th>\n",
       "      <th>Qty</th>\n",
       "      <th>UoM</th>\n",
       "      <th>Net Value in Doc Currency</th>\n",
       "    </tr>\n",
       "  </thead>\n",
       "  <tbody>\n",
       "    <tr>\n",
       "      <th>0</th>\n",
       "      <td>2019-04-01</td>\n",
       "      <td>10000519</td>\n",
       "      <td>300216</td>\n",
       "      <td>10000001</td>\n",
       "      <td>960.0</td>\n",
       "      <td>KG</td>\n",
       "      <td>67200.00</td>\n",
       "    </tr>\n",
       "    <tr>\n",
       "      <th>1</th>\n",
       "      <td>2019-04-01</td>\n",
       "      <td>10002347</td>\n",
       "      <td>300204</td>\n",
       "      <td>10000001</td>\n",
       "      <td>82.0</td>\n",
       "      <td>KG</td>\n",
       "      <td>3717.06</td>\n",
       "    </tr>\n",
       "    <tr>\n",
       "      <th>2</th>\n",
       "      <td>2019-04-01</td>\n",
       "      <td>10002347</td>\n",
       "      <td>300236</td>\n",
       "      <td>10000001</td>\n",
       "      <td>4000.0</td>\n",
       "      <td>KG</td>\n",
       "      <td>146720.00</td>\n",
       "    </tr>\n",
       "    <tr>\n",
       "      <th>3</th>\n",
       "      <td>2019-04-01</td>\n",
       "      <td>10002347</td>\n",
       "      <td>300236</td>\n",
       "      <td>10000001</td>\n",
       "      <td>5000.0</td>\n",
       "      <td>KG</td>\n",
       "      <td>183400.00</td>\n",
       "    </tr>\n",
       "    <tr>\n",
       "      <th>4</th>\n",
       "      <td>2019-04-01</td>\n",
       "      <td>10002347</td>\n",
       "      <td>300236</td>\n",
       "      <td>10000001</td>\n",
       "      <td>5500.0</td>\n",
       "      <td>KG</td>\n",
       "      <td>201740.00</td>\n",
       "    </tr>\n",
       "  </tbody>\n",
       "</table>\n",
       "</div>"
      ],
      "text/plain": [
       "  Billing Date  Customer  Material Number  Material Group     Qty UoM  \\\n",
       "0   2019-04-01  10000519           300216        10000001   960.0  KG   \n",
       "1   2019-04-01  10002347           300204        10000001    82.0  KG   \n",
       "2   2019-04-01  10002347           300236        10000001  4000.0  KG   \n",
       "3   2019-04-01  10002347           300236        10000001  5000.0  KG   \n",
       "4   2019-04-01  10002347           300236        10000001  5500.0  KG   \n",
       "\n",
       "   Net Value in Doc Currency  \n",
       "0                   67200.00  \n",
       "1                    3717.06  \n",
       "2                  146720.00  \n",
       "3                  183400.00  \n",
       "4                  201740.00  "
      ]
     },
     "execution_count": 2,
     "metadata": {},
     "output_type": "execute_result"
    }
   ],
   "source": [
    "data.head()"
   ]
  },
  {
   "cell_type": "code",
   "execution_count": 3,
   "id": "550c4b6c",
   "metadata": {},
   "outputs": [
    {
     "name": "stdout",
     "output_type": "stream",
     "text": [
      "<class 'pandas.core.frame.DataFrame'>\n",
      "RangeIndex: 152683 entries, 0 to 152682\n",
      "Data columns (total 7 columns):\n",
      " #   Column                     Non-Null Count   Dtype         \n",
      "---  ------                     --------------   -----         \n",
      " 0   Billing Date               152683 non-null  datetime64[ns]\n",
      " 1   Customer                   152683 non-null  int64         \n",
      " 2   Material Number            152683 non-null  int64         \n",
      " 3   Material Group             152683 non-null  int64         \n",
      " 4   Qty                        152683 non-null  float64       \n",
      " 5   UoM                        152683 non-null  object        \n",
      " 6   Net Value in Doc Currency  152683 non-null  float64       \n",
      "dtypes: datetime64[ns](1), float64(2), int64(3), object(1)\n",
      "memory usage: 8.2+ MB\n"
     ]
    }
   ],
   "source": [
    "data.info()"
   ]
  },
  {
   "cell_type": "code",
   "execution_count": 4,
   "id": "fc49273e",
   "metadata": {},
   "outputs": [],
   "source": [
    "data.drop(['Customer' , 'Material Number' , 'Qty' , 'UoM'] , axis = 1 , inplace = True)"
   ]
  },
  {
   "cell_type": "code",
   "execution_count": 5,
   "id": "e1fc88e8",
   "metadata": {},
   "outputs": [
    {
     "data": {
      "text/html": [
       "<div>\n",
       "<style scoped>\n",
       "    .dataframe tbody tr th:only-of-type {\n",
       "        vertical-align: middle;\n",
       "    }\n",
       "\n",
       "    .dataframe tbody tr th {\n",
       "        vertical-align: top;\n",
       "    }\n",
       "\n",
       "    .dataframe thead th {\n",
       "        text-align: right;\n",
       "    }\n",
       "</style>\n",
       "<table border=\"1\" class=\"dataframe\">\n",
       "  <thead>\n",
       "    <tr style=\"text-align: right;\">\n",
       "      <th></th>\n",
       "      <th>Billing Date</th>\n",
       "      <th>Material Group</th>\n",
       "      <th>Net Value in Doc Currency</th>\n",
       "    </tr>\n",
       "  </thead>\n",
       "  <tbody>\n",
       "    <tr>\n",
       "      <th>0</th>\n",
       "      <td>2019-04-01</td>\n",
       "      <td>10000001</td>\n",
       "      <td>67200.00</td>\n",
       "    </tr>\n",
       "    <tr>\n",
       "      <th>1</th>\n",
       "      <td>2019-04-01</td>\n",
       "      <td>10000001</td>\n",
       "      <td>3717.06</td>\n",
       "    </tr>\n",
       "    <tr>\n",
       "      <th>2</th>\n",
       "      <td>2019-04-01</td>\n",
       "      <td>10000001</td>\n",
       "      <td>146720.00</td>\n",
       "    </tr>\n",
       "    <tr>\n",
       "      <th>3</th>\n",
       "      <td>2019-04-01</td>\n",
       "      <td>10000001</td>\n",
       "      <td>183400.00</td>\n",
       "    </tr>\n",
       "    <tr>\n",
       "      <th>4</th>\n",
       "      <td>2019-04-01</td>\n",
       "      <td>10000001</td>\n",
       "      <td>201740.00</td>\n",
       "    </tr>\n",
       "  </tbody>\n",
       "</table>\n",
       "</div>"
      ],
      "text/plain": [
       "  Billing Date  Material Group  Net Value in Doc Currency\n",
       "0   2019-04-01        10000001                   67200.00\n",
       "1   2019-04-01        10000001                    3717.06\n",
       "2   2019-04-01        10000001                  146720.00\n",
       "3   2019-04-01        10000001                  183400.00\n",
       "4   2019-04-01        10000001                  201740.00"
      ]
     },
     "execution_count": 5,
     "metadata": {},
     "output_type": "execute_result"
    }
   ],
   "source": [
    "data.head()"
   ]
  },
  {
   "cell_type": "code",
   "execution_count": 6,
   "id": "a664bba3",
   "metadata": {},
   "outputs": [],
   "source": [
    "data.columns = ['Date' , 'Material' , 'Sales']"
   ]
  },
  {
   "cell_type": "code",
   "execution_count": 7,
   "id": "06b5f0b0",
   "metadata": {},
   "outputs": [
    {
     "name": "stdout",
     "output_type": "stream",
     "text": [
      "3265\n"
     ]
    },
    {
     "data": {
      "text/html": [
       "<div>\n",
       "<style scoped>\n",
       "    .dataframe tbody tr th:only-of-type {\n",
       "        vertical-align: middle;\n",
       "    }\n",
       "\n",
       "    .dataframe tbody tr th {\n",
       "        vertical-align: top;\n",
       "    }\n",
       "\n",
       "    .dataframe thead th {\n",
       "        text-align: right;\n",
       "    }\n",
       "</style>\n",
       "<table border=\"1\" class=\"dataframe\">\n",
       "  <thead>\n",
       "    <tr style=\"text-align: right;\">\n",
       "      <th></th>\n",
       "      <th>Date</th>\n",
       "      <th>Material</th>\n",
       "      <th>Sales</th>\n",
       "    </tr>\n",
       "  </thead>\n",
       "  <tbody>\n",
       "    <tr>\n",
       "      <th>0</th>\n",
       "      <td>2019-04-01</td>\n",
       "      <td>10000001</td>\n",
       "      <td>602777.06</td>\n",
       "    </tr>\n",
       "    <tr>\n",
       "      <th>1</th>\n",
       "      <td>2019-04-01</td>\n",
       "      <td>10000002</td>\n",
       "      <td>178063.20</td>\n",
       "    </tr>\n",
       "    <tr>\n",
       "      <th>2</th>\n",
       "      <td>2019-04-01</td>\n",
       "      <td>10000003</td>\n",
       "      <td>216684.00</td>\n",
       "    </tr>\n",
       "    <tr>\n",
       "      <th>3</th>\n",
       "      <td>2019-04-01</td>\n",
       "      <td>10000005</td>\n",
       "      <td>5151641.82</td>\n",
       "    </tr>\n",
       "    <tr>\n",
       "      <th>4</th>\n",
       "      <td>2019-04-01</td>\n",
       "      <td>10000007</td>\n",
       "      <td>2580483.11</td>\n",
       "    </tr>\n",
       "  </tbody>\n",
       "</table>\n",
       "</div>"
      ],
      "text/plain": [
       "         Date  Material       Sales\n",
       "0  2019-04-01  10000001   602777.06\n",
       "1  2019-04-01  10000002   178063.20\n",
       "2  2019-04-01  10000003   216684.00\n",
       "3  2019-04-01  10000005  5151641.82\n",
       "4  2019-04-01  10000007  2580483.11"
      ]
     },
     "execution_count": 7,
     "metadata": {},
     "output_type": "execute_result"
    }
   ],
   "source": [
    "data['Date'] = data['Date'].apply(lambda x: str(x)[:-9])  \n",
    "data = data.groupby(['Date' , 'Material'])['Sales'].sum().reset_index()\n",
    "print(len(data))\n",
    "data.head()"
   ]
  },
  {
   "cell_type": "code",
   "execution_count": 8,
   "id": "39c4f37c",
   "metadata": {},
   "outputs": [
    {
     "name": "stdout",
     "output_type": "stream",
     "text": [
      "[10000001 10000002 10000003 10000005 10000007 10000008 10000009 10000010\n",
      " 10000011 10000012 10000013 10000014 10000015 10000016 10000017 10000018\n",
      " 10000019 10000020 10000021 10000022 10000023 10000024 10000025 10000027\n",
      " 10000028 10000029 10000030 10000031 10000033 10000034 10000035 10000036\n",
      " 10000037 10000039 10000040 10000026 10000004 10000038 10000032 10000006]\n"
     ]
    }
   ],
   "source": [
    "lister = data['Material'].unique()\n",
    "print(lister)"
   ]
  },
  {
   "cell_type": "code",
   "execution_count": 9,
   "id": "0b46a8f2",
   "metadata": {},
   "outputs": [],
   "source": [
    "import numpy as np\n",
    "for i in lister:\n",
    "    data.insert(1 , str(i) , np.zeros(len(data)))"
   ]
  },
  {
   "cell_type": "code",
   "execution_count": 10,
   "id": "a4192d5d",
   "metadata": {},
   "outputs": [
    {
     "data": {
      "text/plain": [
       "10000001    91\n",
       "10000019    91\n",
       "10000007    91\n",
       "10000009    91\n",
       "10000011    91\n",
       "10000013    91\n",
       "10000015    91\n",
       "10000017    91\n",
       "10000021    91\n",
       "10000040    91\n",
       "10000023    91\n",
       "10000029    91\n",
       "10000031    91\n",
       "10000033    91\n",
       "10000035    91\n",
       "10000037    91\n",
       "10000005    91\n",
       "10000039    91\n",
       "10000020    91\n",
       "10000008    91\n",
       "10000010    91\n",
       "10000034    91\n",
       "10000012    91\n",
       "10000030    91\n",
       "10000028    91\n",
       "10000014    91\n",
       "10000024    91\n",
       "10000022    91\n",
       "10000036    91\n",
       "10000018    91\n",
       "10000016    91\n",
       "10000027    89\n",
       "10000025    89\n",
       "10000002    70\n",
       "10000003    63\n",
       "10000004    62\n",
       "10000026    56\n",
       "10000006     7\n",
       "10000032     6\n",
       "10000038     2\n",
       "Name: Material, dtype: int64"
      ]
     },
     "execution_count": 10,
     "metadata": {},
     "output_type": "execute_result"
    }
   ],
   "source": [
    "data['Material'].value_counts()"
   ]
  },
  {
   "cell_type": "code",
   "execution_count": 11,
   "id": "cd1aa6b2",
   "metadata": {},
   "outputs": [
    {
     "data": {
      "text/html": [
       "<div>\n",
       "<style scoped>\n",
       "    .dataframe tbody tr th:only-of-type {\n",
       "        vertical-align: middle;\n",
       "    }\n",
       "\n",
       "    .dataframe tbody tr th {\n",
       "        vertical-align: top;\n",
       "    }\n",
       "\n",
       "    .dataframe thead th {\n",
       "        text-align: right;\n",
       "    }\n",
       "</style>\n",
       "<table border=\"1\" class=\"dataframe\">\n",
       "  <thead>\n",
       "    <tr style=\"text-align: right;\">\n",
       "      <th></th>\n",
       "      <th>Date</th>\n",
       "      <th>10000006</th>\n",
       "      <th>10000032</th>\n",
       "      <th>10000038</th>\n",
       "      <th>10000004</th>\n",
       "      <th>10000026</th>\n",
       "      <th>10000040</th>\n",
       "      <th>10000039</th>\n",
       "      <th>10000037</th>\n",
       "      <th>10000036</th>\n",
       "      <th>...</th>\n",
       "      <th>10000010</th>\n",
       "      <th>10000009</th>\n",
       "      <th>10000008</th>\n",
       "      <th>10000007</th>\n",
       "      <th>10000005</th>\n",
       "      <th>10000003</th>\n",
       "      <th>10000002</th>\n",
       "      <th>10000001</th>\n",
       "      <th>Material</th>\n",
       "      <th>Sales</th>\n",
       "    </tr>\n",
       "  </thead>\n",
       "  <tbody>\n",
       "    <tr>\n",
       "      <th>0</th>\n",
       "      <td>2019-04-01</td>\n",
       "      <td>0.0</td>\n",
       "      <td>0.0</td>\n",
       "      <td>0.0</td>\n",
       "      <td>0.0</td>\n",
       "      <td>0.0</td>\n",
       "      <td>0.0</td>\n",
       "      <td>0.0</td>\n",
       "      <td>0.0</td>\n",
       "      <td>0.0</td>\n",
       "      <td>...</td>\n",
       "      <td>0.0</td>\n",
       "      <td>0.0</td>\n",
       "      <td>0.0</td>\n",
       "      <td>0.0</td>\n",
       "      <td>0.0</td>\n",
       "      <td>0.0</td>\n",
       "      <td>0.0</td>\n",
       "      <td>0.0</td>\n",
       "      <td>10000001</td>\n",
       "      <td>602777.06</td>\n",
       "    </tr>\n",
       "    <tr>\n",
       "      <th>1</th>\n",
       "      <td>2019-04-01</td>\n",
       "      <td>0.0</td>\n",
       "      <td>0.0</td>\n",
       "      <td>0.0</td>\n",
       "      <td>0.0</td>\n",
       "      <td>0.0</td>\n",
       "      <td>0.0</td>\n",
       "      <td>0.0</td>\n",
       "      <td>0.0</td>\n",
       "      <td>0.0</td>\n",
       "      <td>...</td>\n",
       "      <td>0.0</td>\n",
       "      <td>0.0</td>\n",
       "      <td>0.0</td>\n",
       "      <td>0.0</td>\n",
       "      <td>0.0</td>\n",
       "      <td>0.0</td>\n",
       "      <td>0.0</td>\n",
       "      <td>0.0</td>\n",
       "      <td>10000002</td>\n",
       "      <td>178063.20</td>\n",
       "    </tr>\n",
       "    <tr>\n",
       "      <th>2</th>\n",
       "      <td>2019-04-01</td>\n",
       "      <td>0.0</td>\n",
       "      <td>0.0</td>\n",
       "      <td>0.0</td>\n",
       "      <td>0.0</td>\n",
       "      <td>0.0</td>\n",
       "      <td>0.0</td>\n",
       "      <td>0.0</td>\n",
       "      <td>0.0</td>\n",
       "      <td>0.0</td>\n",
       "      <td>...</td>\n",
       "      <td>0.0</td>\n",
       "      <td>0.0</td>\n",
       "      <td>0.0</td>\n",
       "      <td>0.0</td>\n",
       "      <td>0.0</td>\n",
       "      <td>0.0</td>\n",
       "      <td>0.0</td>\n",
       "      <td>0.0</td>\n",
       "      <td>10000003</td>\n",
       "      <td>216684.00</td>\n",
       "    </tr>\n",
       "    <tr>\n",
       "      <th>3</th>\n",
       "      <td>2019-04-01</td>\n",
       "      <td>0.0</td>\n",
       "      <td>0.0</td>\n",
       "      <td>0.0</td>\n",
       "      <td>0.0</td>\n",
       "      <td>0.0</td>\n",
       "      <td>0.0</td>\n",
       "      <td>0.0</td>\n",
       "      <td>0.0</td>\n",
       "      <td>0.0</td>\n",
       "      <td>...</td>\n",
       "      <td>0.0</td>\n",
       "      <td>0.0</td>\n",
       "      <td>0.0</td>\n",
       "      <td>0.0</td>\n",
       "      <td>0.0</td>\n",
       "      <td>0.0</td>\n",
       "      <td>0.0</td>\n",
       "      <td>0.0</td>\n",
       "      <td>10000005</td>\n",
       "      <td>5151641.82</td>\n",
       "    </tr>\n",
       "    <tr>\n",
       "      <th>4</th>\n",
       "      <td>2019-04-01</td>\n",
       "      <td>0.0</td>\n",
       "      <td>0.0</td>\n",
       "      <td>0.0</td>\n",
       "      <td>0.0</td>\n",
       "      <td>0.0</td>\n",
       "      <td>0.0</td>\n",
       "      <td>0.0</td>\n",
       "      <td>0.0</td>\n",
       "      <td>0.0</td>\n",
       "      <td>...</td>\n",
       "      <td>0.0</td>\n",
       "      <td>0.0</td>\n",
       "      <td>0.0</td>\n",
       "      <td>0.0</td>\n",
       "      <td>0.0</td>\n",
       "      <td>0.0</td>\n",
       "      <td>0.0</td>\n",
       "      <td>0.0</td>\n",
       "      <td>10000007</td>\n",
       "      <td>2580483.11</td>\n",
       "    </tr>\n",
       "  </tbody>\n",
       "</table>\n",
       "<p>5 rows × 43 columns</p>\n",
       "</div>"
      ],
      "text/plain": [
       "         Date  10000006  10000032  10000038  10000004  10000026  10000040  \\\n",
       "0  2019-04-01       0.0       0.0       0.0       0.0       0.0       0.0   \n",
       "1  2019-04-01       0.0       0.0       0.0       0.0       0.0       0.0   \n",
       "2  2019-04-01       0.0       0.0       0.0       0.0       0.0       0.0   \n",
       "3  2019-04-01       0.0       0.0       0.0       0.0       0.0       0.0   \n",
       "4  2019-04-01       0.0       0.0       0.0       0.0       0.0       0.0   \n",
       "\n",
       "   10000039  10000037  10000036  ...  10000010  10000009  10000008  10000007  \\\n",
       "0       0.0       0.0       0.0  ...       0.0       0.0       0.0       0.0   \n",
       "1       0.0       0.0       0.0  ...       0.0       0.0       0.0       0.0   \n",
       "2       0.0       0.0       0.0  ...       0.0       0.0       0.0       0.0   \n",
       "3       0.0       0.0       0.0  ...       0.0       0.0       0.0       0.0   \n",
       "4       0.0       0.0       0.0  ...       0.0       0.0       0.0       0.0   \n",
       "\n",
       "   10000005  10000003  10000002  10000001  Material       Sales  \n",
       "0       0.0       0.0       0.0       0.0  10000001   602777.06  \n",
       "1       0.0       0.0       0.0       0.0  10000002   178063.20  \n",
       "2       0.0       0.0       0.0       0.0  10000003   216684.00  \n",
       "3       0.0       0.0       0.0       0.0  10000005  5151641.82  \n",
       "4       0.0       0.0       0.0       0.0  10000007  2580483.11  \n",
       "\n",
       "[5 rows x 43 columns]"
      ]
     },
     "execution_count": 11,
     "metadata": {},
     "output_type": "execute_result"
    }
   ],
   "source": [
    "data.head()"
   ]
  },
  {
   "cell_type": "code",
   "execution_count": 12,
   "id": "7b97246e",
   "metadata": {},
   "outputs": [
    {
     "name": "stdout",
     "output_type": "stream",
     "text": [
      "10000001\n",
      "602777.06\n"
     ]
    }
   ],
   "source": [
    "# print(data[0'Material'])\n",
    "\n",
    "print(str(data.loc[0 , 'Material']))\n",
    "print(data.loc[0 , 'Sales'])\n",
    "\n",
    "for i in range(len(data)):\n",
    "    x = str(data.loc[i , 'Material'])\n",
    "    data.loc[i , x] = data.loc[i , 'Sales']"
   ]
  },
  {
   "cell_type": "code",
   "execution_count": 13,
   "id": "95fc01bb",
   "metadata": {},
   "outputs": [
    {
     "data": {
      "text/html": [
       "<div>\n",
       "<style scoped>\n",
       "    .dataframe tbody tr th:only-of-type {\n",
       "        vertical-align: middle;\n",
       "    }\n",
       "\n",
       "    .dataframe tbody tr th {\n",
       "        vertical-align: top;\n",
       "    }\n",
       "\n",
       "    .dataframe thead th {\n",
       "        text-align: right;\n",
       "    }\n",
       "</style>\n",
       "<table border=\"1\" class=\"dataframe\">\n",
       "  <thead>\n",
       "    <tr style=\"text-align: right;\">\n",
       "      <th></th>\n",
       "      <th>Date</th>\n",
       "      <th>10000006</th>\n",
       "      <th>10000032</th>\n",
       "      <th>10000038</th>\n",
       "      <th>10000004</th>\n",
       "      <th>10000026</th>\n",
       "      <th>10000040</th>\n",
       "      <th>10000039</th>\n",
       "      <th>10000037</th>\n",
       "      <th>10000036</th>\n",
       "      <th>...</th>\n",
       "      <th>10000010</th>\n",
       "      <th>10000009</th>\n",
       "      <th>10000008</th>\n",
       "      <th>10000007</th>\n",
       "      <th>10000005</th>\n",
       "      <th>10000003</th>\n",
       "      <th>10000002</th>\n",
       "      <th>10000001</th>\n",
       "      <th>Material</th>\n",
       "      <th>Sales</th>\n",
       "    </tr>\n",
       "  </thead>\n",
       "  <tbody>\n",
       "    <tr>\n",
       "      <th>0</th>\n",
       "      <td>2019-04-01</td>\n",
       "      <td>0.0</td>\n",
       "      <td>0.0</td>\n",
       "      <td>0.0</td>\n",
       "      <td>0.0</td>\n",
       "      <td>0.0</td>\n",
       "      <td>0.0</td>\n",
       "      <td>0.0</td>\n",
       "      <td>0.0</td>\n",
       "      <td>0.0</td>\n",
       "      <td>...</td>\n",
       "      <td>0.0</td>\n",
       "      <td>0.0</td>\n",
       "      <td>0.0</td>\n",
       "      <td>0.00</td>\n",
       "      <td>0.00</td>\n",
       "      <td>0.0</td>\n",
       "      <td>0.0</td>\n",
       "      <td>602777.06</td>\n",
       "      <td>10000001</td>\n",
       "      <td>602777.06</td>\n",
       "    </tr>\n",
       "    <tr>\n",
       "      <th>1</th>\n",
       "      <td>2019-04-01</td>\n",
       "      <td>0.0</td>\n",
       "      <td>0.0</td>\n",
       "      <td>0.0</td>\n",
       "      <td>0.0</td>\n",
       "      <td>0.0</td>\n",
       "      <td>0.0</td>\n",
       "      <td>0.0</td>\n",
       "      <td>0.0</td>\n",
       "      <td>0.0</td>\n",
       "      <td>...</td>\n",
       "      <td>0.0</td>\n",
       "      <td>0.0</td>\n",
       "      <td>0.0</td>\n",
       "      <td>0.00</td>\n",
       "      <td>0.00</td>\n",
       "      <td>0.0</td>\n",
       "      <td>178063.2</td>\n",
       "      <td>0.00</td>\n",
       "      <td>10000002</td>\n",
       "      <td>178063.20</td>\n",
       "    </tr>\n",
       "    <tr>\n",
       "      <th>2</th>\n",
       "      <td>2019-04-01</td>\n",
       "      <td>0.0</td>\n",
       "      <td>0.0</td>\n",
       "      <td>0.0</td>\n",
       "      <td>0.0</td>\n",
       "      <td>0.0</td>\n",
       "      <td>0.0</td>\n",
       "      <td>0.0</td>\n",
       "      <td>0.0</td>\n",
       "      <td>0.0</td>\n",
       "      <td>...</td>\n",
       "      <td>0.0</td>\n",
       "      <td>0.0</td>\n",
       "      <td>0.0</td>\n",
       "      <td>0.00</td>\n",
       "      <td>0.00</td>\n",
       "      <td>216684.0</td>\n",
       "      <td>0.0</td>\n",
       "      <td>0.00</td>\n",
       "      <td>10000003</td>\n",
       "      <td>216684.00</td>\n",
       "    </tr>\n",
       "    <tr>\n",
       "      <th>3</th>\n",
       "      <td>2019-04-01</td>\n",
       "      <td>0.0</td>\n",
       "      <td>0.0</td>\n",
       "      <td>0.0</td>\n",
       "      <td>0.0</td>\n",
       "      <td>0.0</td>\n",
       "      <td>0.0</td>\n",
       "      <td>0.0</td>\n",
       "      <td>0.0</td>\n",
       "      <td>0.0</td>\n",
       "      <td>...</td>\n",
       "      <td>0.0</td>\n",
       "      <td>0.0</td>\n",
       "      <td>0.0</td>\n",
       "      <td>0.00</td>\n",
       "      <td>5151641.82</td>\n",
       "      <td>0.0</td>\n",
       "      <td>0.0</td>\n",
       "      <td>0.00</td>\n",
       "      <td>10000005</td>\n",
       "      <td>5151641.82</td>\n",
       "    </tr>\n",
       "    <tr>\n",
       "      <th>4</th>\n",
       "      <td>2019-04-01</td>\n",
       "      <td>0.0</td>\n",
       "      <td>0.0</td>\n",
       "      <td>0.0</td>\n",
       "      <td>0.0</td>\n",
       "      <td>0.0</td>\n",
       "      <td>0.0</td>\n",
       "      <td>0.0</td>\n",
       "      <td>0.0</td>\n",
       "      <td>0.0</td>\n",
       "      <td>...</td>\n",
       "      <td>0.0</td>\n",
       "      <td>0.0</td>\n",
       "      <td>0.0</td>\n",
       "      <td>2580483.11</td>\n",
       "      <td>0.00</td>\n",
       "      <td>0.0</td>\n",
       "      <td>0.0</td>\n",
       "      <td>0.00</td>\n",
       "      <td>10000007</td>\n",
       "      <td>2580483.11</td>\n",
       "    </tr>\n",
       "  </tbody>\n",
       "</table>\n",
       "<p>5 rows × 43 columns</p>\n",
       "</div>"
      ],
      "text/plain": [
       "         Date  10000006  10000032  10000038  10000004  10000026  10000040  \\\n",
       "0  2019-04-01       0.0       0.0       0.0       0.0       0.0       0.0   \n",
       "1  2019-04-01       0.0       0.0       0.0       0.0       0.0       0.0   \n",
       "2  2019-04-01       0.0       0.0       0.0       0.0       0.0       0.0   \n",
       "3  2019-04-01       0.0       0.0       0.0       0.0       0.0       0.0   \n",
       "4  2019-04-01       0.0       0.0       0.0       0.0       0.0       0.0   \n",
       "\n",
       "   10000039  10000037  10000036  ...  10000010  10000009  10000008  \\\n",
       "0       0.0       0.0       0.0  ...       0.0       0.0       0.0   \n",
       "1       0.0       0.0       0.0  ...       0.0       0.0       0.0   \n",
       "2       0.0       0.0       0.0  ...       0.0       0.0       0.0   \n",
       "3       0.0       0.0       0.0  ...       0.0       0.0       0.0   \n",
       "4       0.0       0.0       0.0  ...       0.0       0.0       0.0   \n",
       "\n",
       "     10000007    10000005  10000003  10000002   10000001  Material       Sales  \n",
       "0        0.00        0.00       0.0       0.0  602777.06  10000001   602777.06  \n",
       "1        0.00        0.00       0.0  178063.2       0.00  10000002   178063.20  \n",
       "2        0.00        0.00  216684.0       0.0       0.00  10000003   216684.00  \n",
       "3        0.00  5151641.82       0.0       0.0       0.00  10000005  5151641.82  \n",
       "4  2580483.11        0.00       0.0       0.0       0.00  10000007  2580483.11  \n",
       "\n",
       "[5 rows x 43 columns]"
      ]
     },
     "execution_count": 13,
     "metadata": {},
     "output_type": "execute_result"
    }
   ],
   "source": [
    "data.head()"
   ]
  },
  {
   "cell_type": "code",
   "execution_count": 14,
   "id": "9fc955b8",
   "metadata": {},
   "outputs": [
    {
     "name": "stdout",
     "output_type": "stream",
     "text": [
      "3265\n"
     ]
    }
   ],
   "source": [
    "print(len(data))"
   ]
  },
  {
   "cell_type": "code",
   "execution_count": 15,
   "id": "1c8e2d45",
   "metadata": {},
   "outputs": [
    {
     "name": "stdout",
     "output_type": "stream",
     "text": [
      "['10000001', '10000002', '10000003', '10000005', '10000007', '10000008', '10000009', '10000010', '10000011', '10000012', '10000013', '10000014', '10000015', '10000016', '10000017', '10000018', '10000019', '10000020', '10000021', '10000022', '10000023', '10000024', '10000025', '10000027', '10000028', '10000029', '10000030', '10000031', '10000033', '10000034', '10000035', '10000036', '10000037', '10000039', '10000040', '10000026', '10000004', '10000038', '10000032', '10000006', 'Sales']\n"
     ]
    }
   ],
   "source": [
    "# To change datatype of lister which contains \n",
    "lister = list(map(str, lister))\n",
    "lister.append('Sales')\n",
    "print(lister)\n",
    "# lister.remove('Sales')"
   ]
  },
  {
   "cell_type": "code",
   "execution_count": 16,
   "id": "eb2714f3",
   "metadata": {},
   "outputs": [
    {
     "data": {
      "text/html": [
       "<div>\n",
       "<style scoped>\n",
       "    .dataframe tbody tr th:only-of-type {\n",
       "        vertical-align: middle;\n",
       "    }\n",
       "\n",
       "    .dataframe tbody tr th {\n",
       "        vertical-align: top;\n",
       "    }\n",
       "\n",
       "    .dataframe thead th {\n",
       "        text-align: right;\n",
       "    }\n",
       "</style>\n",
       "<table border=\"1\" class=\"dataframe\">\n",
       "  <thead>\n",
       "    <tr style=\"text-align: right;\">\n",
       "      <th></th>\n",
       "      <th>Date</th>\n",
       "      <th>10000001</th>\n",
       "      <th>10000002</th>\n",
       "      <th>10000003</th>\n",
       "      <th>10000005</th>\n",
       "      <th>10000007</th>\n",
       "      <th>10000008</th>\n",
       "      <th>10000009</th>\n",
       "      <th>10000010</th>\n",
       "      <th>10000011</th>\n",
       "      <th>...</th>\n",
       "      <th>10000036</th>\n",
       "      <th>10000037</th>\n",
       "      <th>10000039</th>\n",
       "      <th>10000040</th>\n",
       "      <th>10000026</th>\n",
       "      <th>10000004</th>\n",
       "      <th>10000038</th>\n",
       "      <th>10000032</th>\n",
       "      <th>10000006</th>\n",
       "      <th>Sales</th>\n",
       "    </tr>\n",
       "  </thead>\n",
       "  <tbody>\n",
       "    <tr>\n",
       "      <th>0</th>\n",
       "      <td>2019-04-01</td>\n",
       "      <td>602777.06</td>\n",
       "      <td>178063.2</td>\n",
       "      <td>216684.0</td>\n",
       "      <td>5151641.82</td>\n",
       "      <td>2580483.11</td>\n",
       "      <td>2313731.83</td>\n",
       "      <td>726852.28</td>\n",
       "      <td>170344.82</td>\n",
       "      <td>77752.85</td>\n",
       "      <td>...</td>\n",
       "      <td>1036169.01</td>\n",
       "      <td>3025013.80</td>\n",
       "      <td>355094.46</td>\n",
       "      <td>233812.11</td>\n",
       "      <td>0.0</td>\n",
       "      <td>0.00</td>\n",
       "      <td>0.0</td>\n",
       "      <td>0.0</td>\n",
       "      <td>0.0</td>\n",
       "      <td>50648642.57</td>\n",
       "    </tr>\n",
       "    <tr>\n",
       "      <th>1</th>\n",
       "      <td>2019-04-02</td>\n",
       "      <td>274240.00</td>\n",
       "      <td>2291000.0</td>\n",
       "      <td>0.0</td>\n",
       "      <td>4483264.36</td>\n",
       "      <td>2084867.32</td>\n",
       "      <td>2318207.75</td>\n",
       "      <td>696174.58</td>\n",
       "      <td>180734.52</td>\n",
       "      <td>369328.01</td>\n",
       "      <td>...</td>\n",
       "      <td>996406.24</td>\n",
       "      <td>3078471.84</td>\n",
       "      <td>328726.67</td>\n",
       "      <td>358724.23</td>\n",
       "      <td>0.0</td>\n",
       "      <td>0.00</td>\n",
       "      <td>0.0</td>\n",
       "      <td>0.0</td>\n",
       "      <td>0.0</td>\n",
       "      <td>49429212.10</td>\n",
       "    </tr>\n",
       "    <tr>\n",
       "      <th>2</th>\n",
       "      <td>2019-04-03</td>\n",
       "      <td>1553522.60</td>\n",
       "      <td>0.0</td>\n",
       "      <td>107945.0</td>\n",
       "      <td>5750702.46</td>\n",
       "      <td>2585973.88</td>\n",
       "      <td>2909510.91</td>\n",
       "      <td>876963.24</td>\n",
       "      <td>438047.24</td>\n",
       "      <td>123922.59</td>\n",
       "      <td>...</td>\n",
       "      <td>1423093.67</td>\n",
       "      <td>3607853.01</td>\n",
       "      <td>343502.11</td>\n",
       "      <td>286247.69</td>\n",
       "      <td>49419.6</td>\n",
       "      <td>0.00</td>\n",
       "      <td>0.0</td>\n",
       "      <td>0.0</td>\n",
       "      <td>0.0</td>\n",
       "      <td>58869847.96</td>\n",
       "    </tr>\n",
       "    <tr>\n",
       "      <th>3</th>\n",
       "      <td>2019-04-04</td>\n",
       "      <td>3843352.00</td>\n",
       "      <td>25437.6</td>\n",
       "      <td>0.0</td>\n",
       "      <td>5840138.40</td>\n",
       "      <td>2979784.80</td>\n",
       "      <td>2733588.27</td>\n",
       "      <td>770636.24</td>\n",
       "      <td>251737.51</td>\n",
       "      <td>68695.09</td>\n",
       "      <td>...</td>\n",
       "      <td>1025335.74</td>\n",
       "      <td>3646552.61</td>\n",
       "      <td>669379.13</td>\n",
       "      <td>217040.86</td>\n",
       "      <td>138109.8</td>\n",
       "      <td>0.00</td>\n",
       "      <td>0.0</td>\n",
       "      <td>0.0</td>\n",
       "      <td>0.0</td>\n",
       "      <td>60938957.87</td>\n",
       "    </tr>\n",
       "    <tr>\n",
       "      <th>4</th>\n",
       "      <td>2019-04-05</td>\n",
       "      <td>4205908.00</td>\n",
       "      <td>1657290.0</td>\n",
       "      <td>212734.2</td>\n",
       "      <td>5600504.71</td>\n",
       "      <td>2366882.52</td>\n",
       "      <td>2602766.12</td>\n",
       "      <td>709088.41</td>\n",
       "      <td>630929.56</td>\n",
       "      <td>50410.65</td>\n",
       "      <td>...</td>\n",
       "      <td>1060735.39</td>\n",
       "      <td>3405518.35</td>\n",
       "      <td>284880.90</td>\n",
       "      <td>390380.06</td>\n",
       "      <td>149912.5</td>\n",
       "      <td>811534.88</td>\n",
       "      <td>0.0</td>\n",
       "      <td>0.0</td>\n",
       "      <td>0.0</td>\n",
       "      <td>60422859.61</td>\n",
       "    </tr>\n",
       "  </tbody>\n",
       "</table>\n",
       "<p>5 rows × 42 columns</p>\n",
       "</div>"
      ],
      "text/plain": [
       "         Date    10000001   10000002  10000003    10000005    10000007  \\\n",
       "0  2019-04-01   602777.06   178063.2  216684.0  5151641.82  2580483.11   \n",
       "1  2019-04-02   274240.00  2291000.0       0.0  4483264.36  2084867.32   \n",
       "2  2019-04-03  1553522.60        0.0  107945.0  5750702.46  2585973.88   \n",
       "3  2019-04-04  3843352.00    25437.6       0.0  5840138.40  2979784.80   \n",
       "4  2019-04-05  4205908.00  1657290.0  212734.2  5600504.71  2366882.52   \n",
       "\n",
       "     10000008   10000009   10000010   10000011  ...    10000036    10000037  \\\n",
       "0  2313731.83  726852.28  170344.82   77752.85  ...  1036169.01  3025013.80   \n",
       "1  2318207.75  696174.58  180734.52  369328.01  ...   996406.24  3078471.84   \n",
       "2  2909510.91  876963.24  438047.24  123922.59  ...  1423093.67  3607853.01   \n",
       "3  2733588.27  770636.24  251737.51   68695.09  ...  1025335.74  3646552.61   \n",
       "4  2602766.12  709088.41  630929.56   50410.65  ...  1060735.39  3405518.35   \n",
       "\n",
       "    10000039   10000040  10000026   10000004  10000038  10000032  10000006  \\\n",
       "0  355094.46  233812.11       0.0       0.00       0.0       0.0       0.0   \n",
       "1  328726.67  358724.23       0.0       0.00       0.0       0.0       0.0   \n",
       "2  343502.11  286247.69   49419.6       0.00       0.0       0.0       0.0   \n",
       "3  669379.13  217040.86  138109.8       0.00       0.0       0.0       0.0   \n",
       "4  284880.90  390380.06  149912.5  811534.88       0.0       0.0       0.0   \n",
       "\n",
       "         Sales  \n",
       "0  50648642.57  \n",
       "1  49429212.10  \n",
       "2  58869847.96  \n",
       "3  60938957.87  \n",
       "4  60422859.61  \n",
       "\n",
       "[5 rows x 42 columns]"
      ]
     },
     "execution_count": 16,
     "metadata": {},
     "output_type": "execute_result"
    }
   ],
   "source": [
    "dm = data.groupby(['Date'])[lister].sum().reset_index()\n",
    "dm.head()"
   ]
  },
  {
   "cell_type": "markdown",
   "id": "7642947b",
   "metadata": {},
   "source": [
    "Changes are saved in dm now in data."
   ]
  },
  {
   "cell_type": "markdown",
   "id": "1b7b8d46",
   "metadata": {},
   "source": [
    "# Making Windows"
   ]
  },
  {
   "cell_type": "code",
   "execution_count": 17,
   "id": "10bfff64",
   "metadata": {},
   "outputs": [],
   "source": [
    "# import datetime\n",
    "# # To get previous date\n",
    "# print(datetime.date(*map(int, data.loc[0 , 'Date'].split('-'))) - datetime.timedelta(days=1))"
   ]
  },
  {
   "cell_type": "code",
   "execution_count": 17,
   "id": "e3e34b4c",
   "metadata": {},
   "outputs": [],
   "source": [
    "HORIZON = 1 # predict 1 step at a time\n",
    "WINDOW_SIZE = 7 # use a week worth of timesteps to predict the horizon"
   ]
  },
  {
   "cell_type": "code",
   "execution_count": 18,
   "id": "cbf3e3af",
   "metadata": {},
   "outputs": [
    {
     "name": "stdout",
     "output_type": "stream",
     "text": [
      "['10000001', '10000002', '10000003', '10000005', '10000007', '10000008', '10000009', '10000010', '10000011', '10000012', '10000013', '10000014', '10000015', '10000016', '10000017', '10000018', '10000019', '10000020', '10000021', '10000022', '10000023', '10000024', '10000025', '10000027', '10000028', '10000029', '10000030', '10000031', '10000033', '10000034', '10000035', '10000036', '10000037', '10000039', '10000040', '10000026', '10000004', '10000038', '10000032', '10000006']\n"
     ]
    }
   ],
   "source": [
    "lister.remove('Sales')\n",
    "print(lister)"
   ]
  },
  {
   "cell_type": "code",
   "execution_count": 19,
   "id": "971439a0",
   "metadata": {},
   "outputs": [],
   "source": [
    "def get_windowed_indexes(x , window_size , horizon):\n",
    "    # 1. Create a window of specific window_size (add the horizon on the end for later labelling)\n",
    "    window_step = np.expand_dims(np.arange(window_size+horizon), axis=0)\n",
    "    # print(f\"Window step:\\n {window_step}\")\n",
    "\n",
    "    # 2. Create a 2D array of multiple window steps (minus 1 to account for 0 indexing)\n",
    "    window_indexes = window_step + np.expand_dims(np.arange(len(x)-(window_size+horizon-1)), axis=0).T\n",
    "    \n",
    "    return window_indexes"
   ]
  },
  {
   "cell_type": "code",
   "execution_count": 20,
   "id": "8ceee865",
   "metadata": {},
   "outputs": [
    {
     "name": "stdout",
     "output_type": "stream",
     "text": [
      "(84, 8)\n"
     ]
    }
   ],
   "source": [
    "indexes = get_windowed_indexes(dm , WINDOW_SIZE , HORIZON)\n",
    "print(indexes.shape)"
   ]
  },
  {
   "cell_type": "code",
   "execution_count": 21,
   "id": "d638d324",
   "metadata": {},
   "outputs": [
    {
     "name": "stdout",
     "output_type": "stream",
     "text": [
      "[[1.0, 602777.06, 274240.0, 1553522.6, 3843352.0, 4205908.0, 6881344.0, 6101444.0], [2.0, 178063.2, 2291000.0, 0.0, 25437.6, 1657290.0, 1840.0, 1800.0], [3.0, 216684.0, 0.0, 107945.0, 0.0, 212734.2, 0.0, 136696.8]]\n",
      "[[1329717.0], [17000.0], [57740.25]]\n"
     ]
    }
   ],
   "source": [
    "# window = []\n",
    "# x = dm['10000001'][indexes[0]]\n",
    "# x , y = x[:-1] , x[-1:]\n",
    "# print(x)\n",
    "# print(y.to_list())\n",
    "# x = x.to_numpy()\n",
    "# x = np.insert(x , 0 , int('10000001'))\n",
    "# window.append(x.to_list())\n",
    "\n",
    "full_windows = []\n",
    "full_labels = []\n",
    "for i in indexes:\n",
    "    for j in range(len(lister)):\n",
    "        win = dm[lister[j]][i]\n",
    "        win , label = win[:-1] , win[-1:]\n",
    "        win = win.to_numpy()\n",
    "        window = np.insert(win , 0 , j + 1)\n",
    "        full_windows.append(window.tolist())\n",
    "        full_labels.append(label.to_list())\n",
    "print(full_windows[:3])\n",
    "print(full_labels[:3])"
   ]
  },
  {
   "cell_type": "code",
   "execution_count": 22,
   "id": "d073f987",
   "metadata": {},
   "outputs": [],
   "source": [
    "import tensorflow as tf\n",
    "max_windows_val = tf.math.reduce_max(full_windows)\n",
    "min_windows_val = tf.math.reduce_min(full_windows)\n",
    "range_windows = max_windows_val - min_windows_val\n",
    "\n",
    "max_labels_val = tf.math.reduce_max(full_labels)\n",
    "min_labels_val = tf.math.reduce_min(full_labels)\n",
    "range_labels = max_labels_val - min_labels_val"
   ]
  },
  {
   "cell_type": "code",
   "execution_count": 23,
   "id": "09b600fa",
   "metadata": {},
   "outputs": [
    {
     "name": "stdout",
     "output_type": "stream",
     "text": [
      "tf.Tensor(\n",
      "[[8.65389538e-08 5.21636941e-02 2.37324424e-02 1.34440213e-01\n",
      "  3.32599670e-01 3.63974869e-01 5.95504284e-01 5.28012574e-01]\n",
      " [1.73077908e-07 1.54094035e-02 1.98260739e-01 0.00000000e+00\n",
      "  2.20134319e-03 1.43420145e-01 1.59231669e-04 1.55770118e-04]\n",
      " [2.59616854e-07 1.87516063e-02 0.00000000e+00 9.34144761e-03\n",
      "  0.00000000e+00 1.84097942e-02 0.00000000e+00 1.18295979e-02]], shape=(3, 8), dtype=float32)\n",
      "tf.Tensor(\n",
      "[[0.11507232]\n",
      " [0.00147116]\n",
      " [0.00499678]], shape=(3, 1), dtype=float32)\n"
     ]
    }
   ],
   "source": [
    "full_windows = full_windows / range_windows\n",
    "full_labels = full_labels / range_labels\n",
    "print(full_windows[:3])\n",
    "print(full_labels[:3])"
   ]
  },
  {
   "cell_type": "markdown",
   "id": "ab3812b5",
   "metadata": {},
   "source": [
    "# Train-Test Splitting"
   ]
  },
  {
   "cell_type": "code",
   "execution_count": 25,
   "id": "453c58f4",
   "metadata": {},
   "outputs": [],
   "source": [
    "# Make the train/test splits\n",
    "def make_train_test_splits(windows, labels, test_split=0.2):\n",
    "    split_size = len(windows) - (int(len(windows)*0.2)) # this will default to 80% train/20% test\n",
    "    train_windows = windows[:split_size]\n",
    "    train_labels = labels[:split_size]\n",
    "    test_windows = windows[split_size:]\n",
    "    test_labels = labels[split_size:]\n",
    "    return train_windows, test_windows, train_labels, test_labels"
   ]
  },
  {
   "cell_type": "code",
   "execution_count": 26,
   "id": "9e3e53f3",
   "metadata": {},
   "outputs": [
    {
     "data": {
      "text/plain": [
       "(2688, 672, 2688, 672)"
      ]
     },
     "execution_count": 26,
     "metadata": {},
     "output_type": "execute_result"
    }
   ],
   "source": [
    "train_windows, test_windows, train_labels, test_labels = make_train_test_splits(full_windows, full_labels)\n",
    "len(train_windows), len(test_windows), len(train_labels), len(test_labels)"
   ]
  },
  {
   "cell_type": "code",
   "execution_count": 49,
   "id": "b3da9a26",
   "metadata": {},
   "outputs": [
    {
     "name": "stdout",
     "output_type": "stream",
     "text": [
      "tf.Tensor(\n",
      "[[8.65389538e-08 5.21636941e-02 2.37324424e-02 1.34440213e-01\n",
      "  3.32599670e-01 3.63974869e-01 5.95504284e-01 5.28012574e-01]\n",
      " [1.73077908e-07 1.54094035e-02 1.98260739e-01 0.00000000e+00\n",
      "  2.20134319e-03 1.43420145e-01 1.59231669e-04 1.55770118e-04]\n",
      " [2.59616854e-07 1.87516063e-02 0.00000000e+00 9.34144761e-03\n",
      "  0.00000000e+00 1.84097942e-02 0.00000000e+00 1.18295979e-02]\n",
      " [3.46155815e-07 4.45817709e-01 3.87977004e-01 4.97659773e-01\n",
      "  5.05399466e-01 4.84661788e-01 4.37597930e-01 3.95666093e-01]\n",
      " [4.32694776e-07 2.23312289e-01 1.80422232e-01 2.23787487e-01\n",
      "  2.57867455e-01 2.04827532e-01 2.04329327e-01 1.93576381e-01]], shape=(5, 8), dtype=float32)\n",
      "tf.Tensor(\n",
      "[[0.11507232]\n",
      " [0.00147116]\n",
      " [0.00499678]\n",
      " [0.40278473]\n",
      " [0.20170106]], shape=(5, 1), dtype=float32)\n",
      "tf.Tensor(\n",
      "[[7.78850563e-07 8.26229341e-03 3.19374129e-02 1.26652289e-02\n",
      "  1.67879183e-02 9.57365613e-03 4.64405725e-03 6.33838866e-03]\n",
      " [8.65389552e-07 3.54200423e-01 3.70057434e-01 2.50139892e-01\n",
      "  3.77756685e-01 3.94237965e-01 3.24343741e-01 3.84173065e-01]\n",
      " [9.51928484e-07 8.33317935e-02 8.27712640e-02 7.54254088e-02\n",
      "  7.91135281e-02 9.81708616e-02 8.36588144e-02 9.70783606e-02]\n",
      " [1.03846742e-06 2.96408921e-01 2.23607481e-01 1.53447092e-01\n",
      "  2.51375914e-01 2.72732407e-01 2.80668467e-01 2.58520871e-01]\n",
      " [1.12500641e-06 4.18497883e-02 1.04492866e-01 9.61884856e-02\n",
      "  2.02753581e-02 3.98769379e-02 8.23527798e-02 2.21494175e-02]], shape=(5, 8), dtype=float32)\n",
      "tf.Tensor(\n",
      "[[  88287. ]\n",
      " [4399137. ]\n",
      " [1007368.3]\n",
      " [3480343.2]\n",
      " [2186020.2]], shape=(5, 1), dtype=float32)\n"
     ]
    }
   ],
   "source": [
    "print(train_windows[:5])\n",
    "print(train_labels[:5])\n",
    "print(test_windows[:5])\n",
    "print(test_labels[:5])"
   ]
  },
  {
   "cell_type": "markdown",
   "id": "a8144283",
   "metadata": {},
   "source": [
    "# Wrong step\n",
    "timesteps = data['Date'].to_numpy()\n",
    "\n",
    "material = data['Material'].to_numpy()"
   ]
  },
  {
   "cell_type": "markdown",
   "id": "3601336e",
   "metadata": {},
   "source": [
    "# As in original dataset there are missing values we can't split data by this method\n",
    "split_size = int(0.8 * len(material)) - 19\n",
    "\n",
    "date_test , material_test = timesteps[split_size:] , material[split_size:]\n",
    "\n",
    "len(date_test) , len(material_test)"
   ]
  },
  {
   "cell_type": "code",
   "execution_count": 27,
   "id": "c8387a22",
   "metadata": {},
   "outputs": [],
   "source": [
    "import os\n",
    "\n",
    "# Create a function to implement a ModelCheckpoint callback with a specific filename \n",
    "def create_model_checkpoint(model_name, save_path=\"model_experiments\"):\n",
    "    return tf.keras.callbacks.ModelCheckpoint(filepath=os.path.join(save_path, model_name), # create filepath to save model\n",
    "                                            verbose=0, # only output a limited amount of text\n",
    "                                            save_best_only=True) # save only the best model to file"
   ]
  },
  {
   "cell_type": "code",
   "execution_count": 28,
   "id": "f5cb834a",
   "metadata": {},
   "outputs": [],
   "source": [
    "def errors(y_true , y_pred):\n",
    "    y_true = tf.cast(y_true, dtype=tf.float32)\n",
    "    y_pred = tf.cast(y_pred, dtype=tf.float32)\n",
    "    y_new = np.abs(y_true - y_pred)\n",
    "    median = np.median(y_new)\n",
    "    mae = tf.keras.metrics.mean_absolute_error(y_true, y_pred)\n",
    "    mse = tf.keras.metrics.mean_squared_error(y_true, y_pred) # puts and emphasis on outliers (all errors get squared)\n",
    "    rmse = tf.sqrt(mse)\n",
    "    mape = tf.keras.metrics.mean_absolute_percentage_error(y_true, y_pred)\n",
    "    y_new2 = np.zeros(len(y_new))\n",
    "    for i in range(len(y_new)):\n",
    "        if(y_true[i] != 0):\n",
    "            y_new2[i] = y_new[i] / y_true[i] * 100\n",
    "    median_per = np.median(y_new2)\n",
    "    mean_per = np.median(y_new2)\n",
    "    maxi = np.amax(y_new2)\n",
    "    mini = np.amin(y_new2)\n",
    "    \n",
    "    return {'MAE: ' : mae.numpy() , 'MSE' : mse.numpy() , 'RMSE' : rmse.numpy() ,\n",
    "            'MAPE' : mape.numpy() , 'Median' : median , '% error wrt median' : median_per , '% error wrt mean' : mean_per , \n",
    "           'Min Error' : mini , 'Max Error' : maxi}"
   ]
  },
  {
   "cell_type": "code",
   "execution_count": 29,
   "id": "b92fe044",
   "metadata": {},
   "outputs": [],
   "source": [
    "def make_preds(model, input_data):\n",
    "    forecast = model.predict(input_data)\n",
    "    return tf.squeeze(forecast) # return 1D array of predictions"
   ]
  },
  {
   "cell_type": "code",
   "execution_count": 30,
   "id": "681b704d",
   "metadata": {},
   "outputs": [],
   "source": [
    "def upper_lower(y_true , y_pred):\n",
    "    y_true = tf.cast(y_true, dtype=tf.float32)\n",
    "    y_pred = tf.cast(y_pred, dtype=tf.float32)\n",
    "    upper = y_pred + (y_pred* 15 / 100)\n",
    "    lower = y_pred - (y_pred* 15 / 100)\n",
    "    return upper , lower"
   ]
  },
  {
   "cell_type": "code",
   "execution_count": 31,
   "id": "a37e69a4",
   "metadata": {},
   "outputs": [
    {
     "name": "stderr",
     "output_type": "stream",
     "text": [
      "C:\\Users\\Tirth\\anaconda3\\lib\\site-packages\\tensorflow\\python\\keras\\optimizer_v2\\optimizer_v2.py:374: UserWarning: The `lr` argument is deprecated, use `learning_rate` instead.\n",
      "  warnings.warn(\n"
     ]
    },
    {
     "name": "stdout",
     "output_type": "stream",
     "text": [
      "INFO:tensorflow:Assets written to: model_experiments\\model_2_lstm\\assets\n",
      "INFO:tensorflow:Assets written to: model_experiments\\model_2_lstm\\assets\n",
      "INFO:tensorflow:Assets written to: model_experiments\\model_2_lstm\\assets\n",
      "INFO:tensorflow:Assets written to: model_experiments\\model_2_lstm\\assets\n",
      "INFO:tensorflow:Assets written to: model_experiments\\model_2_lstm\\assets\n",
      "INFO:tensorflow:Assets written to: model_experiments\\model_2_lstm\\assets\n",
      "INFO:tensorflow:Assets written to: model_experiments\\model_2_lstm\\assets\n",
      "INFO:tensorflow:Assets written to: model_experiments\\model_2_lstm\\assets\n",
      "INFO:tensorflow:Assets written to: model_experiments\\model_2_lstm\\assets\n"
     ]
    }
   ],
   "source": [
    "# all activations are relu before changes and that gave best model\n",
    "from tensorflow.keras import layers\n",
    "p = len(full_windows)\n",
    "tf.random.set_seed(42)\n",
    "\n",
    "# Let's build an LSTM model with the Functional API\n",
    "inputs = layers.Input(shape=(WINDOW_SIZE + 1))\n",
    "x = layers.Lambda(lambda x: tf.expand_dims(x, axis=1))(inputs)\n",
    "x = layers.GRU(int(p/2) , activation = 'relu')(x)\n",
    "p = int(p/2)\n",
    "while(p > 700):\n",
    "    x = layers.Dense(int(p/2) , activation = 'relu')(x)\n",
    "    p = int(p/2)\n",
    "x = layers.Dense(700 , activation = 'relu')(x)\n",
    "x = layers.Dense(350 , activation = 'relu')(x)\n",
    "x = layers.Dense(275 , activation = 'relu')(x)\n",
    "x = layers.Dense(100 , activation = 'relu')(x)\n",
    "\n",
    "# print(x.shape)\n",
    "# Add another optional dense layer (you could add more of these to see if they improve model performance)\n",
    "x = layers.Lambda(lambda x: tf.expand_dims(x, axis=1))(inputs)\n",
    "x = layers.Dense(32, activation=\"relu\")(x)\n",
    "x = layers.Dense(10 , activation = 'relu')(x)\n",
    "output = layers.Dense(HORIZON)(x)\n",
    "model_2 = tf.keras.Model(inputs=inputs, outputs=output, name=\"model_2_lstm\")\n",
    "\n",
    "# Compile model\n",
    "model_2.compile(loss=\"mae\",\n",
    "                optimizer=tf.keras.optimizers.Adam(lr = 0.001))\n",
    "\n",
    "# Seems when saving the model several warnings are appearing: https://github.com/tensorflow/tensorflow/issues/47554 \n",
    "history_2 = model_2.fit(train_windows,\n",
    "            train_labels,\n",
    "            verbose = 0 , \n",
    "            epochs=300,\n",
    "            batch_size= 64,\n",
    "            validation_data=(test_windows, test_labels),\n",
    "            callbacks=[create_model_checkpoint(model_name=model_2.name)])"
   ]
  },
  {
   "cell_type": "code",
   "execution_count": 32,
   "id": "6f057cd0",
   "metadata": {},
   "outputs": [
    {
     "name": "stdout",
     "output_type": "stream",
     "text": [
      "21/21 [==============================] - 0s 1ms/step - loss: 0.0249\n"
     ]
    },
    {
     "data": {
      "text/plain": [
       "0.02491837739944458"
      ]
     },
     "execution_count": 32,
     "metadata": {},
     "output_type": "execute_result"
    }
   ],
   "source": [
    "# Load in best version of model 5 and evaluate on the test data\n",
    "model_2 = tf.keras.models.load_model(\"model_experiments/model_2_lstm/\")\n",
    "model_2.evaluate(test_windows, test_labels)"
   ]
  },
  {
   "cell_type": "code",
   "execution_count": 33,
   "id": "b59de90a",
   "metadata": {},
   "outputs": [
    {
     "data": {
      "text/plain": [
       "<tf.Tensor: shape=(10,), dtype=float32, numpy=\n",
       "array([0.00970678, 0.36802238, 0.09157203, 0.276368  , 0.04593821,\n",
       "       0.01266641, 0.21247202, 0.2330694 , 0.2833428 , 0.17836115],\n",
       "      dtype=float32)>"
      ]
     },
     "execution_count": 33,
     "metadata": {},
     "output_type": "execute_result"
    }
   ],
   "source": [
    "# Make predictions with our LSTM model\n",
    "model_2_preds = make_preds(model_2, test_windows)\n",
    "model_2_preds[:10]"
   ]
  },
  {
   "cell_type": "code",
   "execution_count": 34,
   "id": "52b911ce",
   "metadata": {},
   "outputs": [],
   "source": [
    "model_2_preds = tf.nn.relu(model_2_preds)"
   ]
  },
  {
   "cell_type": "code",
   "execution_count": 35,
   "id": "10c8cb44",
   "metadata": {},
   "outputs": [
    {
     "data": {
      "text/plain": [
       "{'MAE: ': 0.024877874,\n",
       " 'MSE': 0.0031678102,\n",
       " 'RMSE': 0.056283303,\n",
       " 'MAPE': 397198.44,\n",
       " 'Median': 0.009936111,\n",
       " '% error wrt median': 13.214316368103027,\n",
       " '% error wrt mean': 13.214316368103027,\n",
       " 'Min Error': 0.0,\n",
       " 'Max Error': inf}"
      ]
     },
     "execution_count": 35,
     "metadata": {},
     "output_type": "execute_result"
    }
   ],
   "source": [
    "errors(y_true = tf.squeeze(test_labels) , y_pred = model_2_preds)"
   ]
  },
  {
   "cell_type": "code",
   "execution_count": 36,
   "id": "c34853e0",
   "metadata": {},
   "outputs": [],
   "source": [
    "upper , lower = upper_lower(y_true=tf.squeeze(test_labels), # reduce to right shape\n",
    "                                 y_pred=model_2_preds)\n",
    "upper = upper * range_labels\n",
    "lower = lower * range_labels\n",
    "test_labels = test_labels * range_labels\n",
    "model_2_preds = model_2_preds * range_labels"
   ]
  },
  {
   "cell_type": "code",
   "execution_count": 37,
   "id": "ff290f2d",
   "metadata": {},
   "outputs": [
    {
     "data": {
      "text/plain": [
       "<tf.Tensor: shape=(32,), dtype=int32, numpy=\n",
       "array([10000009, 10000010, 10000011, 10000012, 10000013, 10000014,\n",
       "       10000015, 10000016, 10000017, 10000018, 10000019, 10000020,\n",
       "       10000021, 10000022, 10000023, 10000024, 10000025, 10000026,\n",
       "       10000027, 10000028, 10000029, 10000030, 10000031, 10000032,\n",
       "       10000033, 10000034, 10000035, 10000036, 10000037, 10000038,\n",
       "       10000039, 10000040])>"
      ]
     },
     "execution_count": 37,
     "metadata": {},
     "output_type": "execute_result"
    }
   ],
   "source": [
    "material = test_windows[: , 0] * range_windows\n",
    "material = tf.math.round(material)\n",
    "material = tf.cast(material , dtype = np.int32)\n",
    "material = material + 10000000\n",
    "material[:32]"
   ]
  },
  {
   "cell_type": "code",
   "execution_count": 38,
   "id": "48f5aa05",
   "metadata": {},
   "outputs": [
    {
     "data": {
      "text/plain": [
       "array(['2019-06-15', '2019-06-16', '2019-06-17', '2019-06-18',\n",
       "       '2019-06-19', '2019-06-20', '2019-06-21', '2019-06-22',\n",
       "       '2019-06-23', '2019-06-24', '2019-06-25', '2019-06-26',\n",
       "       '2019-06-27', '2019-06-28', '2019-06-29', '2019-06-30'],\n",
       "      dtype=object)"
      ]
     },
     "execution_count": 38,
     "metadata": {},
     "output_type": "execute_result"
    }
   ],
   "source": [
    "date = (dm['Date'].to_numpy())[-16:]\n",
    "date"
   ]
  },
  {
   "cell_type": "code",
   "execution_count": 40,
   "id": "dd2e00ea",
   "metadata": {},
   "outputs": [],
   "source": [
    "dataframe = {'Date' : date , 'Material' : material , 'True Value' : tf.squeeze(test_labels) , \n",
    "             'Prediction' : model_2_preds , 'Upper' : upper , 'Lower' : lower}"
   ]
  },
  {
   "cell_type": "code",
   "execution_count": null,
   "id": "27e6ee42",
   "metadata": {},
   "outputs": [],
   "source": [
    "for i in range(len(df)):\n",
    "    if(df.iloc[i].loc['Upper'] < df.iloc[i].loc['True Value']):\n",
    "        df.loc[i , 'Outlier'] = 1\n",
    "    \n",
    "    elif(df.iloc[i].loc['Lower'] > df.iloc[i].loc['True Value']):\n",
    "        df.loc[i , 'Outlier'] = -1\n",
    "        \n",
    "df.head()"
   ]
  },
  {
   "cell_type": "code",
   "execution_count": null,
   "id": "4ac03158",
   "metadata": {},
   "outputs": [],
   "source": [
    "up = df.where(df['Outlier'] > 0)\n",
    "up.dropna(subset = [\"Outlier\"] , inplace=True)\n",
    "print(len(up))"
   ]
  },
  {
   "cell_type": "code",
   "execution_count": null,
   "id": "e49a6069",
   "metadata": {},
   "outputs": [],
   "source": [
    "down = df.where(df['Outlier'] < 0)\n",
    "down.dropna(subset = [\"Outlier\"], inplace=True)\n",
    "print(len(down))"
   ]
  },
  {
   "cell_type": "code",
   "execution_count": null,
   "id": "df98965d",
   "metadata": {},
   "outputs": [],
   "source": [
    "# Write dataentries into excel sheets\n",
    "with pd.ExcelWriter('E:\\output.xlsx') as writer: \n",
    "    up.to_excel(writer , sheet_name='High_Values')\n",
    "    down.to_excel(writer , sheet_name='Low_Values')"
   ]
  },
  {
   "cell_type": "code",
   "execution_count": null,
   "id": "8209c42e",
   "metadata": {},
   "outputs": [],
   "source": [
    "up['Material'].value_counts()"
   ]
  },
  {
   "cell_type": "code",
   "execution_count": null,
   "id": "1bf63566",
   "metadata": {},
   "outputs": [],
   "source": [
    "down['Material'].value_counts()"
   ]
  },
  {
   "cell_type": "markdown",
   "id": "1568a236",
   "metadata": {},
   "source": [
    "Here we can see that data is overfitted. \n",
    "\n",
    "So, weneed to try some strategies to avoid overfitting."
   ]
  },
  {
   "cell_type": "code",
   "execution_count": null,
   "id": "a7737082",
   "metadata": {},
   "outputs": [],
   "source": [
    "# As previously we have multiplied test_labels with its range\n",
    "# we need to divede it with it's range again\n",
    "test_labels = test_labels / range_labels"
   ]
  },
  {
   "cell_type": "code",
   "execution_count": 48,
   "id": "2318cb7d",
   "metadata": {},
   "outputs": [
    {
     "name": "stdout",
     "output_type": "stream",
     "text": [
      "tf.Tensor(\n",
      "[[7.78850563e-07 8.26229341e-03 3.19374129e-02 1.26652289e-02\n",
      "  1.67879183e-02 9.57365613e-03 4.64405725e-03 6.33838866e-03]\n",
      " [8.65389552e-07 3.54200423e-01 3.70057434e-01 2.50139892e-01\n",
      "  3.77756685e-01 3.94237965e-01 3.24343741e-01 3.84173065e-01]\n",
      " [9.51928484e-07 8.33317935e-02 8.27712640e-02 7.54254088e-02\n",
      "  7.91135281e-02 9.81708616e-02 8.36588144e-02 9.70783606e-02]\n",
      " [1.03846742e-06 2.96408921e-01 2.23607481e-01 1.53447092e-01\n",
      "  2.51375914e-01 2.72732407e-01 2.80668467e-01 2.58520871e-01]\n",
      " [1.12500641e-06 4.18497883e-02 1.04492866e-01 9.61884856e-02\n",
      "  2.02753581e-02 3.98769379e-02 8.23527798e-02 2.21494175e-02]], shape=(5, 8), dtype=float32)\n",
      "tf.Tensor(\n",
      "[[  88287. ]\n",
      " [4399137. ]\n",
      " [1007368.3]\n",
      " [3480343.2]\n",
      " [2186020.2]], shape=(5, 1), dtype=float32)\n"
     ]
    }
   ],
   "source": [
    "print(test_windows[:5])\n",
    "print(test_labels[:5])"
   ]
  },
  {
   "cell_type": "markdown",
   "id": "fa09ab62",
   "metadata": {},
   "source": [
    "### Adding regularizer in each layer"
   ]
  },
  {
   "cell_type": "code",
   "execution_count": 94,
   "id": "da5bd3d5",
   "metadata": {},
   "outputs": [
    {
     "name": "stderr",
     "output_type": "stream",
     "text": [
      "C:\\Users\\Tirth\\anaconda3\\lib\\site-packages\\tensorflow\\python\\keras\\optimizer_v2\\optimizer_v2.py:374: UserWarning: The `lr` argument is deprecated, use `learning_rate` instead.\n",
      "  warnings.warn(\n"
     ]
    },
    {
     "name": "stdout",
     "output_type": "stream",
     "text": [
      "INFO:tensorflow:Assets written to: model_experiments\\model_2_lstm\\assets\n",
      "INFO:tensorflow:Assets written to: model_experiments\\model_2_lstm\\assets\n",
      "INFO:tensorflow:Assets written to: model_experiments\\model_2_lstm\\assets\n",
      "INFO:tensorflow:Assets written to: model_experiments\\model_2_lstm\\assets\n",
      "INFO:tensorflow:Assets written to: model_experiments\\model_2_lstm\\assets\n",
      "INFO:tensorflow:Assets written to: model_experiments\\model_2_lstm\\assets\n",
      "INFO:tensorflow:Assets written to: model_experiments\\model_2_lstm\\assets\n",
      "INFO:tensorflow:Assets written to: model_experiments\\model_2_lstm\\assets\n",
      "INFO:tensorflow:Assets written to: model_experiments\\model_2_lstm\\assets\n",
      "INFO:tensorflow:Assets written to: model_experiments\\model_2_lstm\\assets\n",
      "INFO:tensorflow:Assets written to: model_experiments\\model_2_lstm\\assets\n",
      "INFO:tensorflow:Assets written to: model_experiments\\model_2_lstm\\assets\n",
      "INFO:tensorflow:Assets written to: model_experiments\\model_2_lstm\\assets\n",
      "INFO:tensorflow:Assets written to: model_experiments\\model_2_lstm\\assets\n",
      "INFO:tensorflow:Assets written to: model_experiments\\model_2_lstm\\assets\n",
      "INFO:tensorflow:Assets written to: model_experiments\\model_2_lstm\\assets\n",
      "INFO:tensorflow:Assets written to: model_experiments\\model_2_lstm\\assets\n",
      "INFO:tensorflow:Assets written to: model_experiments\\model_2_lstm\\assets\n",
      "INFO:tensorflow:Assets written to: model_experiments\\model_2_lstm\\assets\n",
      "INFO:tensorflow:Assets written to: model_experiments\\model_2_lstm\\assets\n",
      "INFO:tensorflow:Assets written to: model_experiments\\model_2_lstm\\assets\n",
      "INFO:tensorflow:Assets written to: model_experiments\\model_2_lstm\\assets\n",
      "INFO:tensorflow:Assets written to: model_experiments\\model_2_lstm\\assets\n",
      "INFO:tensorflow:Assets written to: model_experiments\\model_2_lstm\\assets\n",
      "INFO:tensorflow:Assets written to: model_experiments\\model_2_lstm\\assets\n",
      "INFO:tensorflow:Assets written to: model_experiments\\model_2_lstm\\assets\n",
      "INFO:tensorflow:Assets written to: model_experiments\\model_2_lstm\\assets\n",
      "INFO:tensorflow:Assets written to: model_experiments\\model_2_lstm\\assets\n",
      "INFO:tensorflow:Assets written to: model_experiments\\model_2_lstm\\assets\n",
      "INFO:tensorflow:Assets written to: model_experiments\\model_2_lstm\\assets\n",
      "INFO:tensorflow:Assets written to: model_experiments\\model_2_lstm\\assets\n",
      "INFO:tensorflow:Assets written to: model_experiments\\model_2_lstm\\assets\n",
      "INFO:tensorflow:Assets written to: model_experiments\\model_2_lstm\\assets\n",
      "INFO:tensorflow:Assets written to: model_experiments\\model_2_lstm\\assets\n"
     ]
    }
   ],
   "source": [
    "tf.random.set_seed(42)\n",
    "\n",
    "# Let's build an LSTM model with the Functional API\n",
    "inputs = layers.Input(shape=(WINDOW_SIZE + 1))\n",
    "x = layers.Lambda(lambda x: tf.expand_dims(x, axis=1))(inputs)\n",
    "x = layers.GRU(512 , activation='elu',\n",
    "                 kernel_regularizer=tf.keras.regularizers.l2(0.001))(x)\n",
    "x = layers.Dense(512 , activation='elu',\n",
    "                 kernel_regularizer=tf.keras.regularizers.l2(0.001))(x)\n",
    "x = layers.Dense(512 , activation='elu',\n",
    "                 kernel_regularizer=tf.keras.regularizers.l2(0.001))(x)\n",
    "x = layers.Dense(512 , activation='elu',\n",
    "                 kernel_regularizer=tf.keras.regularizers.l2(0.001))(x)\n",
    "x = layers.Dense(100 , activation='elu',\n",
    "                 kernel_regularizer=tf.keras.regularizers.l2(0.001))(x)\n",
    "\n",
    "output = layers.Dense(HORIZON)(x)\n",
    "model_2 = tf.keras.Model(inputs=inputs, outputs=output, name=\"model_2_lstm\")\n",
    "\n",
    "# Compile model\n",
    "model_2.compile(loss=\"mae\",\n",
    "                optimizer=tf.keras.optimizers.Adam(lr = 0.001))\n",
    "\n",
    "# Seems when saving the model several warnings are appearing: https://github.com/tensorflow/tensorflow/issues/47554 \n",
    "history_2 = model_2.fit(train_windows,\n",
    "            train_labels,\n",
    "            verbose = 0 , \n",
    "            epochs = 300,\n",
    "            batch_size= 64,\n",
    "            validation_data=(test_windows, test_labels),\n",
    "            callbacks=[create_model_checkpoint(model_name=model_2.name)])"
   ]
  },
  {
   "cell_type": "code",
   "execution_count": 95,
   "id": "70719ac2",
   "metadata": {},
   "outputs": [
    {
     "data": {
      "image/png": "[encoded data removed]",
      "text/plain": [
       "<Figure size 720x504 with 1 Axes>"
      ]
     },
     "metadata": {
      "needs_background": "light"
     },
     "output_type": "display_data"
    }
   ],
   "source": [
    "pd.DataFrame(history_2.history).plot(figsize = (10 , 7));"
   ]
  },
  {
   "cell_type": "code",
   "execution_count": 96,
   "id": "a7c03fbb",
   "metadata": {},
   "outputs": [
    {
     "name": "stdout",
     "output_type": "stream",
     "text": [
      "21/21 [==============================] - 0s 6ms/step - loss: 0.0289\n"
     ]
    },
    {
     "data": {
      "text/plain": [
       "0.02888774499297142"
      ]
     },
     "execution_count": 96,
     "metadata": {},
     "output_type": "execute_result"
    }
   ],
   "source": [
    "model_2 = tf.keras.models.load_model(\"model_experiments/model_2_lstm/\")\n",
    "model_2.evaluate(test_windows, test_labels)"
   ]
  },
  {
   "cell_type": "code",
   "execution_count": 97,
   "id": "accc4efa",
   "metadata": {},
   "outputs": [
    {
     "data": {
      "text/plain": [
       "<tf.Tensor: shape=(10,), dtype=float32, numpy=\n",
       "array([0.01111292, 0.36305052, 0.08682675, 0.26845378, 0.05457534,\n",
       "       0.01300195, 0.19967978, 0.22478817, 0.2723693 , 0.16570638],\n",
       "      dtype=float32)>"
      ]
     },
     "execution_count": 97,
     "metadata": {},
     "output_type": "execute_result"
    }
   ],
   "source": [
    "model_2_preds = make_preds(model_2, test_windows)\n",
    "model_2_preds[:10]"
   ]
  },
  {
   "cell_type": "code",
   "execution_count": 98,
   "id": "9baf325e",
   "metadata": {},
   "outputs": [],
   "source": [
    "model_2_preds = tf.nn.relu(model_2_preds)"
   ]
  },
  {
   "cell_type": "code",
   "execution_count": 99,
   "id": "4fdc62cc",
   "metadata": {},
   "outputs": [
    {
     "data": {
      "text/plain": [
       "{'MAE: ': 0.02580685,\n",
       " 'MSE': 0.0032227675,\n",
       " 'RMSE': 0.056769423,\n",
       " 'MAPE': 564569.7,\n",
       " 'Median': 0.011313286,\n",
       " '% error wrt median': 13.68701171875,\n",
       " '% error wrt mean': 13.68701171875,\n",
       " 'Min Error': 0.0,\n",
       " 'Max Error': inf}"
      ]
     },
     "execution_count": 99,
     "metadata": {},
     "output_type": "execute_result"
    }
   ],
   "source": [
    "errors(y_true = tf.squeeze(test_labels) , y_pred = model_2_preds)"
   ]
  },
  {
   "cell_type": "code",
   "execution_count": 100,
   "id": "d59c7ad8",
   "metadata": {},
   "outputs": [],
   "source": [
    "upper , lower = upper_lower(y_true=tf.squeeze(test_labels), # reduce to right shape\n",
    "                                 y_pred=model_2_preds)\n",
    "upper = upper * range_labels\n",
    "lower = lower * range_labels\n",
    "test_labels = test_labels * range_labels\n",
    "model_2_preds = model_2_preds * range_labels"
   ]
  },
  {
   "cell_type": "code",
   "execution_count": 101,
   "id": "f360a2ed",
   "metadata": {},
   "outputs": [],
   "source": [
    "dataframe = {'Material' : material , 'True Value' : tf.squeeze(test_labels) , \n",
    "             'Prediction' : model_2_preds , 'Upper' : upper , 'Lower' : lower}"
   ]
  },
  {
   "cell_type": "code",
   "execution_count": 102,
   "id": "a9d03da5",
   "metadata": {},
   "outputs": [
    {
     "data": {
      "text/html": [
       "<div>\n",
       "<style scoped>\n",
       "    .dataframe tbody tr th:only-of-type {\n",
       "        vertical-align: middle;\n",
       "    }\n",
       "\n",
       "    .dataframe tbody tr th {\n",
       "        vertical-align: top;\n",
       "    }\n",
       "\n",
       "    .dataframe thead th {\n",
       "        text-align: right;\n",
       "    }\n",
       "</style>\n",
       "<table border=\"1\" class=\"dataframe\">\n",
       "  <thead>\n",
       "    <tr style=\"text-align: right;\">\n",
       "      <th></th>\n",
       "      <th>Material</th>\n",
       "      <th>True Value</th>\n",
       "      <th>Prediction</th>\n",
       "      <th>Upper</th>\n",
       "      <th>Lower</th>\n",
       "    </tr>\n",
       "  </thead>\n",
       "  <tbody>\n",
       "    <tr>\n",
       "      <th>0</th>\n",
       "      <td>10000009</td>\n",
       "      <td>8.828700e+04</td>\n",
       "      <td>1.284152e+05</td>\n",
       "      <td>1.476775e+05</td>\n",
       "      <td>1.091530e+05</td>\n",
       "    </tr>\n",
       "    <tr>\n",
       "      <th>1</th>\n",
       "      <td>10000010</td>\n",
       "      <td>4.399137e+06</td>\n",
       "      <td>4.195226e+06</td>\n",
       "      <td>4.824510e+06</td>\n",
       "      <td>3.565943e+06</td>\n",
       "    </tr>\n",
       "    <tr>\n",
       "      <th>2</th>\n",
       "      <td>10000011</td>\n",
       "      <td>1.007368e+06</td>\n",
       "      <td>1.003326e+06</td>\n",
       "      <td>1.153824e+06</td>\n",
       "      <td>8.528268e+05</td>\n",
       "    </tr>\n",
       "    <tr>\n",
       "      <th>3</th>\n",
       "      <td>10000012</td>\n",
       "      <td>3.480343e+06</td>\n",
       "      <td>3.102115e+06</td>\n",
       "      <td>3.567432e+06</td>\n",
       "      <td>2.636798e+06</td>\n",
       "    </tr>\n",
       "    <tr>\n",
       "      <th>4</th>\n",
       "      <td>10000013</td>\n",
       "      <td>2.186020e+06</td>\n",
       "      <td>6.306448e+05</td>\n",
       "      <td>7.252415e+05</td>\n",
       "      <td>5.360481e+05</td>\n",
       "    </tr>\n",
       "    <tr>\n",
       "      <th>...</th>\n",
       "      <td>...</td>\n",
       "      <td>...</td>\n",
       "      <td>...</td>\n",
       "      <td>...</td>\n",
       "      <td>...</td>\n",
       "    </tr>\n",
       "    <tr>\n",
       "      <th>667</th>\n",
       "      <td>10000036</td>\n",
       "      <td>0.000000e+00</td>\n",
       "      <td>3.464374e+04</td>\n",
       "      <td>3.984030e+04</td>\n",
       "      <td>2.944718e+04</td>\n",
       "    </tr>\n",
       "    <tr>\n",
       "      <th>668</th>\n",
       "      <td>10000037</td>\n",
       "      <td>1.017006e+05</td>\n",
       "      <td>2.794149e+05</td>\n",
       "      <td>3.213271e+05</td>\n",
       "      <td>2.375026e+05</td>\n",
       "    </tr>\n",
       "    <tr>\n",
       "      <th>669</th>\n",
       "      <td>10000038</td>\n",
       "      <td>0.000000e+00</td>\n",
       "      <td>0.000000e+00</td>\n",
       "      <td>0.000000e+00</td>\n",
       "      <td>0.000000e+00</td>\n",
       "    </tr>\n",
       "    <tr>\n",
       "      <th>670</th>\n",
       "      <td>10000039</td>\n",
       "      <td>0.000000e+00</td>\n",
       "      <td>0.000000e+00</td>\n",
       "      <td>0.000000e+00</td>\n",
       "      <td>0.000000e+00</td>\n",
       "    </tr>\n",
       "    <tr>\n",
       "      <th>671</th>\n",
       "      <td>10000040</td>\n",
       "      <td>1.842800e+06</td>\n",
       "      <td>1.492985e+06</td>\n",
       "      <td>1.716933e+06</td>\n",
       "      <td>1.269037e+06</td>\n",
       "    </tr>\n",
       "  </tbody>\n",
       "</table>\n",
       "<p>672 rows × 5 columns</p>\n",
       "</div>"
      ],
      "text/plain": [
       "     Material    True Value    Prediction         Upper         Lower\n",
       "0    10000009  8.828700e+04  1.284152e+05  1.476775e+05  1.091530e+05\n",
       "1    10000010  4.399137e+06  4.195226e+06  4.824510e+06  3.565943e+06\n",
       "2    10000011  1.007368e+06  1.003326e+06  1.153824e+06  8.528268e+05\n",
       "3    10000012  3.480343e+06  3.102115e+06  3.567432e+06  2.636798e+06\n",
       "4    10000013  2.186020e+06  6.306448e+05  7.252415e+05  5.360481e+05\n",
       "..        ...           ...           ...           ...           ...\n",
       "667  10000036  0.000000e+00  3.464374e+04  3.984030e+04  2.944718e+04\n",
       "668  10000037  1.017006e+05  2.794149e+05  3.213271e+05  2.375026e+05\n",
       "669  10000038  0.000000e+00  0.000000e+00  0.000000e+00  0.000000e+00\n",
       "670  10000039  0.000000e+00  0.000000e+00  0.000000e+00  0.000000e+00\n",
       "671  10000040  1.842800e+06  1.492985e+06  1.716933e+06  1.269037e+06\n",
       "\n",
       "[672 rows x 5 columns]"
      ]
     },
     "execution_count": 102,
     "metadata": {},
     "output_type": "execute_result"
    }
   ],
   "source": [
    "df = pd.DataFrame(dataframe)\n",
    "df"
   ]
  },
  {
   "cell_type": "code",
   "execution_count": 104,
   "id": "8602e1f8",
   "metadata": {},
   "outputs": [
    {
     "data": {
      "text/html": [
       "<div>\n",
       "<style scoped>\n",
       "    .dataframe tbody tr th:only-of-type {\n",
       "        vertical-align: middle;\n",
       "    }\n",
       "\n",
       "    .dataframe tbody tr th {\n",
       "        vertical-align: top;\n",
       "    }\n",
       "\n",
       "    .dataframe thead th {\n",
       "        text-align: right;\n",
       "    }\n",
       "</style>\n",
       "<table border=\"1\" class=\"dataframe\">\n",
       "  <thead>\n",
       "    <tr style=\"text-align: right;\">\n",
       "      <th></th>\n",
       "      <th>Material</th>\n",
       "      <th>True Value</th>\n",
       "      <th>Prediction</th>\n",
       "      <th>Upper</th>\n",
       "      <th>Lower</th>\n",
       "      <th>Outlier</th>\n",
       "    </tr>\n",
       "  </thead>\n",
       "  <tbody>\n",
       "    <tr>\n",
       "      <th>0</th>\n",
       "      <td>10000009</td>\n",
       "      <td>8.828700e+04</td>\n",
       "      <td>1.284152e+05</td>\n",
       "      <td>1.476775e+05</td>\n",
       "      <td>1.091530e+05</td>\n",
       "      <td>-1.0</td>\n",
       "    </tr>\n",
       "    <tr>\n",
       "      <th>1</th>\n",
       "      <td>10000010</td>\n",
       "      <td>4.399137e+06</td>\n",
       "      <td>4.195226e+06</td>\n",
       "      <td>4.824510e+06</td>\n",
       "      <td>3.565943e+06</td>\n",
       "      <td>NaN</td>\n",
       "    </tr>\n",
       "    <tr>\n",
       "      <th>2</th>\n",
       "      <td>10000011</td>\n",
       "      <td>1.007368e+06</td>\n",
       "      <td>1.003326e+06</td>\n",
       "      <td>1.153824e+06</td>\n",
       "      <td>8.528268e+05</td>\n",
       "      <td>NaN</td>\n",
       "    </tr>\n",
       "    <tr>\n",
       "      <th>3</th>\n",
       "      <td>10000012</td>\n",
       "      <td>3.480343e+06</td>\n",
       "      <td>3.102115e+06</td>\n",
       "      <td>3.567432e+06</td>\n",
       "      <td>2.636798e+06</td>\n",
       "      <td>NaN</td>\n",
       "    </tr>\n",
       "    <tr>\n",
       "      <th>4</th>\n",
       "      <td>10000013</td>\n",
       "      <td>2.186020e+06</td>\n",
       "      <td>6.306448e+05</td>\n",
       "      <td>7.252415e+05</td>\n",
       "      <td>5.360481e+05</td>\n",
       "      <td>1.0</td>\n",
       "    </tr>\n",
       "  </tbody>\n",
       "</table>\n",
       "</div>"
      ],
      "text/plain": [
       "   Material    True Value    Prediction         Upper         Lower  Outlier\n",
       "0  10000009  8.828700e+04  1.284152e+05  1.476775e+05  1.091530e+05     -1.0\n",
       "1  10000010  4.399137e+06  4.195226e+06  4.824510e+06  3.565943e+06      NaN\n",
       "2  10000011  1.007368e+06  1.003326e+06  1.153824e+06  8.528268e+05      NaN\n",
       "3  10000012  3.480343e+06  3.102115e+06  3.567432e+06  2.636798e+06      NaN\n",
       "4  10000013  2.186020e+06  6.306448e+05  7.252415e+05  5.360481e+05      1.0"
      ]
     },
     "execution_count": 104,
     "metadata": {},
     "output_type": "execute_result"
    }
   ],
   "source": [
    "for i in range(len(df)):\n",
    "    if(df.iloc[i].loc['Upper'] < df.iloc[i].loc['True Value']):\n",
    "        df.loc[i , 'Outlier'] = 1\n",
    "    \n",
    "    elif(df.iloc[i].loc['Lower'] > df.iloc[i].loc['True Value']):\n",
    "        df.loc[i , 'Outlier'] = -1\n",
    "        \n",
    "df.head()"
   ]
  },
  {
   "cell_type": "code",
   "execution_count": 105,
   "id": "c40e532e",
   "metadata": {},
   "outputs": [
    {
     "name": "stdout",
     "output_type": "stream",
     "text": [
      "166\n"
     ]
    }
   ],
   "source": [
    "up = df.where(df['Outlier'] > 0)\n",
    "up.dropna(subset = [\"Outlier\"] , inplace=True)\n",
    "print(len(up))"
   ]
  },
  {
   "cell_type": "code",
   "execution_count": 106,
   "id": "3cabbba3",
   "metadata": {},
   "outputs": [
    {
     "name": "stdout",
     "output_type": "stream",
     "text": [
      "152\n"
     ]
    }
   ],
   "source": [
    "down = df.where(df['Outlier'] < 0)\n",
    "down.dropna(subset = [\"Outlier\"], inplace=True)\n",
    "print(len(down))"
   ]
  },
  {
   "cell_type": "markdown",
   "id": "7d4a5668",
   "metadata": {},
   "source": [
    "The primary purpose of dropout is to minimize the effect of overfitting within a trained network. Dropout technique works by randomly reducing the number of interconnecting neurons within a neural network."
   ]
  },
  {
   "cell_type": "markdown",
   "id": "0400a8e0",
   "metadata": {},
   "source": [
    "### Add dropout between each layer"
   ]
  },
  {
   "cell_type": "code",
   "execution_count": 67,
   "id": "1bb8c8e1",
   "metadata": {},
   "outputs": [
    {
     "name": "stdout",
     "output_type": "stream",
     "text": [
      "INFO:tensorflow:Assets written to: model_experiments\\Dropout_model\\assets\n",
      "INFO:tensorflow:Assets written to: model_experiments\\Dropout_model\\assets\n",
      "INFO:tensorflow:Assets written to: model_experiments\\Dropout_model\\assets\n",
      "INFO:tensorflow:Assets written to: model_experiments\\Dropout_model\\assets\n",
      "INFO:tensorflow:Assets written to: model_experiments\\Dropout_model\\assets\n",
      "INFO:tensorflow:Assets written to: model_experiments\\Dropout_model\\assets\n",
      "INFO:tensorflow:Assets written to: model_experiments\\Dropout_model\\assets\n",
      "INFO:tensorflow:Assets written to: model_experiments\\Dropout_model\\assets\n"
     ]
    }
   ],
   "source": [
    "tf.random.set_seed(42)\n",
    "\n",
    "inputs = layers.Input(shape = (WINDOW_SIZE + 1))\n",
    "x = layers.Lambda(lambda x: tf.expand_dims(x , axis = 1))(inputs)\n",
    "x = layers.GRU(512 , activation = 'relu')(x)\n",
    "x = layers.Dropout(0.5)(x)\n",
    "x = layers.Dense(512 , activation = 'relu')(x)\n",
    "x = layers.Dropout(0.5)(x)\n",
    "x = layers.Dense(512 , activation = 'relu')(x)\n",
    "x = layers.Dropout(0.5)(x)\n",
    "x = layers.Dense(512 , activation = 'relu')(x)\n",
    "x = layers.Dropout(0.5)(x)\n",
    "x = layers.Dense(100 , activation = 'relu')(x)\n",
    "x = layers.Dropout(0.5)(x)\n",
    "outputs = layers.Dense(HORIZON)(x)\n",
    "\n",
    "model_3 = tf.keras.Model(inputs = inputs , outputs = outputs , name = 'Dropout_model')\n",
    "\n",
    "model_3.compile(loss = 'mae' , optimizer = tf.keras.optimizers.Adam())\n",
    "\n",
    "history_3 = model_3.fit(train_windows , train_labels , verbose = 0 , epochs = 100 , batch_size = 64 , \n",
    "                       validation_data = (test_windows , test_labels) , \n",
    "                       callbacks = [create_model_checkpoint(model_name = model_3.name)])"
   ]
  },
  {
   "cell_type": "code",
   "execution_count": 69,
   "id": "1e2b5822",
   "metadata": {},
   "outputs": [
    {
     "data": {
      "image/png": "[encoded data removed]",
      "text/plain": [
       "<Figure size 720x504 with 1 Axes>"
      ]
     },
     "metadata": {
      "needs_background": "light"
     },
     "output_type": "display_data"
    }
   ],
   "source": [
    "pd.DataFrame(history_3.history).plot(figsize = (10 , 7));"
   ]
  },
  {
   "cell_type": "code",
   "execution_count": 72,
   "id": "c9d9e8a3",
   "metadata": {},
   "outputs": [
    {
     "name": "stdout",
     "output_type": "stream",
     "text": [
      "21/21 [==============================] - 0s 5ms/step - loss: 0.0276\n"
     ]
    },
    {
     "data": {
      "text/plain": [
       "0.02757982723414898"
      ]
     },
     "execution_count": 72,
     "metadata": {},
     "output_type": "execute_result"
    }
   ],
   "source": [
    "model_3 = tf.keras.models.load_model(\"model_experiments/Dropout_model/\")\n",
    "model_3.evaluate(test_windows, test_labels)"
   ]
  },
  {
   "cell_type": "code",
   "execution_count": 73,
   "id": "2c9b0528",
   "metadata": {},
   "outputs": [
    {
     "data": {
      "text/plain": [
       "<tf.Tensor: shape=(10,), dtype=float32, numpy=\n",
       "array([0.01051282, 0.39593348, 0.08672693, 0.26834285, 0.06660121,\n",
       "       0.01178725, 0.2120874 , 0.23913313, 0.2688947 , 0.1661267 ],\n",
       "      dtype=float32)>"
      ]
     },
     "execution_count": 73,
     "metadata": {},
     "output_type": "execute_result"
    }
   ],
   "source": [
    "model_3_preds = make_preds(model_3, test_windows)\n",
    "model_3_preds[:10]"
   ]
  },
  {
   "cell_type": "code",
   "execution_count": 86,
   "id": "2e45a1f0",
   "metadata": {},
   "outputs": [],
   "source": [
    "model_3_preds = tf.nn.relu(model_3_preds)"
   ]
  },
  {
   "cell_type": "code",
   "execution_count": 87,
   "id": "ffb4fe15",
   "metadata": {},
   "outputs": [
    {
     "data": {
      "text/plain": [
       "{'MAE: ': 0.02757983,\n",
       " 'MSE': 0.00367236,\n",
       " 'RMSE': 0.0606,\n",
       " 'MAPE': 767528.25,\n",
       " 'Median': 0.011771992,\n",
       " '% error wrt median': 17.654139518737793,\n",
       " '% error wrt mean': 17.654139518737793,\n",
       " 'Min Error': 0.012228407897055149,\n",
       " 'Max Error': inf}"
      ]
     },
     "execution_count": 87,
     "metadata": {},
     "output_type": "execute_result"
    }
   ],
   "source": [
    "errors(y_true = tf.squeeze(test_labels) , y_pred = model_3_preds)"
   ]
  },
  {
   "cell_type": "markdown",
   "id": "0b5968ea",
   "metadata": {},
   "source": [
    "### Mix both the features"
   ]
  },
  {
   "cell_type": "code",
   "execution_count": 88,
   "id": "b3141516",
   "metadata": {},
   "outputs": [
    {
     "name": "stdout",
     "output_type": "stream",
     "text": [
      "WARNING:tensorflow:Please add `keras.layers.InputLayer` instead of `keras.Input` to Sequential model. `keras.Input` is intended to be used by Functional model.\n",
      "Epoch 1/300\n",
      "42/42 - 4s - loss: 0.2094 - val_loss: 0.1926\n",
      "INFO:tensorflow:Assets written to: model_experiments\\Combined_Model\\assets\n",
      "Epoch 2/300\n",
      "42/42 - 1s - loss: 0.1439 - val_loss: 0.1262\n",
      "INFO:tensorflow:Assets written to: model_experiments\\Combined_Model\\assets\n",
      "Epoch 3/300\n",
      "42/42 - 1s - loss: 0.1232 - val_loss: 0.1395\n",
      "Epoch 4/300\n",
      "42/42 - 1s - loss: 0.1016 - val_loss: 0.0874\n",
      "INFO:tensorflow:Assets written to: model_experiments\\Combined_Model\\assets\n",
      "Epoch 5/300\n",
      "42/42 - 1s - loss: 0.0888 - val_loss: 0.0761\n",
      "INFO:tensorflow:Assets written to: model_experiments\\Combined_Model\\assets\n",
      "Epoch 6/300\n",
      "42/42 - 1s - loss: 0.0812 - val_loss: 0.0872\n",
      "Epoch 7/300\n",
      "42/42 - 1s - loss: 0.0726 - val_loss: 0.0691\n",
      "INFO:tensorflow:Assets written to: model_experiments\\Combined_Model\\assets\n",
      "Epoch 8/300\n",
      "42/42 - 1s - loss: 0.0696 - val_loss: 0.0756\n",
      "Epoch 9/300\n",
      "42/42 - 2s - loss: 0.0648 - val_loss: 0.0575\n",
      "INFO:tensorflow:Assets written to: model_experiments\\Combined_Model\\assets\n",
      "Epoch 10/300\n",
      "42/42 - 1s - loss: 0.0615 - val_loss: 0.0544\n",
      "INFO:tensorflow:Assets written to: model_experiments\\Combined_Model\\assets\n",
      "Epoch 11/300\n",
      "42/42 - 1s - loss: 0.0600 - val_loss: 0.0567\n",
      "Epoch 12/300\n",
      "42/42 - 1s - loss: 0.0566 - val_loss: 0.0499\n",
      "INFO:tensorflow:Assets written to: model_experiments\\Combined_Model\\assets\n",
      "Epoch 13/300\n",
      "42/42 - 1s - loss: 0.0547 - val_loss: 0.0455\n",
      "INFO:tensorflow:Assets written to: model_experiments\\Combined_Model\\assets\n",
      "Epoch 14/300\n",
      "42/42 - 2s - loss: 0.0522 - val_loss: 0.0487\n",
      "Epoch 15/300\n",
      "42/42 - 2s - loss: 0.0513 - val_loss: 0.0653\n",
      "Epoch 16/300\n",
      "42/42 - 2s - loss: 0.0504 - val_loss: 0.0497\n",
      "Epoch 17/300\n",
      "42/42 - 2s - loss: 0.0477 - val_loss: 0.0479\n",
      "Epoch 18/300\n",
      "42/42 - 2s - loss: 0.0469 - val_loss: 0.0417\n",
      "INFO:tensorflow:Assets written to: model_experiments\\Combined_Model\\assets\n",
      "Epoch 19/300\n",
      "42/42 - 1s - loss: 0.0465 - val_loss: 0.0528\n",
      "Epoch 20/300\n",
      "42/42 - 1s - loss: 0.0455 - val_loss: 0.0396\n",
      "INFO:tensorflow:Assets written to: model_experiments\\Combined_Model\\assets\n",
      "Epoch 21/300\n",
      "42/42 - 1s - loss: 0.0452 - val_loss: 0.0429\n",
      "Epoch 22/300\n",
      "42/42 - 1s - loss: 0.0439 - val_loss: 0.0445\n",
      "Epoch 23/300\n",
      "42/42 - 2s - loss: 0.0437 - val_loss: 0.0366\n",
      "INFO:tensorflow:Assets written to: model_experiments\\Combined_Model\\assets\n",
      "Epoch 24/300\n",
      "42/42 - 1s - loss: 0.0427 - val_loss: 0.0452\n",
      "Epoch 25/300\n",
      "42/42 - 1s - loss: 0.0427 - val_loss: 0.0439\n",
      "Epoch 26/300\n",
      "42/42 - 1s - loss: 0.0427 - val_loss: 0.0385\n",
      "Epoch 27/300\n",
      "42/42 - 1s - loss: 0.0411 - val_loss: 0.0349\n",
      "INFO:tensorflow:Assets written to: model_experiments\\Combined_Model\\assets\n",
      "Epoch 28/300\n",
      "42/42 - 1s - loss: 0.0419 - val_loss: 0.0350\n",
      "Epoch 29/300\n",
      "42/42 - 1s - loss: 0.0408 - val_loss: 0.0384\n",
      "Epoch 30/300\n",
      "42/42 - 2s - loss: 0.0416 - val_loss: 0.0349\n",
      "INFO:tensorflow:Assets written to: model_experiments\\Combined_Model\\assets\n",
      "Epoch 31/300\n",
      "42/42 - 1s - loss: 0.0403 - val_loss: 0.0391\n",
      "Epoch 32/300\n",
      "42/42 - 2s - loss: 0.0397 - val_loss: 0.0432\n",
      "Epoch 33/300\n",
      "42/42 - 2s - loss: 0.0399 - val_loss: 0.0335\n",
      "INFO:tensorflow:Assets written to: model_experiments\\Combined_Model\\assets\n",
      "Epoch 34/300\n",
      "42/42 - 1s - loss: 0.0393 - val_loss: 0.0349\n",
      "Epoch 35/300\n",
      "42/42 - 1s - loss: 0.0394 - val_loss: 0.0340\n",
      "Epoch 36/300\n",
      "42/42 - 1s - loss: 0.0382 - val_loss: 0.0387\n",
      "Epoch 37/300\n",
      "42/42 - 1s - loss: 0.0395 - val_loss: 0.0343\n",
      "Epoch 38/300\n",
      "42/42 - 1s - loss: 0.0394 - val_loss: 0.0469\n",
      "Epoch 39/300\n",
      "42/42 - 1s - loss: 0.0388 - val_loss: 0.0325\n",
      "INFO:tensorflow:Assets written to: model_experiments\\Combined_Model\\assets\n",
      "Epoch 40/300\n",
      "42/42 - 1s - loss: 0.0380 - val_loss: 0.0350\n",
      "Epoch 41/300\n",
      "42/42 - 1s - loss: 0.0411 - val_loss: 0.0365\n",
      "Epoch 42/300\n",
      "42/42 - 1s - loss: 0.0383 - val_loss: 0.0346\n",
      "Epoch 43/300\n",
      "42/42 - 1s - loss: 0.0377 - val_loss: 0.0388\n",
      "Epoch 44/300\n",
      "42/42 - 1s - loss: 0.0396 - val_loss: 0.0389\n",
      "Epoch 45/300\n",
      "42/42 - 1s - loss: 0.0370 - val_loss: 0.0331\n",
      "Epoch 46/300\n",
      "42/42 - 1s - loss: 0.0378 - val_loss: 0.0355\n",
      "Epoch 47/300\n",
      "42/42 - 2s - loss: 0.0366 - val_loss: 0.0436\n",
      "Epoch 48/300\n",
      "42/42 - 2s - loss: 0.0372 - val_loss: 0.0326\n",
      "Epoch 49/300\n",
      "42/42 - 2s - loss: 0.0368 - val_loss: 0.0319\n",
      "INFO:tensorflow:Assets written to: model_experiments\\Combined_Model\\assets\n",
      "Epoch 50/300\n",
      "42/42 - 1s - loss: 0.0375 - val_loss: 0.0346\n",
      "Epoch 51/300\n",
      "42/42 - 1s - loss: 0.0361 - val_loss: 0.0333\n",
      "Epoch 52/300\n",
      "42/42 - 1s - loss: 0.0373 - val_loss: 0.0327\n",
      "Epoch 53/300\n",
      "42/42 - 2s - loss: 0.0356 - val_loss: 0.0327\n",
      "Epoch 54/300\n",
      "42/42 - 1s - loss: 0.0374 - val_loss: 0.0330\n",
      "Epoch 55/300\n",
      "42/42 - 1s - loss: 0.0371 - val_loss: 0.0331\n",
      "Epoch 56/300\n",
      "42/42 - 1s - loss: 0.0373 - val_loss: 0.0426\n",
      "Epoch 57/300\n",
      "42/42 - 2s - loss: 0.0381 - val_loss: 0.0358\n",
      "Epoch 58/300\n",
      "42/42 - 2s - loss: 0.0399 - val_loss: 0.0349\n",
      "Epoch 59/300\n",
      "42/42 - 2s - loss: 0.0363 - val_loss: 0.0327\n",
      "Epoch 60/300\n",
      "42/42 - 2s - loss: 0.0353 - val_loss: 0.0317\n",
      "INFO:tensorflow:Assets written to: model_experiments\\Combined_Model\\assets\n",
      "Epoch 61/300\n",
      "42/42 - 1s - loss: 0.0383 - val_loss: 0.0386\n",
      "Epoch 62/300\n",
      "42/42 - 1s - loss: 0.0358 - val_loss: 0.0317\n",
      "INFO:tensorflow:Assets written to: model_experiments\\Combined_Model\\assets\n",
      "Epoch 63/300\n",
      "42/42 - 1s - loss: 0.0365 - val_loss: 0.0339\n",
      "Epoch 64/300\n",
      "42/42 - 1s - loss: 0.0355 - val_loss: 0.0326\n",
      "Epoch 65/300\n",
      "42/42 - 1s - loss: 0.0360 - val_loss: 0.0357\n",
      "Epoch 66/300\n",
      "42/42 - 1s - loss: 0.0365 - val_loss: 0.0321\n",
      "Epoch 67/300\n",
      "42/42 - 1s - loss: 0.0357 - val_loss: 0.0355\n",
      "Epoch 68/300\n",
      "42/42 - 1s - loss: 0.0352 - val_loss: 0.0410\n",
      "Epoch 69/300\n",
      "42/42 - 1s - loss: 0.0356 - val_loss: 0.0319\n",
      "Epoch 70/300\n",
      "42/42 - 1s - loss: 0.0361 - val_loss: 0.0330\n",
      "Epoch 71/300\n",
      "42/42 - 1s - loss: 0.0353 - val_loss: 0.0371\n",
      "Epoch 72/300\n",
      "42/42 - 1s - loss: 0.0348 - val_loss: 0.0345\n",
      "Epoch 73/300\n",
      "42/42 - 1s - loss: 0.0353 - val_loss: 0.0385\n",
      "Epoch 74/300\n",
      "42/42 - 1s - loss: 0.0356 - val_loss: 0.0330\n",
      "Epoch 75/300\n",
      "42/42 - 2s - loss: 0.0363 - val_loss: 0.0372\n",
      "Epoch 76/300\n",
      "42/42 - 2s - loss: 0.0354 - val_loss: 0.0436\n",
      "Epoch 77/300\n",
      "42/42 - 2s - loss: 0.0370 - val_loss: 0.0338\n",
      "Epoch 78/300\n",
      "42/42 - 2s - loss: 0.0366 - val_loss: 0.0334\n",
      "Epoch 79/300\n",
      "42/42 - 2s - loss: 0.0365 - val_loss: 0.0329\n",
      "Epoch 80/300\n",
      "42/42 - 2s - loss: 0.0356 - val_loss: 0.0314\n",
      "INFO:tensorflow:Assets written to: model_experiments\\Combined_Model\\assets\n",
      "Epoch 81/300\n",
      "42/42 - 1s - loss: 0.0359 - val_loss: 0.0343\n",
      "Epoch 82/300\n",
      "42/42 - 1s - loss: 0.0359 - val_loss: 0.0369\n",
      "Epoch 83/300\n",
      "42/42 - 1s - loss: 0.0354 - val_loss: 0.0337\n",
      "Epoch 84/300\n",
      "42/42 - 1s - loss: 0.0362 - val_loss: 0.0342\n",
      "Epoch 85/300\n",
      "42/42 - 2s - loss: 0.0354 - val_loss: 0.0391\n",
      "Epoch 86/300\n",
      "42/42 - 2s - loss: 0.0366 - val_loss: 0.0331\n",
      "Epoch 87/300\n",
      "42/42 - 2s - loss: 0.0360 - val_loss: 0.0331\n",
      "Epoch 88/300\n",
      "42/42 - 1s - loss: 0.0356 - val_loss: 0.0413\n",
      "Epoch 89/300\n",
      "42/42 - 2s - loss: 0.0349 - val_loss: 0.0336\n",
      "Epoch 90/300\n",
      "42/42 - 1s - loss: 0.0368 - val_loss: 0.0425\n",
      "Epoch 91/300\n",
      "42/42 - 1s - loss: 0.0375 - val_loss: 0.0333\n",
      "Epoch 92/300\n",
      "42/42 - 1s - loss: 0.0349 - val_loss: 0.0360\n",
      "Epoch 93/300\n",
      "42/42 - 1s - loss: 0.0357 - val_loss: 0.0334\n",
      "Epoch 94/300\n",
      "42/42 - 1s - loss: 0.0350 - val_loss: 0.0324\n",
      "Epoch 95/300\n",
      "42/42 - 1s - loss: 0.0360 - val_loss: 0.0360\n",
      "Epoch 96/300\n",
      "42/42 - 1s - loss: 0.0349 - val_loss: 0.0322\n",
      "Epoch 97/300\n",
      "42/42 - 1s - loss: 0.0365 - val_loss: 0.0412\n",
      "Epoch 98/300\n",
      "42/42 - 1s - loss: 0.0358 - val_loss: 0.0391\n",
      "Epoch 99/300\n",
      "42/42 - 1s - loss: 0.0352 - val_loss: 0.0328\n",
      "Epoch 100/300\n",
      "42/42 - 2s - loss: 0.0349 - val_loss: 0.0356\n",
      "Epoch 101/300\n",
      "42/42 - 2s - loss: 0.0350 - val_loss: 0.0322\n",
      "Epoch 102/300\n",
      "42/42 - 2s - loss: 0.0359 - val_loss: 0.0342\n",
      "Epoch 103/300\n",
      "42/42 - 1s - loss: 0.0348 - val_loss: 0.0347\n",
      "Epoch 104/300\n",
      "42/42 - 1s - loss: 0.0350 - val_loss: 0.0323\n",
      "Epoch 105/300\n",
      "42/42 - 1s - loss: 0.0356 - val_loss: 0.0416\n",
      "Epoch 106/300\n",
      "42/42 - 1s - loss: 0.0349 - val_loss: 0.0316\n",
      "Epoch 107/300\n",
      "42/42 - 1s - loss: 0.0351 - val_loss: 0.0372\n",
      "Epoch 108/300\n",
      "42/42 - 1s - loss: 0.0360 - val_loss: 0.0350\n",
      "Epoch 109/300\n",
      "42/42 - 1s - loss: 0.0380 - val_loss: 0.0410\n",
      "Epoch 110/300\n",
      "42/42 - 2s - loss: 0.0378 - val_loss: 0.0369\n",
      "Epoch 111/300\n",
      "42/42 - 1s - loss: 0.0376 - val_loss: 0.0383\n",
      "Epoch 112/300\n",
      "42/42 - 1s - loss: 0.0353 - val_loss: 0.0343\n",
      "Epoch 113/300\n",
      "42/42 - 1s - loss: 0.0351 - val_loss: 0.0340\n"
     ]
    },
    {
     "name": "stdout",
     "output_type": "stream",
     "text": [
      "Epoch 114/300\n",
      "42/42 - 1s - loss: 0.0361 - val_loss: 0.0332\n",
      "Epoch 115/300\n",
      "42/42 - 1s - loss: 0.0358 - val_loss: 0.0402\n",
      "Epoch 116/300\n",
      "42/42 - 1s - loss: 0.0364 - val_loss: 0.0341\n",
      "Epoch 117/300\n",
      "42/42 - 1s - loss: 0.0357 - val_loss: 0.0346\n",
      "Epoch 118/300\n",
      "42/42 - 1s - loss: 0.0356 - val_loss: 0.0329\n",
      "Epoch 119/300\n",
      "42/42 - 1s - loss: 0.0367 - val_loss: 0.0346\n",
      "Epoch 120/300\n",
      "42/42 - 1s - loss: 0.0357 - val_loss: 0.0326\n",
      "Epoch 121/300\n",
      "42/42 - 1s - loss: 0.0354 - val_loss: 0.0330\n",
      "Epoch 122/300\n",
      "42/42 - 1s - loss: 0.0357 - val_loss: 0.0344\n",
      "Epoch 123/300\n",
      "42/42 - 1s - loss: 0.0347 - val_loss: 0.0323\n",
      "Epoch 124/300\n",
      "42/42 - 1s - loss: 0.0362 - val_loss: 0.0347\n",
      "Epoch 125/300\n",
      "42/42 - 1s - loss: 0.0361 - val_loss: 0.0347\n",
      "Epoch 126/300\n",
      "42/42 - 1s - loss: 0.0355 - val_loss: 0.0354\n",
      "Epoch 127/300\n",
      "42/42 - 1s - loss: 0.0360 - val_loss: 0.0447\n",
      "Epoch 128/300\n",
      "42/42 - 1s - loss: 0.0368 - val_loss: 0.0455\n",
      "Epoch 129/300\n",
      "42/42 - 1s - loss: 0.0363 - val_loss: 0.0332\n",
      "Epoch 130/300\n",
      "42/42 - 1s - loss: 0.0360 - val_loss: 0.0359\n",
      "Epoch 131/300\n",
      "42/42 - 1s - loss: 0.0347 - val_loss: 0.0341\n",
      "Epoch 132/300\n",
      "42/42 - 1s - loss: 0.0359 - val_loss: 0.0323\n",
      "Epoch 133/300\n",
      "42/42 - 1s - loss: 0.0350 - val_loss: 0.0344\n",
      "Epoch 134/300\n",
      "42/42 - 1s - loss: 0.0359 - val_loss: 0.0331\n",
      "Epoch 135/300\n",
      "42/42 - 1s - loss: 0.0356 - val_loss: 0.0377\n",
      "Epoch 136/300\n",
      "42/42 - 1s - loss: 0.0352 - val_loss: 0.0342\n",
      "Epoch 137/300\n",
      "42/42 - 1s - loss: 0.0369 - val_loss: 0.0385\n",
      "Epoch 138/300\n",
      "42/42 - 1s - loss: 0.0351 - val_loss: 0.0346\n",
      "Epoch 139/300\n",
      "42/42 - 2s - loss: 0.0360 - val_loss: 0.0350\n",
      "Epoch 140/300\n",
      "42/42 - 2s - loss: 0.0366 - val_loss: 0.0447\n",
      "Epoch 141/300\n",
      "42/42 - 2s - loss: 0.0349 - val_loss: 0.0341\n",
      "Epoch 142/300\n",
      "42/42 - 2s - loss: 0.0353 - val_loss: 0.0336\n",
      "Epoch 143/300\n",
      "42/42 - 2s - loss: 0.0350 - val_loss: 0.0384\n",
      "Epoch 144/300\n",
      "42/42 - 2s - loss: 0.0350 - val_loss: 0.0359\n",
      "Epoch 145/300\n",
      "42/42 - 2s - loss: 0.0344 - val_loss: 0.0329\n",
      "Epoch 146/300\n",
      "42/42 - 2s - loss: 0.0350 - val_loss: 0.0425\n",
      "Epoch 147/300\n",
      "42/42 - 2s - loss: 0.0365 - val_loss: 0.0370\n",
      "Epoch 148/300\n",
      "42/42 - 2s - loss: 0.0357 - val_loss: 0.0456\n",
      "Epoch 149/300\n",
      "42/42 - 2s - loss: 0.0347 - val_loss: 0.0401\n",
      "Epoch 150/300\n",
      "42/42 - 2s - loss: 0.0362 - val_loss: 0.0347\n",
      "Epoch 151/300\n",
      "42/42 - 2s - loss: 0.0360 - val_loss: 0.0360\n",
      "Epoch 152/300\n",
      "42/42 - 2s - loss: 0.0359 - val_loss: 0.0345\n",
      "Epoch 153/300\n",
      "42/42 - 2s - loss: 0.0352 - val_loss: 0.0332\n",
      "Epoch 154/300\n",
      "42/42 - 2s - loss: 0.0363 - val_loss: 0.0340\n",
      "Epoch 155/300\n",
      "42/42 - 2s - loss: 0.0359 - val_loss: 0.0347\n",
      "Epoch 156/300\n",
      "42/42 - 2s - loss: 0.0362 - val_loss: 0.0408\n",
      "Epoch 157/300\n",
      "42/42 - 2s - loss: 0.0352 - val_loss: 0.0351\n",
      "Epoch 158/300\n",
      "42/42 - 2s - loss: 0.0347 - val_loss: 0.0346\n",
      "Epoch 159/300\n",
      "42/42 - 2s - loss: 0.0349 - val_loss: 0.0355\n",
      "Epoch 160/300\n",
      "42/42 - 2s - loss: 0.0366 - val_loss: 0.0345\n",
      "Epoch 161/300\n",
      "42/42 - 1s - loss: 0.0354 - val_loss: 0.0412\n",
      "Epoch 162/300\n",
      "42/42 - 1s - loss: 0.0363 - val_loss: 0.0334\n",
      "Epoch 163/300\n",
      "42/42 - 1s - loss: 0.0360 - val_loss: 0.0388\n",
      "Epoch 164/300\n",
      "42/42 - 1s - loss: 0.0355 - val_loss: 0.0385\n",
      "Epoch 165/300\n",
      "42/42 - 1s - loss: 0.0365 - val_loss: 0.0352\n",
      "Epoch 166/300\n",
      "42/42 - 1s - loss: 0.0360 - val_loss: 0.0360\n",
      "Epoch 167/300\n",
      "42/42 - 1s - loss: 0.0348 - val_loss: 0.0352\n",
      "Epoch 168/300\n",
      "42/42 - 1s - loss: 0.0352 - val_loss: 0.0335\n",
      "Epoch 169/300\n",
      "42/42 - 1s - loss: 0.0350 - val_loss: 0.0429\n",
      "Epoch 170/300\n",
      "42/42 - 1s - loss: 0.0347 - val_loss: 0.0361\n",
      "Epoch 171/300\n",
      "42/42 - 1s - loss: 0.0358 - val_loss: 0.0373\n",
      "Epoch 172/300\n",
      "42/42 - 1s - loss: 0.0357 - val_loss: 0.0356\n",
      "Epoch 173/300\n",
      "42/42 - 1s - loss: 0.0356 - val_loss: 0.0380\n",
      "Epoch 174/300\n",
      "42/42 - 1s - loss: 0.0348 - val_loss: 0.0367\n",
      "Epoch 175/300\n",
      "42/42 - 1s - loss: 0.0352 - val_loss: 0.0357\n",
      "Epoch 176/300\n",
      "42/42 - 1s - loss: 0.0349 - val_loss: 0.0381\n",
      "Epoch 177/300\n",
      "42/42 - 1s - loss: 0.0367 - val_loss: 0.0448\n",
      "Epoch 178/300\n",
      "42/42 - 1s - loss: 0.0365 - val_loss: 0.0361\n",
      "Epoch 179/300\n",
      "42/42 - 1s - loss: 0.0353 - val_loss: 0.0338\n",
      "Epoch 180/300\n",
      "42/42 - 1s - loss: 0.0372 - val_loss: 0.0340\n",
      "Epoch 181/300\n",
      "42/42 - 2s - loss: 0.0348 - val_loss: 0.0344\n",
      "Epoch 182/300\n",
      "42/42 - 2s - loss: 0.0356 - val_loss: 0.0416\n",
      "Epoch 183/300\n",
      "42/42 - 2s - loss: 0.0351 - val_loss: 0.0332\n",
      "Epoch 184/300\n",
      "42/42 - 2s - loss: 0.0355 - val_loss: 0.0352\n",
      "Epoch 185/300\n",
      "42/42 - 2s - loss: 0.0360 - val_loss: 0.0358\n",
      "Epoch 186/300\n",
      "42/42 - 2s - loss: 0.0366 - val_loss: 0.0343\n",
      "Epoch 187/300\n",
      "42/42 - 2s - loss: 0.0368 - val_loss: 0.0383\n",
      "Epoch 188/300\n",
      "42/42 - 2s - loss: 0.0360 - val_loss: 0.0400\n",
      "Epoch 189/300\n",
      "42/42 - 2s - loss: 0.0351 - val_loss: 0.0463\n",
      "Epoch 190/300\n",
      "42/42 - 2s - loss: 0.0370 - val_loss: 0.0388\n",
      "Epoch 191/300\n",
      "42/42 - 2s - loss: 0.0352 - val_loss: 0.0340\n",
      "Epoch 192/300\n",
      "42/42 - 2s - loss: 0.0356 - val_loss: 0.0336\n",
      "Epoch 193/300\n",
      "42/42 - 2s - loss: 0.0343 - val_loss: 0.0346\n",
      "Epoch 194/300\n",
      "42/42 - 2s - loss: 0.0348 - val_loss: 0.0330\n",
      "Epoch 195/300\n",
      "42/42 - 2s - loss: 0.0352 - val_loss: 0.0348\n",
      "Epoch 196/300\n",
      "42/42 - 2s - loss: 0.0349 - val_loss: 0.0429\n",
      "Epoch 197/300\n",
      "42/42 - 2s - loss: 0.0347 - val_loss: 0.0447\n",
      "Epoch 198/300\n",
      "42/42 - 2s - loss: 0.0355 - val_loss: 0.0380\n",
      "Epoch 199/300\n",
      "42/42 - 2s - loss: 0.0375 - val_loss: 0.0350\n",
      "Epoch 200/300\n",
      "42/42 - 2s - loss: 0.0358 - val_loss: 0.0354\n",
      "Epoch 201/300\n",
      "42/42 - 2s - loss: 0.0348 - val_loss: 0.0340\n",
      "Epoch 202/300\n",
      "42/42 - 2s - loss: 0.0366 - val_loss: 0.0423\n",
      "Epoch 203/300\n",
      "42/42 - 2s - loss: 0.0364 - val_loss: 0.0358\n",
      "Epoch 204/300\n",
      "42/42 - 2s - loss: 0.0345 - val_loss: 0.0346\n",
      "Epoch 205/300\n",
      "42/42 - 1s - loss: 0.0335 - val_loss: 0.0337\n",
      "Epoch 206/300\n",
      "42/42 - 1s - loss: 0.0352 - val_loss: 0.0337\n",
      "Epoch 207/300\n",
      "42/42 - 1s - loss: 0.0348 - val_loss: 0.0353\n",
      "Epoch 208/300\n",
      "42/42 - 1s - loss: 0.0352 - val_loss: 0.0360\n",
      "Epoch 209/300\n",
      "42/42 - 1s - loss: 0.0357 - val_loss: 0.0356\n",
      "Epoch 210/300\n",
      "42/42 - 1s - loss: 0.0352 - val_loss: 0.0346\n",
      "Epoch 211/300\n",
      "42/42 - 1s - loss: 0.0351 - val_loss: 0.0332\n",
      "Epoch 212/300\n",
      "42/42 - 1s - loss: 0.0354 - val_loss: 0.0365\n",
      "Epoch 213/300\n",
      "42/42 - 1s - loss: 0.0351 - val_loss: 0.0339\n",
      "Epoch 214/300\n",
      "42/42 - 1s - loss: 0.0368 - val_loss: 0.0343\n",
      "Epoch 215/300\n",
      "42/42 - 1s - loss: 0.0345 - val_loss: 0.0344\n",
      "Epoch 216/300\n",
      "42/42 - 1s - loss: 0.0359 - val_loss: 0.0415\n",
      "Epoch 217/300\n",
      "42/42 - 1s - loss: 0.0365 - val_loss: 0.0334\n",
      "Epoch 218/300\n",
      "42/42 - 1s - loss: 0.0361 - val_loss: 0.0338\n",
      "Epoch 219/300\n",
      "42/42 - 1s - loss: 0.0344 - val_loss: 0.0329\n",
      "Epoch 220/300\n",
      "42/42 - 1s - loss: 0.0354 - val_loss: 0.0358\n",
      "Epoch 221/300\n",
      "42/42 - 1s - loss: 0.0366 - val_loss: 0.0333\n",
      "Epoch 222/300\n",
      "42/42 - 1s - loss: 0.0367 - val_loss: 0.0352\n",
      "Epoch 223/300\n",
      "42/42 - 1s - loss: 0.0359 - val_loss: 0.0348\n",
      "Epoch 224/300\n",
      "42/42 - 1s - loss: 0.0355 - val_loss: 0.0337\n",
      "Epoch 225/300\n",
      "42/42 - 1s - loss: 0.0358 - val_loss: 0.0368\n",
      "Epoch 226/300\n",
      "42/42 - 1s - loss: 0.0373 - val_loss: 0.0353\n",
      "Epoch 227/300\n",
      "42/42 - 1s - loss: 0.0370 - val_loss: 0.0346\n",
      "Epoch 228/300\n",
      "42/42 - 1s - loss: 0.0356 - val_loss: 0.0349\n",
      "Epoch 229/300\n",
      "42/42 - 1s - loss: 0.0357 - val_loss: 0.0373\n",
      "Epoch 230/300\n",
      "42/42 - 1s - loss: 0.0354 - val_loss: 0.0415\n",
      "Epoch 231/300\n",
      "42/42 - 1s - loss: 0.0356 - val_loss: 0.0343\n",
      "Epoch 232/300\n",
      "42/42 - 1s - loss: 0.0360 - val_loss: 0.0355\n",
      "Epoch 233/300\n",
      "42/42 - 1s - loss: 0.0356 - val_loss: 0.0430\n",
      "Epoch 234/300\n",
      "42/42 - 1s - loss: 0.0358 - val_loss: 0.0351\n",
      "Epoch 235/300\n",
      "42/42 - 1s - loss: 0.0353 - val_loss: 0.0366\n",
      "Epoch 236/300\n",
      "42/42 - 1s - loss: 0.0363 - val_loss: 0.0337\n",
      "Epoch 237/300\n",
      "42/42 - 1s - loss: 0.0372 - val_loss: 0.0383\n",
      "Epoch 238/300\n",
      "42/42 - 1s - loss: 0.0367 - val_loss: 0.0342\n",
      "Epoch 239/300\n",
      "42/42 - 1s - loss: 0.0359 - val_loss: 0.0376\n",
      "Epoch 240/300\n",
      "42/42 - 1s - loss: 0.0354 - val_loss: 0.0361\n",
      "Epoch 241/300\n",
      "42/42 - 1s - loss: 0.0352 - val_loss: 0.0346\n",
      "Epoch 242/300\n",
      "42/42 - 1s - loss: 0.0362 - val_loss: 0.0338\n",
      "Epoch 243/300\n",
      "42/42 - 1s - loss: 0.0341 - val_loss: 0.0358\n",
      "Epoch 244/300\n",
      "42/42 - 1s - loss: 0.0353 - val_loss: 0.0335\n",
      "Epoch 245/300\n",
      "42/42 - 1s - loss: 0.0351 - val_loss: 0.0345\n",
      "Epoch 246/300\n",
      "42/42 - 1s - loss: 0.0356 - val_loss: 0.0331\n",
      "Epoch 247/300\n",
      "42/42 - 1s - loss: 0.0353 - val_loss: 0.0340\n",
      "Epoch 248/300\n",
      "42/42 - 1s - loss: 0.0361 - val_loss: 0.0353\n",
      "Epoch 249/300\n",
      "42/42 - 1s - loss: 0.0357 - val_loss: 0.0394\n",
      "Epoch 250/300\n",
      "42/42 - 1s - loss: 0.0366 - val_loss: 0.0376\n",
      "Epoch 251/300\n",
      "42/42 - 1s - loss: 0.0360 - val_loss: 0.0356\n",
      "Epoch 252/300\n",
      "42/42 - 1s - loss: 0.0349 - val_loss: 0.0339\n"
     ]
    },
    {
     "name": "stdout",
     "output_type": "stream",
     "text": [
      "Epoch 253/300\n",
      "42/42 - 1s - loss: 0.0370 - val_loss: 0.0348\n",
      "Epoch 254/300\n",
      "42/42 - 1s - loss: 0.0357 - val_loss: 0.0349\n",
      "Epoch 255/300\n",
      "42/42 - 1s - loss: 0.0364 - val_loss: 0.0390\n",
      "Epoch 256/300\n",
      "42/42 - 1s - loss: 0.0359 - val_loss: 0.0373\n",
      "Epoch 257/300\n",
      "42/42 - 1s - loss: 0.0351 - val_loss: 0.0369\n",
      "Epoch 258/300\n",
      "42/42 - 1s - loss: 0.0359 - val_loss: 0.0351\n",
      "Epoch 259/300\n",
      "42/42 - 1s - loss: 0.0351 - val_loss: 0.0350\n",
      "Epoch 260/300\n",
      "42/42 - 1s - loss: 0.0358 - val_loss: 0.0383\n",
      "Epoch 261/300\n",
      "42/42 - 1s - loss: 0.0360 - val_loss: 0.0354\n",
      "Epoch 262/300\n",
      "42/42 - 1s - loss: 0.0360 - val_loss: 0.0351\n",
      "Epoch 263/300\n",
      "42/42 - 1s - loss: 0.0358 - val_loss: 0.0341\n",
      "Epoch 264/300\n",
      "42/42 - 1s - loss: 0.0350 - val_loss: 0.0351\n",
      "Epoch 265/300\n",
      "42/42 - 1s - loss: 0.0356 - val_loss: 0.0397\n",
      "Epoch 266/300\n",
      "42/42 - 1s - loss: 0.0362 - val_loss: 0.0489\n",
      "Epoch 267/300\n",
      "42/42 - 1s - loss: 0.0360 - val_loss: 0.0337\n",
      "Epoch 268/300\n",
      "42/42 - 1s - loss: 0.0367 - val_loss: 0.0337\n",
      "Epoch 269/300\n",
      "42/42 - 1s - loss: 0.0365 - val_loss: 0.0334\n",
      "Epoch 270/300\n",
      "42/42 - 1s - loss: 0.0356 - val_loss: 0.0367\n",
      "Epoch 271/300\n",
      "42/42 - 1s - loss: 0.0354 - val_loss: 0.0343\n",
      "Epoch 272/300\n",
      "42/42 - 1s - loss: 0.0340 - val_loss: 0.0320\n",
      "Epoch 273/300\n",
      "42/42 - 1s - loss: 0.0356 - val_loss: 0.0335\n",
      "Epoch 274/300\n",
      "42/42 - 1s - loss: 0.0356 - val_loss: 0.0405\n",
      "Epoch 275/300\n",
      "42/42 - 1s - loss: 0.0363 - val_loss: 0.0363\n",
      "Epoch 276/300\n",
      "42/42 - 1s - loss: 0.0347 - val_loss: 0.0342\n",
      "Epoch 277/300\n",
      "42/42 - 1s - loss: 0.0364 - val_loss: 0.0356\n",
      "Epoch 278/300\n",
      "42/42 - 1s - loss: 0.0356 - val_loss: 0.0357\n",
      "Epoch 279/300\n",
      "42/42 - 1s - loss: 0.0348 - val_loss: 0.0344\n",
      "Epoch 280/300\n",
      "42/42 - 1s - loss: 0.0357 - val_loss: 0.0346\n",
      "Epoch 281/300\n",
      "42/42 - 1s - loss: 0.0356 - val_loss: 0.0380\n",
      "Epoch 282/300\n",
      "42/42 - 1s - loss: 0.0374 - val_loss: 0.0400\n",
      "Epoch 283/300\n",
      "42/42 - 1s - loss: 0.0357 - val_loss: 0.0341\n",
      "Epoch 284/300\n",
      "42/42 - 1s - loss: 0.0345 - val_loss: 0.0337\n",
      "Epoch 285/300\n",
      "42/42 - 1s - loss: 0.0351 - val_loss: 0.0340\n",
      "Epoch 286/300\n",
      "42/42 - 1s - loss: 0.0355 - val_loss: 0.0337\n",
      "Epoch 287/300\n",
      "42/42 - 1s - loss: 0.0342 - val_loss: 0.0340\n",
      "Epoch 288/300\n",
      "42/42 - 1s - loss: 0.0351 - val_loss: 0.0340\n",
      "Epoch 289/300\n",
      "42/42 - 1s - loss: 0.0363 - val_loss: 0.0415\n",
      "Epoch 290/300\n",
      "42/42 - 1s - loss: 0.0360 - val_loss: 0.0356\n",
      "Epoch 291/300\n",
      "42/42 - 1s - loss: 0.0347 - val_loss: 0.0332\n",
      "Epoch 292/300\n",
      "42/42 - 1s - loss: 0.0342 - val_loss: 0.0357\n",
      "Epoch 293/300\n",
      "42/42 - 1s - loss: 0.0344 - val_loss: 0.0343\n",
      "Epoch 294/300\n",
      "42/42 - 1s - loss: 0.0357 - val_loss: 0.0386\n",
      "Epoch 295/300\n",
      "42/42 - 1s - loss: 0.0350 - val_loss: 0.0336\n",
      "Epoch 296/300\n",
      "42/42 - 1s - loss: 0.0349 - val_loss: 0.0330\n",
      "Epoch 297/300\n",
      "42/42 - 1s - loss: 0.0357 - val_loss: 0.0341\n",
      "Epoch 298/300\n",
      "42/42 - 1s - loss: 0.0364 - val_loss: 0.0366\n",
      "Epoch 299/300\n",
      "42/42 - 1s - loss: 0.0369 - val_loss: 0.0416\n",
      "Epoch 300/300\n",
      "42/42 - 1s - loss: 0.0352 - val_loss: 0.0339\n"
     ]
    }
   ],
   "source": [
    "from tensorflow.keras import regularizers\n",
    "model_4 = tf.keras.Sequential([\n",
    "    layers.Input(shape = (WINDOW_SIZE + 1)) , \n",
    "    layers.Lambda(lambda x: tf.expand_dims(x , axis = 1)) , \n",
    "    layers.GRU(512, kernel_regularizer=regularizers.l2(0.0001),\n",
    "                 activation='relu') , \n",
    "    layers.Dropout(0.5) , \n",
    "    layers.Dense(512, kernel_regularizer=regularizers.l2(0.0001),\n",
    "                 activation='relu'),\n",
    "    layers.Dropout(0.5),\n",
    "    layers.Dense(512, kernel_regularizer=regularizers.l2(0.0001),\n",
    "                 activation='relu'),\n",
    "    layers.Dropout(0.5),\n",
    "    layers.Dense(512, kernel_regularizer=regularizers.l2(0.0001),\n",
    "                 activation='relu'),\n",
    "    layers.Dropout(0.5),\n",
    "    layers.Dense(512, kernel_regularizer=regularizers.l2(0.0001),\n",
    "                 activation='relu'),\n",
    "    layers.Dropout(0.5),\n",
    "    layers.Dense(1)\n",
    "] , name = 'Combined_Model')\n",
    "\n",
    "model_4.compile(loss = 'mae' , optimizer = tf.keras.optimizers.Adam())\n",
    "\n",
    "history_4 = model_4.fit(train_windows , train_labels , verbose = 2 , epochs = 300 , batch_size = 64 , \n",
    "                       validation_data = (test_windows , test_labels) , \n",
    "                       callbacks = [create_model_checkpoint(model_name = model_4.name)])"
   ]
  },
  {
   "cell_type": "code",
   "execution_count": 89,
   "id": "2f3b47b4",
   "metadata": {},
   "outputs": [
    {
     "data": {
      "image/png": "[encoded data removed]",
      "text/plain": [
       "<Figure size 720x504 with 1 Axes>"
      ]
     },
     "metadata": {
      "needs_background": "light"
     },
     "output_type": "display_data"
    }
   ],
   "source": [
    "pd.DataFrame(history_4.history).plot(figsize = (10 , 7));"
   ]
  },
  {
   "cell_type": "code",
   "execution_count": 90,
   "id": "53fe3308",
   "metadata": {},
   "outputs": [
    {
     "name": "stdout",
     "output_type": "stream",
     "text": [
      "21/21 [==============================] - 0s 7ms/step - loss: 0.0314\n"
     ]
    },
    {
     "data": {
      "text/plain": [
       "0.0314209945499897"
      ]
     },
     "execution_count": 90,
     "metadata": {},
     "output_type": "execute_result"
    }
   ],
   "source": [
    "model_4 = tf.keras.models.load_model(\"model_experiments/Combined_Model/\")\n",
    "model_4.evaluate(test_windows, test_labels)"
   ]
  },
  {
   "cell_type": "code",
   "execution_count": 91,
   "id": "ba0d192a",
   "metadata": {},
   "outputs": [
    {
     "data": {
      "text/plain": [
       "<tf.Tensor: shape=(10,), dtype=float32, numpy=\n",
       "array([0.008689  , 0.36430922, 0.08929934, 0.262728  , 0.06315447,\n",
       "       0.00892967, 0.21132377, 0.22965889, 0.27149633, 0.17983654],\n",
       "      dtype=float32)>"
      ]
     },
     "execution_count": 91,
     "metadata": {},
     "output_type": "execute_result"
    }
   ],
   "source": [
    "model_4_preds = make_preds(model_4, test_windows)\n",
    "model_4_preds[:10]"
   ]
  },
  {
   "cell_type": "code",
   "execution_count": 92,
   "id": "5dbbef4b",
   "metadata": {},
   "outputs": [],
   "source": [
    "model_4_preds = tf.nn.relu(model_4_preds)"
   ]
  },
  {
   "cell_type": "code",
   "execution_count": 93,
   "id": "806f5d81",
   "metadata": {
    "scrolled": true
   },
   "outputs": [
    {
     "data": {
      "text/plain": [
       "{'MAE: ': 0.027359316,\n",
       " 'MSE': 0.0033805568,\n",
       " 'RMSE': 0.058142558,\n",
       " 'MAPE': 921089.56,\n",
       " 'Median': 0.011012331,\n",
       " '% error wrt median': 21.225260734558105,\n",
       " '% error wrt mean': 21.225260734558105,\n",
       " 'Min Error': 0.09687896817922592,\n",
       " 'Max Error': inf}"
      ]
     },
     "execution_count": 93,
     "metadata": {},
     "output_type": "execute_result"
    }
   ],
   "source": [
    "errors(y_true = tf.squeeze(test_labels) , y_pred = model_4_preds)"
   ]
  },
  {
   "cell_type": "markdown",
   "id": "6a380e9c",
   "metadata": {},
   "source": [
    "# Hypertune parameters in model"
   ]
  },
  {
   "cell_type": "code",
   "execution_count": 110,
   "id": "f6f5dc64",
   "metadata": {},
   "outputs": [],
   "source": [
    "import keras_tuner as kt"
   ]
  },
  {
   "cell_type": "code",
   "execution_count": 147,
   "id": "58f164f1",
   "metadata": {},
   "outputs": [],
   "source": [
    "def model_builder(hp):\n",
    "    model = tf.keras.Sequential()\n",
    "    model.add(layers.InputLayer(shape = (WINDOW_SIZE + 1)))\n",
    "    \n",
    "    model.add(layers.Lambda(lambda x: tf.expand_dims(x , axis = 1)))\n",
    "    # Now, we will try to automate number of nodes in first layer\n",
    "    # Tune the number of units in the first Dense layer\n",
    "    # Choose an optimal value between 32-512\n",
    "    hp_units = hp.Int('units', min_value=32, max_value=512, step=32)\n",
    "    model.add(layers.GRU(units = hp_units, kernel_regularizer=regularizers.l2(0.0001) , activation='relu'))\n",
    "    \n",
    "    model.add(layers.Dense(512 , activation='relu' , kernel_regularizer=tf.keras.regularizers.l2(0.001)))\n",
    "    model.add(layers.Dense(512 , activation='relu' , kernel_regularizer=tf.keras.regularizers.l2(0.001)))\n",
    "    model.add(layers.Dense(512 , activation='relu' , kernel_regularizer=tf.keras.regularizers.l2(0.001)))\n",
    "    model.add(layers.Dense(512 , activation='relu' , kernel_regularizer=tf.keras.regularizers.l2(0.001)))\n",
    "    model.add(layers.Dense(1))\n",
    "\n",
    "    # Tune the learning rate for the optimizer\n",
    "    # Choose an optimal value from 0.01, 0.001, or 0.0001\n",
    "    hp_learning_rate = hp.Choice('learning_rate', values=[1e-2, 1e-3, 1e-4])\n",
    "\n",
    "    model.compile(optimizer=tf.keras.optimizers.Adam(learning_rate=hp_learning_rate),\n",
    "                loss = 'mae' , metrics = ['mae'])\n",
    "\n",
    "    return model"
   ]
  },
  {
   "cell_type": "markdown",
   "id": "4ab7d4d2",
   "metadata": {},
   "source": [
    "## Instantiate the tuner and perform hypertuning\n",
    "Instantiate the tuner to perform the hypertuning. The Keras Tuner has four tuners available - RandomSearch, Hyperband, BayesianOptimization, and Sklearn. In this tutorial, you use the Hyperband tuner."
   ]
  },
  {
   "cell_type": "code",
   "execution_count": 148,
   "id": "06ca79b5",
   "metadata": {},
   "outputs": [
    {
     "name": "stdout",
     "output_type": "stream",
     "text": [
      "WARNING:tensorflow:Please add `keras.layers.InputLayer` instead of `keras.Input` to Sequential model. `keras.Input` is intended to be used by Functional model.\n"
     ]
    }
   ],
   "source": [
    "# Observe val_loss with\n",
    "tuner = kt.Hyperband(model_builder , objective='val_loss' ,\n",
    "                     max_epochs=100 , factor=3 ,\n",
    "                     directory='model_experiments' , project_name='hypertune_model')"
   ]
  },
  {
   "cell_type": "code",
   "execution_count": 149,
   "id": "c1a29e64",
   "metadata": {},
   "outputs": [],
   "source": [
    "stop_early = tf.keras.callbacks.EarlyStopping(monitor='val_loss' , patience=5)"
   ]
  },
  {
   "cell_type": "code",
   "execution_count": 150,
   "id": "35875297",
   "metadata": {},
   "outputs": [
    {
     "name": "stdout",
     "output_type": "stream",
     "text": [
      "Trial 44 Complete [00h 00m 03s]\n",
      "val_loss: 0.054757289588451385\n",
      "\n",
      "Best val_loss So Far: 0.03344989940524101\n",
      "Total elapsed time: 00h 03m 07s\n",
      "INFO:tensorflow:Oracle triggered exit\n",
      "\n",
      "The hyperparameter search is complete. The optimal number of units in the first densely-connected\n",
      "layer is 160 and the optimal learning rate for the optimizer\n",
      "is 0.01.\n",
      "\n"
     ]
    }
   ],
   "source": [
    "tuner.search(full_windows , full_labels , epochs=50, validation_split=0.2, callbacks=[stop_early])\n",
    "\n",
    "# Get the optimal hyperparameters\n",
    "best_hps=tuner.get_best_hyperparameters(num_trials=1)[0]\n",
    "\n",
    "print(f\"\"\"\n",
    "The hyperparameter search is complete. The optimal number of units in the first densely-connected\n",
    "layer is {best_hps.get('units')} and the optimal learning rate for the optimizer\n",
    "is {best_hps.get('learning_rate')}.\n",
    "\"\"\")"
   ]
  },
  {
   "cell_type": "code",
   "execution_count": 154,
   "id": "a7eab178",
   "metadata": {},
   "outputs": [
    {
     "name": "stdout",
     "output_type": "stream",
     "text": [
      "WARNING:tensorflow:Please add `keras.layers.InputLayer` instead of `keras.Input` to Sequential model. `keras.Input` is intended to be used by Functional model.\n",
      "Epoch 1/100\n",
      "84/84 [==============================] - 2s 12ms/step - loss: 0.2748 - mae: 0.1257 - val_loss: 0.1392 - val_mae: 0.1372\n",
      "Epoch 2/100\n",
      "84/84 [==============================] - 1s 9ms/step - loss: 0.1162 - mae: 0.1157 - val_loss: 0.1429 - val_mae: 0.1428\n",
      "Epoch 3/100\n",
      "84/84 [==============================] - 1s 9ms/step - loss: 0.1156 - mae: 0.1155 - val_loss: 0.1365 - val_mae: 0.1364\n",
      "Epoch 4/100\n",
      "84/84 [==============================] - 1s 9ms/step - loss: 0.1153 - mae: 0.1153 - val_loss: 0.1371 - val_mae: 0.1371\n",
      "Epoch 5/100\n",
      "84/84 [==============================] - 1s 9ms/step - loss: 0.1153 - mae: 0.1153 - val_loss: 0.1367 - val_mae: 0.1367\n",
      "Epoch 6/100\n",
      "84/84 [==============================] - 1s 9ms/step - loss: 0.1153 - mae: 0.1153 - val_loss: 0.1366 - val_mae: 0.1366\n",
      "Epoch 7/100\n",
      "84/84 [==============================] - 1s 9ms/step - loss: 0.1152 - mae: 0.1152 - val_loss: 0.1387 - val_mae: 0.1387\n",
      "Epoch 8/100\n",
      "84/84 [==============================] - 1s 9ms/step - loss: 0.1158 - mae: 0.1158 - val_loss: 0.1377 - val_mae: 0.1377\n",
      "Epoch 9/100\n",
      "84/84 [==============================] - 1s 9ms/step - loss: 0.1156 - mae: 0.1156 - val_loss: 0.1373 - val_mae: 0.1373\n",
      "Epoch 10/100\n",
      "84/84 [==============================] - 1s 9ms/step - loss: 0.1151 - mae: 0.1151 - val_loss: 0.1405 - val_mae: 0.1404\n",
      "Epoch 11/100\n",
      "84/84 [==============================] - 1s 9ms/step - loss: 0.1154 - mae: 0.1154 - val_loss: 0.1370 - val_mae: 0.1370\n",
      "Epoch 12/100\n",
      "84/84 [==============================] - 1s 9ms/step - loss: 0.1153 - mae: 0.1153 - val_loss: 0.1360 - val_mae: 0.1360\n",
      "Epoch 13/100\n",
      "84/84 [==============================] - 1s 9ms/step - loss: 0.1153 - mae: 0.1153 - val_loss: 0.1406 - val_mae: 0.1406\n",
      "Epoch 14/100\n",
      "84/84 [==============================] - 1s 9ms/step - loss: 0.1154 - mae: 0.1154 - val_loss: 0.1372 - val_mae: 0.1372\n",
      "Epoch 15/100\n",
      "84/84 [==============================] - 1s 9ms/step - loss: 0.1156 - mae: 0.1156 - val_loss: 0.1367 - val_mae: 0.1367\n",
      "Epoch 16/100\n",
      "84/84 [==============================] - 1s 9ms/step - loss: 0.1156 - mae: 0.1156 - val_loss: 0.1364 - val_mae: 0.1364\n",
      "Epoch 17/100\n",
      "84/84 [==============================] - 1s 9ms/step - loss: 0.1154 - mae: 0.1154 - val_loss: 0.1367 - val_mae: 0.1367\n",
      "Epoch 18/100\n",
      "84/84 [==============================] - 1s 9ms/step - loss: 0.1156 - mae: 0.1156 - val_loss: 0.1375 - val_mae: 0.1375\n",
      "Epoch 19/100\n",
      "84/84 [==============================] - 1s 9ms/step - loss: 0.1151 - mae: 0.1151 - val_loss: 0.1362 - val_mae: 0.1362\n",
      "Epoch 20/100\n",
      "84/84 [==============================] - 1s 9ms/step - loss: 0.1157 - mae: 0.1157 - val_loss: 0.1360 - val_mae: 0.1360\n",
      "Epoch 21/100\n",
      "84/84 [==============================] - 1s 9ms/step - loss: 0.1155 - mae: 0.1155 - val_loss: 0.1368 - val_mae: 0.1368\n",
      "Epoch 22/100\n",
      "84/84 [==============================] - 1s 9ms/step - loss: 0.1154 - mae: 0.1154 - val_loss: 0.1369 - val_mae: 0.1369\n",
      "Epoch 23/100\n",
      "84/84 [==============================] - 1s 9ms/step - loss: 0.1152 - mae: 0.1152 - val_loss: 0.1372 - val_mae: 0.1372\n",
      "Epoch 24/100\n",
      "84/84 [==============================] - 1s 9ms/step - loss: 0.1154 - mae: 0.1154 - val_loss: 0.1363 - val_mae: 0.1363\n",
      "Epoch 25/100\n",
      "84/84 [==============================] - 1s 9ms/step - loss: 0.1156 - mae: 0.1156 - val_loss: 0.1367 - val_mae: 0.1367\n",
      "Epoch 26/100\n",
      "84/84 [==============================] - 1s 9ms/step - loss: 0.1152 - mae: 0.1152 - val_loss: 0.1398 - val_mae: 0.1398\n",
      "Epoch 27/100\n",
      "84/84 [==============================] - 1s 9ms/step - loss: 0.1156 - mae: 0.1156 - val_loss: 0.1377 - val_mae: 0.1377\n",
      "Epoch 28/100\n",
      "84/84 [==============================] - 1s 9ms/step - loss: 0.1156 - mae: 0.1156 - val_loss: 0.1373 - val_mae: 0.1373\n",
      "Epoch 29/100\n",
      "84/84 [==============================] - 1s 9ms/step - loss: 0.1153 - mae: 0.1153 - val_loss: 0.1375 - val_mae: 0.1374\n",
      "Epoch 30/100\n",
      "84/84 [==============================] - 1s 9ms/step - loss: 0.1153 - mae: 0.1153 - val_loss: 0.1403 - val_mae: 0.1403\n",
      "Epoch 31/100\n",
      "84/84 [==============================] - 1s 9ms/step - loss: 0.1153 - mae: 0.1153 - val_loss: 0.1391 - val_mae: 0.1391\n",
      "Epoch 32/100\n",
      "84/84 [==============================] - 1s 9ms/step - loss: 0.1154 - mae: 0.1154 - val_loss: 0.1381 - val_mae: 0.1381\n",
      "Epoch 33/100\n",
      "84/84 [==============================] - 1s 9ms/step - loss: 0.1154 - mae: 0.1154 - val_loss: 0.1365 - val_mae: 0.1365\n",
      "Epoch 34/100\n",
      "84/84 [==============================] - 1s 9ms/step - loss: 0.1157 - mae: 0.1157 - val_loss: 0.1384 - val_mae: 0.1383\n",
      "Epoch 35/100\n",
      "84/84 [==============================] - 1s 9ms/step - loss: 0.1150 - mae: 0.1150 - val_loss: 0.1384 - val_mae: 0.1384\n",
      "Epoch 36/100\n",
      "84/84 [==============================] - 1s 10ms/step - loss: 0.1153 - mae: 0.1153 - val_loss: 0.1375 - val_mae: 0.1375\n",
      "Epoch 37/100\n",
      "84/84 [==============================] - 1s 9ms/step - loss: 0.1160 - mae: 0.1160 - val_loss: 0.1360 - val_mae: 0.1360\n",
      "Epoch 38/100\n",
      "84/84 [==============================] - 1s 10ms/step - loss: 0.1152 - mae: 0.1152 - val_loss: 0.1387 - val_mae: 0.1387\n",
      "Epoch 39/100\n",
      "84/84 [==============================] - 1s 10ms/step - loss: 0.1154 - mae: 0.1154 - val_loss: 0.1367 - val_mae: 0.1367\n",
      "Epoch 40/100\n",
      "84/84 [==============================] - 1s 10ms/step - loss: 0.1156 - mae: 0.1156 - val_loss: 0.1364 - val_mae: 0.1364\n",
      "Epoch 41/100\n",
      "84/84 [==============================] - 1s 10ms/step - loss: 0.1156 - mae: 0.1156 - val_loss: 0.1370 - val_mae: 0.1370\n",
      "Epoch 42/100\n",
      "84/84 [==============================] - 1s 10ms/step - loss: 0.1152 - mae: 0.1152 - val_loss: 0.1363 - val_mae: 0.1363\n",
      "Epoch 43/100\n",
      "84/84 [==============================] - 1s 10ms/step - loss: 0.1153 - mae: 0.1153 - val_loss: 0.1378 - val_mae: 0.1377\n",
      "Epoch 44/100\n",
      "84/84 [==============================] - 1s 10ms/step - loss: 0.1157 - mae: 0.1157 - val_loss: 0.1395 - val_mae: 0.1395\n",
      "Epoch 45/100\n",
      "84/84 [==============================] - 1s 10ms/step - loss: 0.1153 - mae: 0.1153 - val_loss: 0.1375 - val_mae: 0.1375\n",
      "Epoch 46/100\n",
      "84/84 [==============================] - 1s 10ms/step - loss: 0.1154 - mae: 0.1154 - val_loss: 0.1377 - val_mae: 0.1377\n",
      "Epoch 47/100\n",
      "84/84 [==============================] - 1s 10ms/step - loss: 0.1155 - mae: 0.1155 - val_loss: 0.1367 - val_mae: 0.1367\n",
      "Epoch 48/100\n",
      "84/84 [==============================] - 1s 10ms/step - loss: 0.1160 - mae: 0.1160 - val_loss: 0.1366 - val_mae: 0.1366\n",
      "Epoch 49/100\n",
      "84/84 [==============================] - 1s 10ms/step - loss: 0.1155 - mae: 0.1155 - val_loss: 0.1385 - val_mae: 0.1384\n",
      "Epoch 50/100\n",
      "84/84 [==============================] - 1s 10ms/step - loss: 0.1152 - mae: 0.1152 - val_loss: 0.1376 - val_mae: 0.1376\n",
      "Epoch 51/100\n",
      "84/84 [==============================] - 1s 10ms/step - loss: 0.1157 - mae: 0.1157 - val_loss: 0.1406 - val_mae: 0.1405\n",
      "Epoch 52/100\n",
      "84/84 [==============================] - 1s 10ms/step - loss: 0.1153 - mae: 0.1153 - val_loss: 0.1380 - val_mae: 0.1379\n",
      "Epoch 53/100\n",
      "84/84 [==============================] - 1s 10ms/step - loss: 0.1154 - mae: 0.1154 - val_loss: 0.1373 - val_mae: 0.1373\n",
      "Epoch 54/100\n",
      "84/84 [==============================] - 1s 10ms/step - loss: 0.1153 - mae: 0.1153 - val_loss: 0.1369 - val_mae: 0.1369\n",
      "Epoch 55/100\n",
      "84/84 [==============================] - 1s 10ms/step - loss: 0.1154 - mae: 0.1154 - val_loss: 0.1384 - val_mae: 0.1384\n",
      "Epoch 56/100\n",
      "84/84 [==============================] - 1s 10ms/step - loss: 0.1154 - mae: 0.1153 - val_loss: 0.1363 - val_mae: 0.1363\n",
      "Epoch 57/100\n",
      "84/84 [==============================] - 1s 10ms/step - loss: 0.1157 - mae: 0.1157 - val_loss: 0.1362 - val_mae: 0.1362\n",
      "Epoch 58/100\n",
      "84/84 [==============================] - 1s 11ms/step - loss: 0.1155 - mae: 0.1155 - val_loss: 0.1370 - val_mae: 0.1370\n",
      "Epoch 59/100\n",
      "84/84 [==============================] - 1s 10ms/step - loss: 0.1154 - mae: 0.1154 - val_loss: 0.1405 - val_mae: 0.1405\n",
      "Epoch 60/100\n",
      "84/84 [==============================] - 1s 10ms/step - loss: 0.1155 - mae: 0.1155 - val_loss: 0.1362 - val_mae: 0.1362\n",
      "Epoch 61/100\n",
      "84/84 [==============================] - 1s 10ms/step - loss: 0.1158 - mae: 0.1158 - val_loss: 0.1373 - val_mae: 0.1373\n"
     ]
    },
    {
     "name": "stdout",
     "output_type": "stream",
     "text": [
      "Epoch 62/100\n",
      "84/84 [==============================] - 1s 10ms/step - loss: 0.1153 - mae: 0.1153 - val_loss: 0.1363 - val_mae: 0.1363\n",
      "Epoch 63/100\n",
      "84/84 [==============================] - 1s 10ms/step - loss: 0.1151 - mae: 0.1151 - val_loss: 0.1369 - val_mae: 0.1369\n",
      "Epoch 64/100\n",
      "84/84 [==============================] - 1s 10ms/step - loss: 0.1151 - mae: 0.1151 - val_loss: 0.1390 - val_mae: 0.1390\n",
      "Epoch 65/100\n",
      "84/84 [==============================] - 1s 10ms/step - loss: 0.1154 - mae: 0.1154 - val_loss: 0.1392 - val_mae: 0.1392\n",
      "Epoch 66/100\n",
      "84/84 [==============================] - 1s 9ms/step - loss: 0.1153 - mae: 0.1153 - val_loss: 0.1385 - val_mae: 0.1385\n",
      "Epoch 67/100\n",
      "84/84 [==============================] - 1s 9ms/step - loss: 0.1151 - mae: 0.1151 - val_loss: 0.1362 - val_mae: 0.1362\n",
      "Epoch 68/100\n",
      "84/84 [==============================] - 1s 9ms/step - loss: 0.1156 - mae: 0.1156 - val_loss: 0.1390 - val_mae: 0.1389\n",
      "Epoch 69/100\n",
      "84/84 [==============================] - 1s 9ms/step - loss: 0.1152 - mae: 0.1152 - val_loss: 0.1395 - val_mae: 0.1395\n",
      "Epoch 70/100\n",
      "84/84 [==============================] - 1s 9ms/step - loss: 0.1153 - mae: 0.1153 - val_loss: 0.1379 - val_mae: 0.1379\n",
      "Epoch 71/100\n",
      "84/84 [==============================] - 1s 9ms/step - loss: 0.1154 - mae: 0.1154 - val_loss: 0.1372 - val_mae: 0.1372\n",
      "Epoch 72/100\n",
      "84/84 [==============================] - 1s 9ms/step - loss: 0.1152 - mae: 0.1152 - val_loss: 0.1372 - val_mae: 0.1372\n",
      "Epoch 73/100\n",
      "84/84 [==============================] - 1s 9ms/step - loss: 0.1151 - mae: 0.1151 - val_loss: 0.1390 - val_mae: 0.1390\n",
      "Epoch 74/100\n",
      "84/84 [==============================] - 1s 9ms/step - loss: 0.1154 - mae: 0.1154 - val_loss: 0.1360 - val_mae: 0.1360\n",
      "Epoch 75/100\n",
      "84/84 [==============================] - 1s 9ms/step - loss: 0.1155 - mae: 0.1155 - val_loss: 0.1434 - val_mae: 0.1434\n",
      "Epoch 76/100\n",
      "84/84 [==============================] - ETA: 0s - loss: 0.1154 - mae: 0.115 - 1s 9ms/step - loss: 0.1156 - mae: 0.1156 - val_loss: 0.1366 - val_mae: 0.1366\n",
      "Epoch 77/100\n",
      "84/84 [==============================] - 1s 9ms/step - loss: 0.1153 - mae: 0.1153 - val_loss: 0.1410 - val_mae: 0.1410\n",
      "Epoch 78/100\n",
      "84/84 [==============================] - 1s 9ms/step - loss: 0.1156 - mae: 0.1156 - val_loss: 0.1364 - val_mae: 0.1364\n",
      "Epoch 79/100\n",
      "84/84 [==============================] - 1s 9ms/step - loss: 0.1156 - mae: 0.1156 - val_loss: 0.1407 - val_mae: 0.1407\n",
      "Epoch 80/100\n",
      "84/84 [==============================] - 1s 9ms/step - loss: 0.1159 - mae: 0.1158 - val_loss: 0.1372 - val_mae: 0.1372\n",
      "Epoch 81/100\n",
      "84/84 [==============================] - 1s 9ms/step - loss: 0.1151 - mae: 0.1151 - val_loss: 0.1369 - val_mae: 0.1369\n",
      "Epoch 82/100\n",
      "84/84 [==============================] - 1s 9ms/step - loss: 0.1154 - mae: 0.1154 - val_loss: 0.1363 - val_mae: 0.1363\n",
      "Epoch 83/100\n",
      "84/84 [==============================] - 1s 9ms/step - loss: 0.1154 - mae: 0.1154 - val_loss: 0.1375 - val_mae: 0.1375\n",
      "Epoch 84/100\n",
      "84/84 [==============================] - 1s 9ms/step - loss: 0.1154 - mae: 0.1154 - val_loss: 0.1375 - val_mae: 0.1375\n",
      "Epoch 85/100\n",
      "84/84 [==============================] - 1s 9ms/step - loss: 0.1154 - mae: 0.1154 - val_loss: 0.1369 - val_mae: 0.1369\n",
      "Epoch 86/100\n",
      "84/84 [==============================] - 1s 9ms/step - loss: 0.1155 - mae: 0.1155 - val_loss: 0.1362 - val_mae: 0.1361\n",
      "Epoch 87/100\n",
      "84/84 [==============================] - 1s 9ms/step - loss: 0.1156 - mae: 0.1156 - val_loss: 0.1395 - val_mae: 0.1395\n",
      "Epoch 88/100\n",
      "84/84 [==============================] - 1s 9ms/step - loss: 0.1156 - mae: 0.1156 - val_loss: 0.1406 - val_mae: 0.1406\n",
      "Epoch 89/100\n",
      "84/84 [==============================] - 1s 9ms/step - loss: 0.1152 - mae: 0.1152 - val_loss: 0.1405 - val_mae: 0.1405\n",
      "Epoch 90/100\n",
      "84/84 [==============================] - 1s 9ms/step - loss: 0.1152 - mae: 0.1152 - val_loss: 0.1382 - val_mae: 0.1382\n",
      "Epoch 91/100\n",
      "84/84 [==============================] - 1s 9ms/step - loss: 0.1153 - mae: 0.1153 - val_loss: 0.1384 - val_mae: 0.1384\n",
      "Epoch 92/100\n",
      "84/84 [==============================] - 1s 9ms/step - loss: 0.1155 - mae: 0.1155 - val_loss: 0.1395 - val_mae: 0.1395\n",
      "Epoch 93/100\n",
      "84/84 [==============================] - 1s 9ms/step - loss: 0.1152 - mae: 0.1152 - val_loss: 0.1367 - val_mae: 0.1367\n",
      "Epoch 94/100\n",
      "84/84 [==============================] - 1s 9ms/step - loss: 0.1154 - mae: 0.1154 - val_loss: 0.1391 - val_mae: 0.1391\n",
      "Epoch 95/100\n",
      "84/84 [==============================] - 1s 9ms/step - loss: 0.1156 - mae: 0.1156 - val_loss: 0.1363 - val_mae: 0.1362\n",
      "Epoch 96/100\n",
      "84/84 [==============================] - 1s 9ms/step - loss: 0.1153 - mae: 0.1153 - val_loss: 0.1381 - val_mae: 0.1381\n",
      "Epoch 97/100\n",
      "84/84 [==============================] - 1s 9ms/step - loss: 0.1156 - mae: 0.1156 - val_loss: 0.1362 - val_mae: 0.1361\n",
      "Epoch 98/100\n",
      "84/84 [==============================] - 1s 9ms/step - loss: 0.1154 - mae: 0.1154 - val_loss: 0.1379 - val_mae: 0.1379\n",
      "Epoch 99/100\n",
      "84/84 [==============================] - 1s 9ms/step - loss: 0.1154 - mae: 0.1154 - val_loss: 0.1363 - val_mae: 0.1363\n",
      "Epoch 100/100\n",
      "84/84 [==============================] - 1s 9ms/step - loss: 0.1156 - mae: 0.1156 - val_loss: 0.1379 - val_mae: 0.1379\n",
      "Best epoch: 75\n"
     ]
    }
   ],
   "source": [
    "model = tuner.hypermodel.build(best_hps)\n",
    "history = model.fit(full_windows , full_labels , epochs=100 , validation_split=0.2)\n",
    "\n",
    "val_acc_per_epoch = history.history['val_loss']\n",
    "best_epoch = val_acc_per_epoch.index(max(val_acc_per_epoch)) + 1\n",
    "print('Best epoch: %d' % (best_epoch,))"
   ]
  },
  {
   "cell_type": "markdown",
   "id": "7480f72a",
   "metadata": {},
   "source": [
    "### ---------------------------------------------------------THE END---------------------------------------------------------------"
   ]
  },
  {
   "cell_type": "code",
   "execution_count": 77,
   "id": "ebdbccca",
   "metadata": {},
   "outputs": [],
   "source": [
    "data.set_index('Date', inplace= True)"
   ]
  },
  {
   "cell_type": "code",
   "execution_count": 78,
   "id": "925cca05",
   "metadata": {},
   "outputs": [
    {
     "name": "stdout",
     "output_type": "stream",
     "text": [
      "Median: 917181.6700000002\n",
      " , Mean: 1735847.024404288\n",
      " , Minimum: 156.0\n",
      " , Maximum: 11555489.79\n"
     ]
    },
    {
     "data": {
      "text/plain": [
       "(array(['2019-04-01', '2019-04-01', '2019-04-01', '2019-04-01',\n",
       "        '2019-04-01', '2019-04-01', '2019-04-01', '2019-04-01',\n",
       "        '2019-04-01', '2019-04-01'], dtype=object),\n",
       " array([ 602777.06,  178063.2 ,  216684.  , 5151641.82, 2580483.11,\n",
       "        2313731.83,  726852.28,  170344.82,   77752.85, 3472395.12]))"
      ]
     },
     "execution_count": 78,
     "metadata": {},
     "output_type": "execute_result"
    }
   ],
   "source": [
    "import numpy as np\n",
    "timesteps = data.index.to_numpy()\n",
    "sales = data[\"Sales\"].to_numpy()\n",
    "print(f'Median: {np.median(sales)}\\n , Mean: {np.mean(sales)}\\n , Minimum: {np.min(sales)}\\n , Maximum: {np.max(sales)}')\n",
    "\n",
    "timesteps[:10] , sales[:10]"
   ]
  },
  {
   "cell_type": "code",
   "execution_count": 11,
   "id": "2c520085",
   "metadata": {},
   "outputs": [],
   "source": [
    "import matplotlib.pyplot as plt\n",
    "# Create a function to plot time series data\n",
    "def plot_time_series(timesteps, values, format='.', start=0, end=None, label=None):\n",
    "  # Plot the series\n",
    "    plt.plot(timesteps[start:end], values[start:end], format, label=label)\n",
    "    plt.xlabel(\"Time\")\n",
    "    plt.ylabel(\"Price\")\n",
    "    if label:\n",
    "        plt.legend(fontsize=14) # make label bigger\n",
    "    plt.grid(False)"
   ]
  },
  {
   "cell_type": "code",
   "execution_count": 12,
   "id": "57a51408",
   "metadata": {},
   "outputs": [
    {
     "data": {
      "text/plain": [
       "(72, 19, 72, 19)"
      ]
     },
     "execution_count": 12,
     "metadata": {},
     "output_type": "execute_result"
    }
   ],
   "source": [
    "split_size = int(0.8 * len(sales))\n",
    "\n",
    "X_train , y_train = timesteps[:split_size] , sales[:split_size]\n",
    "\n",
    "X_test , y_test = timesteps[split_size:] , sales[split_size:]\n",
    "\n",
    "len(X_train) , len(X_test) , len(y_train) , len(y_test)"
   ]
  },
  {
   "cell_type": "code",
   "execution_count": 13,
   "id": "3659da20",
   "metadata": {},
   "outputs": [],
   "source": [
    "def errors(y_true , y_pred):\n",
    "    y_true = tf.cast(y_true, dtype=tf.float32)\n",
    "    y_pred = tf.cast(y_pred, dtype=tf.float32)\n",
    "    y_new = np.abs(y_true - y_pred)\n",
    "    median = np.median(y_new)\n",
    "    mae = tf.keras.metrics.mean_absolute_error(y_true, y_pred)\n",
    "    mse = tf.keras.metrics.mean_squared_error(y_true, y_pred) # puts and emphasis on outliers (all errors get squared)\n",
    "    rmse = tf.sqrt(mse)\n",
    "    mape = tf.keras.metrics.mean_absolute_percentage_error(y_true, y_pred)\n",
    "    y_new2 = y_new / y_true * 100\n",
    "    median_per = np.median(y_new2)\n",
    "    mean_per = np.median(y_new2)\n",
    "    \n",
    "    return {'MAE: ' : mae.numpy() , 'MSE' : mse.numpy() , 'RMSE' : rmse.numpy() ,\n",
    "            'MAPE' : mape.numpy() , 'Median' : median , '% error wrt median' : median_per , '% error wrt mean' : mean_per}"
   ]
  },
  {
   "cell_type": "code",
   "execution_count": 14,
   "id": "18011814",
   "metadata": {},
   "outputs": [],
   "source": [
    "HORIZON = 1 # predict 1 step at a time\n",
    "WINDOW_SIZE = 7 # use a week worth of timesteps to predict the horizon"
   ]
  },
  {
   "cell_type": "code",
   "execution_count": 16,
   "id": "fd9ca7e3",
   "metadata": {},
   "outputs": [],
   "source": [
    "# Create function to label windowed data\n",
    "def get_labelled_windows(x, horizon=1):\n",
    "    return x[:, :-horizon], x[:, -horizon:]\n",
    "\n",
    "# Create function to view NumPy arrays as windows \n",
    "def make_windows(x, window_size=7, horizon=1):\n",
    "  \"\"\"\n",
    "  Turns a 1D array into a 2D array of sequential windows of window_size.\n",
    "  \"\"\"\n",
    "  # 1. Create a window of specific window_size (add the horizon on the end for later labelling)\n",
    "  window_step = np.expand_dims(np.arange(window_size+horizon), axis=0)\n",
    "  # print(f\"Window step:\\n {window_step}\")\n",
    "\n",
    "  # 2. Create a 2D array of multiple window steps (minus 1 to account for 0 indexing)\n",
    "  window_indexes = window_step + np.expand_dims(np.arange(len(x)-(window_size+horizon-1)), axis=0).T # create 2D array of windows of size window_size\n",
    "  # print(f\"Window indexes:\\n {window_indexes[:3], window_indexes[-3:], window_indexes.shape}\")\n",
    "\n",
    "  # 3. Index on the target array (time series) with 2D array of multiple window steps\n",
    "  windowed_array = x[window_indexes]\n",
    "\n",
    "  # 4. Get the labelled windows\n",
    "  windows, labels = get_labelled_windows(windowed_array, horizon=horizon)\n",
    "\n",
    "  return windows, labels"
   ]
  },
  {
   "cell_type": "code",
   "execution_count": 17,
   "id": "4aef4253",
   "metadata": {},
   "outputs": [
    {
     "data": {
      "text/plain": [
       "(84, 84)"
      ]
     },
     "execution_count": 17,
     "metadata": {},
     "output_type": "execute_result"
    }
   ],
   "source": [
    "full_windows, full_labels = make_windows(sales , window_size=WINDOW_SIZE, horizon=HORIZON)\n",
    "len(full_windows), len(full_labels)"
   ]
  },
  {
   "cell_type": "code",
   "execution_count": 18,
   "id": "c424b0eb",
   "metadata": {},
   "outputs": [],
   "source": [
    "# Make the train/test splits\n",
    "def make_train_test_splits(windows, labels, test_split=0.2):\n",
    "    split_size = int(len(windows) * (1-test_split)) # this will default to 80% train/20% test\n",
    "    train_windows = windows[:split_size]\n",
    "    train_labels = labels[:split_size]\n",
    "    test_windows = windows[split_size:]\n",
    "    test_labels = labels[split_size:]\n",
    "    return train_windows, test_windows, train_labels, test_labels"
   ]
  },
  {
   "cell_type": "code",
   "execution_count": 19,
   "id": "ce9c7d52",
   "metadata": {},
   "outputs": [
    {
     "data": {
      "text/plain": [
       "(67, 17, 67, 17)"
      ]
     },
     "execution_count": 19,
     "metadata": {},
     "output_type": "execute_result"
    }
   ],
   "source": [
    "train_windows, test_windows, train_labels, test_labels = make_train_test_splits(full_windows, full_labels)\n",
    "len(train_windows), len(test_windows), len(train_labels), len(test_labels)"
   ]
  },
  {
   "cell_type": "code",
   "execution_count": 20,
   "id": "05d443d4",
   "metadata": {},
   "outputs": [],
   "source": [
    "import os\n",
    "\n",
    "# Create a function to implement a ModelCheckpoint callback with a specific filename \n",
    "def create_model_checkpoint(model_name, save_path=\"model_experiments\"):\n",
    "    return tf.keras.callbacks.ModelCheckpoint(filepath=os.path.join(save_path, model_name), # create filepath to save model\n",
    "                                            verbose=0, # only output a limited amount of text\n",
    "                                            save_best_only=True) # save only the best model to file"
   ]
  },
  {
   "cell_type": "code",
   "execution_count": 21,
   "id": "b692b0eb",
   "metadata": {},
   "outputs": [
    {
     "name": "stdout",
     "output_type": "stream",
     "text": [
      "INFO:tensorflow:Assets written to: model_experiments\\model_2_lstm\\assets\n",
      "INFO:tensorflow:Assets written to: model_experiments\\model_2_lstm\\assets\n",
      "INFO:tensorflow:Assets written to: model_experiments\\model_2_lstm\\assets\n",
      "INFO:tensorflow:Assets written to: model_experiments\\model_2_lstm\\assets\n",
      "INFO:tensorflow:Assets written to: model_experiments\\model_2_lstm\\assets\n",
      "INFO:tensorflow:Assets written to: model_experiments\\model_2_lstm\\assets\n",
      "INFO:tensorflow:Assets written to: model_experiments\\model_2_lstm\\assets\n",
      "INFO:tensorflow:Assets written to: model_experiments\\model_2_lstm\\assets\n",
      "INFO:tensorflow:Assets written to: model_experiments\\model_2_lstm\\assets\n",
      "INFO:tensorflow:Assets written to: model_experiments\\model_2_lstm\\assets\n",
      "INFO:tensorflow:Assets written to: model_experiments\\model_2_lstm\\assets\n",
      "INFO:tensorflow:Assets written to: model_experiments\\model_2_lstm\\assets\n",
      "INFO:tensorflow:Assets written to: model_experiments\\model_2_lstm\\assets\n",
      "INFO:tensorflow:Assets written to: model_experiments\\model_2_lstm\\assets\n",
      "INFO:tensorflow:Assets written to: model_experiments\\model_2_lstm\\assets\n",
      "INFO:tensorflow:Assets written to: model_experiments\\model_2_lstm\\assets\n",
      "INFO:tensorflow:Assets written to: model_experiments\\model_2_lstm\\assets\n",
      "INFO:tensorflow:Assets written to: model_experiments\\model_2_lstm\\assets\n",
      "INFO:tensorflow:Assets written to: model_experiments\\model_2_lstm\\assets\n",
      "INFO:tensorflow:Assets written to: model_experiments\\model_2_lstm\\assets\n",
      "INFO:tensorflow:Assets written to: model_experiments\\model_2_lstm\\assets\n",
      "INFO:tensorflow:Assets written to: model_experiments\\model_2_lstm\\assets\n",
      "INFO:tensorflow:Assets written to: model_experiments\\model_2_lstm\\assets\n",
      "INFO:tensorflow:Assets written to: model_experiments\\model_2_lstm\\assets\n",
      "INFO:tensorflow:Assets written to: model_experiments\\model_2_lstm\\assets\n",
      "INFO:tensorflow:Assets written to: model_experiments\\model_2_lstm\\assets\n",
      "INFO:tensorflow:Assets written to: model_experiments\\model_2_lstm\\assets\n",
      "INFO:tensorflow:Assets written to: model_experiments\\model_2_lstm\\assets\n",
      "INFO:tensorflow:Assets written to: model_experiments\\model_2_lstm\\assets\n",
      "INFO:tensorflow:Assets written to: model_experiments\\model_2_lstm\\assets\n",
      "INFO:tensorflow:Assets written to: model_experiments\\model_2_lstm\\assets\n",
      "INFO:tensorflow:Assets written to: model_experiments\\model_2_lstm\\assets\n",
      "INFO:tensorflow:Assets written to: model_experiments\\model_2_lstm\\assets\n",
      "INFO:tensorflow:Assets written to: model_experiments\\model_2_lstm\\assets\n",
      "INFO:tensorflow:Assets written to: model_experiments\\model_2_lstm\\assets\n",
      "INFO:tensorflow:Assets written to: model_experiments\\model_2_lstm\\assets\n",
      "INFO:tensorflow:Assets written to: model_experiments\\model_2_lstm\\assets\n",
      "INFO:tensorflow:Assets written to: model_experiments\\model_2_lstm\\assets\n",
      "INFO:tensorflow:Assets written to: model_experiments\\model_2_lstm\\assets\n",
      "INFO:tensorflow:Assets written to: model_experiments\\model_2_lstm\\assets\n",
      "INFO:tensorflow:Assets written to: model_experiments\\model_2_lstm\\assets\n",
      "INFO:tensorflow:Assets written to: model_experiments\\model_2_lstm\\assets\n",
      "INFO:tensorflow:Assets written to: model_experiments\\model_2_lstm\\assets\n",
      "INFO:tensorflow:Assets written to: model_experiments\\model_2_lstm\\assets\n",
      "INFO:tensorflow:Assets written to: model_experiments\\model_2_lstm\\assets\n",
      "INFO:tensorflow:Assets written to: model_experiments\\model_2_lstm\\assets\n",
      "INFO:tensorflow:Assets written to: model_experiments\\model_2_lstm\\assets\n",
      "INFO:tensorflow:Assets written to: model_experiments\\model_2_lstm\\assets\n",
      "INFO:tensorflow:Assets written to: model_experiments\\model_2_lstm\\assets\n",
      "INFO:tensorflow:Assets written to: model_experiments\\model_2_lstm\\assets\n",
      "INFO:tensorflow:Assets written to: model_experiments\\model_2_lstm\\assets\n",
      "INFO:tensorflow:Assets written to: model_experiments\\model_2_lstm\\assets\n",
      "INFO:tensorflow:Assets written to: model_experiments\\model_2_lstm\\assets\n",
      "INFO:tensorflow:Assets written to: model_experiments\\model_2_lstm\\assets\n",
      "INFO:tensorflow:Assets written to: model_experiments\\model_2_lstm\\assets\n",
      "INFO:tensorflow:Assets written to: model_experiments\\model_2_lstm\\assets\n",
      "INFO:tensorflow:Assets written to: model_experiments\\model_2_lstm\\assets\n",
      "INFO:tensorflow:Assets written to: model_experiments\\model_2_lstm\\assets\n",
      "INFO:tensorflow:Assets written to: model_experiments\\model_2_lstm\\assets\n",
      "INFO:tensorflow:Assets written to: model_experiments\\model_2_lstm\\assets\n",
      "INFO:tensorflow:Assets written to: model_experiments\\model_2_lstm\\assets\n",
      "INFO:tensorflow:Assets written to: model_experiments\\model_2_lstm\\assets\n",
      "INFO:tensorflow:Assets written to: model_experiments\\model_2_lstm\\assets\n",
      "INFO:tensorflow:Assets written to: model_experiments\\model_2_lstm\\assets\n",
      "INFO:tensorflow:Assets written to: model_experiments\\model_2_lstm\\assets\n",
      "INFO:tensorflow:Assets written to: model_experiments\\model_2_lstm\\assets\n",
      "INFO:tensorflow:Assets written to: model_experiments\\model_2_lstm\\assets\n",
      "INFO:tensorflow:Assets written to: model_experiments\\model_2_lstm\\assets\n",
      "INFO:tensorflow:Assets written to: model_experiments\\model_2_lstm\\assets\n",
      "INFO:tensorflow:Assets written to: model_experiments\\model_2_lstm\\assets\n",
      "INFO:tensorflow:Assets written to: model_experiments\\model_2_lstm\\assets\n",
      "INFO:tensorflow:Assets written to: model_experiments\\model_2_lstm\\assets\n",
      "INFO:tensorflow:Assets written to: model_experiments\\model_2_lstm\\assets\n",
      "INFO:tensorflow:Assets written to: model_experiments\\model_2_lstm\\assets\n",
      "INFO:tensorflow:Assets written to: model_experiments\\model_2_lstm\\assets\n",
      "INFO:tensorflow:Assets written to: model_experiments\\model_2_lstm\\assets\n",
      "INFO:tensorflow:Assets written to: model_experiments\\model_2_lstm\\assets\n",
      "INFO:tensorflow:Assets written to: model_experiments\\model_2_lstm\\assets\n",
      "INFO:tensorflow:Assets written to: model_experiments\\model_2_lstm\\assets\n",
      "INFO:tensorflow:Assets written to: model_experiments\\model_2_lstm\\assets\n",
      "INFO:tensorflow:Assets written to: model_experiments\\model_2_lstm\\assets\n"
     ]
    },
    {
     "data": {
      "text/plain": [
       "<tensorflow.python.keras.callbacks.History at 0x20a69fc42e0>"
      ]
     },
     "execution_count": 21,
     "metadata": {},
     "output_type": "execute_result"
    }
   ],
   "source": [
    "import tensorflow as tf\n",
    "from tensorflow.keras import layers\n",
    "\n",
    "tf.random.set_seed(42)\n",
    "\n",
    "# Let's build an LSTM model with the Functional API\n",
    "inputs = layers.Input(shape=(WINDOW_SIZE))\n",
    "x = layers.Lambda(lambda x: tf.expand_dims(x, axis=1))(inputs) # expand input dimension to be compatible with LSTM\n",
    "# print(x.shape)\n",
    "# x = layers.LSTM(128, activation=\"relu\", return_sequences=True)(x) # this layer will error if the inputs are not the right shape\n",
    "x = layers.GRU(128, activation=\"linear\")(x) # using the tanh loss function results in a massive error\n",
    "# print(x.shape)\n",
    "# Add another optional dense layer (you could add more of these to see if they improve model performance)\n",
    "x = layers.Lambda(lambda x: tf.expand_dims(x, axis=1))(x)\n",
    "x = layers.Dense(32, activation=\"relu\")(x)\n",
    "x = layers.Dense(10 , activation = 'linear')(x)\n",
    "output = layers.Dense(HORIZON)(x)\n",
    "model_2 = tf.keras.Model(inputs=inputs, outputs=output, name=\"model_2_lstm\")\n",
    "\n",
    "# Compile model\n",
    "model_2.compile(loss=\"mae\",\n",
    "                optimizer=tf.keras.optimizers.Adam())\n",
    "\n",
    "# Seems when saving the model several warnings are appearing: https://github.com/tensorflow/tensorflow/issues/47554 \n",
    "model_2.fit(train_windows,\n",
    "            train_labels,\n",
    "            verbose = 0 , \n",
    "            epochs=100,\n",
    "            batch_size=128,\n",
    "            validation_data=(test_windows, test_labels),\n",
    "            callbacks=[create_model_checkpoint(model_name=model_2.name)])"
   ]
  },
  {
   "cell_type": "code",
   "execution_count": 22,
   "id": "f0d8b388",
   "metadata": {},
   "outputs": [],
   "source": [
    "def make_preds(model, input_data):\n",
    "    forecast = model.predict(input_data)\n",
    "    return tf.squeeze(forecast) # return 1D array of predictions"
   ]
  },
  {
   "cell_type": "code",
   "execution_count": 23,
   "id": "20b00841",
   "metadata": {},
   "outputs": [],
   "source": [
    "def upper_lower(y_true , y_pred):\n",
    "    y_true = tf.cast(y_true, dtype=tf.float32)\n",
    "    y_pred = tf.cast(y_pred, dtype=tf.float32)\n",
    "    upper = y_pred + (y_pred/10)\n",
    "    lower = y_pred - (y_pred/10)\n",
    "    return upper , lower"
   ]
  },
  {
   "cell_type": "code",
   "execution_count": 24,
   "id": "cf08cb09",
   "metadata": {},
   "outputs": [
    {
     "name": "stdout",
     "output_type": "stream",
     "text": [
      "1/1 [==============================] - 0s 102ms/step - loss: 6253639.0000\n"
     ]
    },
    {
     "data": {
      "text/plain": [
       "6253639.0"
      ]
     },
     "execution_count": 24,
     "metadata": {},
     "output_type": "execute_result"
    }
   ],
   "source": [
    "# Load in best version of model 5 and evaluate on the test data\n",
    "model_2 = tf.keras.models.load_model(\"model_experiments/model_2_lstm/\")\n",
    "model_2.evaluate(test_windows, test_labels)"
   ]
  },
  {
   "cell_type": "code",
   "execution_count": 25,
   "id": "29bdb878",
   "metadata": {},
   "outputs": [
    {
     "data": {
      "text/plain": [
       "<tf.Tensor: shape=(10,), dtype=float32, numpy=\n",
       "array([69141720., 70794550., 59507880., 63672270., 71276150., 65553784.,\n",
       "       72871870., 75132696., 74396696., 71553810.], dtype=float32)>"
      ]
     },
     "execution_count": 25,
     "metadata": {},
     "output_type": "execute_result"
    }
   ],
   "source": [
    "# Make predictions with our LSTM model\n",
    "model_2_preds = make_preds(model_2, test_windows)\n",
    "model_2_preds[:10]"
   ]
  },
  {
   "cell_type": "code",
   "execution_count": 26,
   "id": "f59d4f1f",
   "metadata": {},
   "outputs": [
    {
     "data": {
      "text/plain": [
       "{'MAE: ': 6253639.0,\n",
       " 'MSE': 53545705000000.0,\n",
       " 'RMSE': 7317493.0,\n",
       " 'MAPE': 8.486434,\n",
       " 'Median': 6556560.0,\n",
       " '% error wrt median': 8.159292,\n",
       " '% error wrt mean': 8.159292}"
      ]
     },
     "execution_count": 26,
     "metadata": {},
     "output_type": "execute_result"
    }
   ],
   "source": [
    "errors(y_true = tf.squeeze(test_labels) , y_pred = model_2_preds)"
   ]
  },
  {
   "cell_type": "code",
   "execution_count": 29,
   "id": "9f98a368",
   "metadata": {},
   "outputs": [],
   "source": [
    "upper , lower = upper_lower(y_true=tf.squeeze(test_labels), # reduce to right shape\n",
    "                                 y_pred=model_2_preds)"
   ]
  },
  {
   "cell_type": "code",
   "execution_count": 32,
   "id": "4747580e",
   "metadata": {},
   "outputs": [
    {
     "data": {
      "text/plain": [
       "<matplotlib.collections.PolyCollection at 0x20a6c4a8eb0>"
      ]
     },
     "execution_count": 32,
     "metadata": {},
     "output_type": "execute_result"
    },
    {
     "data": {
      "image/png": "[encoded data removed]",
      "text/plain": [
       "<Figure size 1080x504 with 1 Axes>"
      ]
     },
     "metadata": {
      "needs_background": "light"
     },
     "output_type": "display_data"
    }
   ],
   "source": [
    "plt.figure(figsize=(15 , 7))\n",
    "# Account for the test_window offset and index into test_labels to ensure correct plotting\n",
    "plot_time_series(timesteps=X_test[-len(test_windows):], values=test_labels[:, 0], format=\"-\", label=\"Test_data\")\n",
    "plot_time_series(timesteps=X_test[-len(test_windows):], values=model_2_preds, format=\"-\", label=\"model_2_preds\")\n",
    "plt.fill_between(x = X_test[-len(test_windows):] , y1 = upper , y2 = lower , color='grey')"
   ]
  },
  {
   "cell_type": "code",
   "execution_count": 39,
   "id": "878d4ab3",
   "metadata": {},
   "outputs": [],
   "source": [
    "dataframe = {'Upper' : upper , 'Lower' : lower , 'Prediction' : model_2_preds ,\n",
    "             'True Value' : tf.squeeze(test_labels) , 'Date' : X_test[-len(test_windows):]}"
   ]
  },
  {
   "cell_type": "code",
   "execution_count": 41,
   "id": "71e7986a",
   "metadata": {},
   "outputs": [
    {
     "data": {
      "text/html": [
       "<div>\n",
       "<style scoped>\n",
       "    .dataframe tbody tr th:only-of-type {\n",
       "        vertical-align: middle;\n",
       "    }\n",
       "\n",
       "    .dataframe tbody tr th {\n",
       "        vertical-align: top;\n",
       "    }\n",
       "\n",
       "    .dataframe thead th {\n",
       "        text-align: right;\n",
       "    }\n",
       "</style>\n",
       "<table border=\"1\" class=\"dataframe\">\n",
       "  <thead>\n",
       "    <tr style=\"text-align: right;\">\n",
       "      <th></th>\n",
       "      <th>Upper</th>\n",
       "      <th>Lower</th>\n",
       "      <th>Prediction</th>\n",
       "      <th>True Value</th>\n",
       "      <th>Date</th>\n",
       "    </tr>\n",
       "  </thead>\n",
       "  <tbody>\n",
       "    <tr>\n",
       "      <th>0</th>\n",
       "      <td>76055888.0</td>\n",
       "      <td>62227548.0</td>\n",
       "      <td>69141720.0</td>\n",
       "      <td>74731858.21</td>\n",
       "      <td>2019-06-14</td>\n",
       "    </tr>\n",
       "    <tr>\n",
       "      <th>1</th>\n",
       "      <td>77874008.0</td>\n",
       "      <td>63715096.0</td>\n",
       "      <td>70794552.0</td>\n",
       "      <td>61625204.60</td>\n",
       "      <td>2019-06-15</td>\n",
       "    </tr>\n",
       "    <tr>\n",
       "      <th>2</th>\n",
       "      <td>65458668.0</td>\n",
       "      <td>53557092.0</td>\n",
       "      <td>59507880.0</td>\n",
       "      <td>55018739.32</td>\n",
       "      <td>2019-06-16</td>\n",
       "    </tr>\n",
       "    <tr>\n",
       "      <th>3</th>\n",
       "      <td>70039496.0</td>\n",
       "      <td>57305044.0</td>\n",
       "      <td>63672272.0</td>\n",
       "      <td>70281703.91</td>\n",
       "      <td>2019-06-17</td>\n",
       "    </tr>\n",
       "    <tr>\n",
       "      <th>4</th>\n",
       "      <td>78403768.0</td>\n",
       "      <td>64148536.0</td>\n",
       "      <td>71276152.0</td>\n",
       "      <td>72384294.27</td>\n",
       "      <td>2019-06-18</td>\n",
       "    </tr>\n",
       "    <tr>\n",
       "      <th>5</th>\n",
       "      <td>72109160.0</td>\n",
       "      <td>58998404.0</td>\n",
       "      <td>65553784.0</td>\n",
       "      <td>75481911.90</td>\n",
       "      <td>2019-06-19</td>\n",
       "    </tr>\n",
       "    <tr>\n",
       "      <th>6</th>\n",
       "      <td>80159056.0</td>\n",
       "      <td>65584684.0</td>\n",
       "      <td>72871872.0</td>\n",
       "      <td>74203330.76</td>\n",
       "      <td>2019-06-20</td>\n",
       "    </tr>\n",
       "    <tr>\n",
       "      <th>7</th>\n",
       "      <td>82645968.0</td>\n",
       "      <td>67619424.0</td>\n",
       "      <td>75132696.0</td>\n",
       "      <td>81689255.73</td>\n",
       "      <td>2019-06-21</td>\n",
       "    </tr>\n",
       "    <tr>\n",
       "      <th>8</th>\n",
       "      <td>81836368.0</td>\n",
       "      <td>66957028.0</td>\n",
       "      <td>74396696.0</td>\n",
       "      <td>76857353.16</td>\n",
       "      <td>2019-06-22</td>\n",
       "    </tr>\n",
       "    <tr>\n",
       "      <th>9</th>\n",
       "      <td>78709192.0</td>\n",
       "      <td>64398428.0</td>\n",
       "      <td>71553808.0</td>\n",
       "      <td>63653219.38</td>\n",
       "      <td>2019-06-23</td>\n",
       "    </tr>\n",
       "    <tr>\n",
       "      <th>10</th>\n",
       "      <td>78358344.0</td>\n",
       "      <td>64111372.0</td>\n",
       "      <td>71234856.0</td>\n",
       "      <td>88443933.19</td>\n",
       "      <td>2019-06-24</td>\n",
       "    </tr>\n",
       "    <tr>\n",
       "      <th>11</th>\n",
       "      <td>93707824.0</td>\n",
       "      <td>76670032.0</td>\n",
       "      <td>85188928.0</td>\n",
       "      <td>78286168.37</td>\n",
       "      <td>2019-06-25</td>\n",
       "    </tr>\n",
       "    <tr>\n",
       "      <th>12</th>\n",
       "      <td>80386352.0</td>\n",
       "      <td>65770652.0</td>\n",
       "      <td>73078504.0</td>\n",
       "      <td>80766128.61</td>\n",
       "      <td>2019-06-26</td>\n",
       "    </tr>\n",
       "    <tr>\n",
       "      <th>13</th>\n",
       "      <td>91204176.0</td>\n",
       "      <td>74621600.0</td>\n",
       "      <td>82912888.0</td>\n",
       "      <td>74517618.03</td>\n",
       "      <td>2019-06-27</td>\n",
       "    </tr>\n",
       "    <tr>\n",
       "      <th>14</th>\n",
       "      <td>88223760.0</td>\n",
       "      <td>72183072.0</td>\n",
       "      <td>80203416.0</td>\n",
       "      <td>78144314.95</td>\n",
       "      <td>2019-06-28</td>\n",
       "    </tr>\n",
       "    <tr>\n",
       "      <th>15</th>\n",
       "      <td>85177496.0</td>\n",
       "      <td>69690680.0</td>\n",
       "      <td>77434088.0</td>\n",
       "      <td>73580286.40</td>\n",
       "      <td>2019-06-29</td>\n",
       "    </tr>\n",
       "    <tr>\n",
       "      <th>16</th>\n",
       "      <td>81860352.0</td>\n",
       "      <td>66976652.0</td>\n",
       "      <td>74418504.0</td>\n",
       "      <td>69357869.46</td>\n",
       "      <td>2019-06-30</td>\n",
       "    </tr>\n",
       "  </tbody>\n",
       "</table>\n",
       "</div>"
      ],
      "text/plain": [
       "         Upper       Lower  Prediction   True Value        Date\n",
       "0   76055888.0  62227548.0  69141720.0  74731858.21  2019-06-14\n",
       "1   77874008.0  63715096.0  70794552.0  61625204.60  2019-06-15\n",
       "2   65458668.0  53557092.0  59507880.0  55018739.32  2019-06-16\n",
       "3   70039496.0  57305044.0  63672272.0  70281703.91  2019-06-17\n",
       "4   78403768.0  64148536.0  71276152.0  72384294.27  2019-06-18\n",
       "5   72109160.0  58998404.0  65553784.0  75481911.90  2019-06-19\n",
       "6   80159056.0  65584684.0  72871872.0  74203330.76  2019-06-20\n",
       "7   82645968.0  67619424.0  75132696.0  81689255.73  2019-06-21\n",
       "8   81836368.0  66957028.0  74396696.0  76857353.16  2019-06-22\n",
       "9   78709192.0  64398428.0  71553808.0  63653219.38  2019-06-23\n",
       "10  78358344.0  64111372.0  71234856.0  88443933.19  2019-06-24\n",
       "11  93707824.0  76670032.0  85188928.0  78286168.37  2019-06-25\n",
       "12  80386352.0  65770652.0  73078504.0  80766128.61  2019-06-26\n",
       "13  91204176.0  74621600.0  82912888.0  74517618.03  2019-06-27\n",
       "14  88223760.0  72183072.0  80203416.0  78144314.95  2019-06-28\n",
       "15  85177496.0  69690680.0  77434088.0  73580286.40  2019-06-29\n",
       "16  81860352.0  66976652.0  74418504.0  69357869.46  2019-06-30"
      ]
     },
     "execution_count": 41,
     "metadata": {},
     "output_type": "execute_result"
    }
   ],
   "source": [
    "df = pd.DataFrame(dataframe)\n",
    "df"
   ]
  },
  {
   "cell_type": "code",
   "execution_count": 42,
   "id": "a1802a73",
   "metadata": {},
   "outputs": [],
   "source": [
    "df.set_index('Date', inplace= True)"
   ]
  },
  {
   "cell_type": "code",
   "execution_count": 59,
   "id": "cf7e6723",
   "metadata": {
    "scrolled": true
   },
   "outputs": [
    {
     "data": {
      "text/html": [
       "<div>\n",
       "<style scoped>\n",
       "    .dataframe tbody tr th:only-of-type {\n",
       "        vertical-align: middle;\n",
       "    }\n",
       "\n",
       "    .dataframe tbody tr th {\n",
       "        vertical-align: top;\n",
       "    }\n",
       "\n",
       "    .dataframe thead th {\n",
       "        text-align: right;\n",
       "    }\n",
       "</style>\n",
       "<table border=\"1\" class=\"dataframe\">\n",
       "  <thead>\n",
       "    <tr style=\"text-align: right;\">\n",
       "      <th></th>\n",
       "      <th>Upper</th>\n",
       "      <th>Lower</th>\n",
       "      <th>Prediction</th>\n",
       "      <th>True Value</th>\n",
       "      <th>Outlier</th>\n",
       "    </tr>\n",
       "    <tr>\n",
       "      <th>Date</th>\n",
       "      <th></th>\n",
       "      <th></th>\n",
       "      <th></th>\n",
       "      <th></th>\n",
       "      <th></th>\n",
       "    </tr>\n",
       "  </thead>\n",
       "  <tbody>\n",
       "    <tr>\n",
       "      <th>2019-06-14</th>\n",
       "      <td>76055888.0</td>\n",
       "      <td>62227548.0</td>\n",
       "      <td>69141720.0</td>\n",
       "      <td>74731858.21</td>\n",
       "      <td>True</td>\n",
       "    </tr>\n",
       "    <tr>\n",
       "      <th>2019-06-15</th>\n",
       "      <td>77874008.0</td>\n",
       "      <td>63715096.0</td>\n",
       "      <td>70794552.0</td>\n",
       "      <td>61625204.60</td>\n",
       "      <td>True</td>\n",
       "    </tr>\n",
       "    <tr>\n",
       "      <th>2019-06-16</th>\n",
       "      <td>65458668.0</td>\n",
       "      <td>53557092.0</td>\n",
       "      <td>59507880.0</td>\n",
       "      <td>55018739.32</td>\n",
       "      <td>True</td>\n",
       "    </tr>\n",
       "    <tr>\n",
       "      <th>2019-06-17</th>\n",
       "      <td>70039496.0</td>\n",
       "      <td>57305044.0</td>\n",
       "      <td>63672272.0</td>\n",
       "      <td>70281703.91</td>\n",
       "      <td>True</td>\n",
       "    </tr>\n",
       "    <tr>\n",
       "      <th>2019-06-18</th>\n",
       "      <td>78403768.0</td>\n",
       "      <td>64148536.0</td>\n",
       "      <td>71276152.0</td>\n",
       "      <td>72384294.27</td>\n",
       "      <td>True</td>\n",
       "    </tr>\n",
       "    <tr>\n",
       "      <th>2019-06-19</th>\n",
       "      <td>72109160.0</td>\n",
       "      <td>58998404.0</td>\n",
       "      <td>65553784.0</td>\n",
       "      <td>75481911.90</td>\n",
       "      <td>True</td>\n",
       "    </tr>\n",
       "    <tr>\n",
       "      <th>2019-06-20</th>\n",
       "      <td>80159056.0</td>\n",
       "      <td>65584684.0</td>\n",
       "      <td>72871872.0</td>\n",
       "      <td>74203330.76</td>\n",
       "      <td>True</td>\n",
       "    </tr>\n",
       "    <tr>\n",
       "      <th>2019-06-21</th>\n",
       "      <td>82645968.0</td>\n",
       "      <td>67619424.0</td>\n",
       "      <td>75132696.0</td>\n",
       "      <td>81689255.73</td>\n",
       "      <td>True</td>\n",
       "    </tr>\n",
       "    <tr>\n",
       "      <th>2019-06-22</th>\n",
       "      <td>81836368.0</td>\n",
       "      <td>66957028.0</td>\n",
       "      <td>74396696.0</td>\n",
       "      <td>76857353.16</td>\n",
       "      <td>True</td>\n",
       "    </tr>\n",
       "    <tr>\n",
       "      <th>2019-06-23</th>\n",
       "      <td>78709192.0</td>\n",
       "      <td>64398428.0</td>\n",
       "      <td>71553808.0</td>\n",
       "      <td>63653219.38</td>\n",
       "      <td>True</td>\n",
       "    </tr>\n",
       "    <tr>\n",
       "      <th>2019-06-24</th>\n",
       "      <td>78358344.0</td>\n",
       "      <td>64111372.0</td>\n",
       "      <td>71234856.0</td>\n",
       "      <td>88443933.19</td>\n",
       "      <td>True</td>\n",
       "    </tr>\n",
       "    <tr>\n",
       "      <th>2019-06-25</th>\n",
       "      <td>93707824.0</td>\n",
       "      <td>76670032.0</td>\n",
       "      <td>85188928.0</td>\n",
       "      <td>78286168.37</td>\n",
       "      <td>True</td>\n",
       "    </tr>\n",
       "    <tr>\n",
       "      <th>2019-06-26</th>\n",
       "      <td>80386352.0</td>\n",
       "      <td>65770652.0</td>\n",
       "      <td>73078504.0</td>\n",
       "      <td>80766128.61</td>\n",
       "      <td>True</td>\n",
       "    </tr>\n",
       "    <tr>\n",
       "      <th>2019-06-27</th>\n",
       "      <td>91204176.0</td>\n",
       "      <td>74621600.0</td>\n",
       "      <td>82912888.0</td>\n",
       "      <td>74517618.03</td>\n",
       "      <td>True</td>\n",
       "    </tr>\n",
       "    <tr>\n",
       "      <th>2019-06-28</th>\n",
       "      <td>88223760.0</td>\n",
       "      <td>72183072.0</td>\n",
       "      <td>80203416.0</td>\n",
       "      <td>78144314.95</td>\n",
       "      <td>True</td>\n",
       "    </tr>\n",
       "    <tr>\n",
       "      <th>2019-06-29</th>\n",
       "      <td>85177496.0</td>\n",
       "      <td>69690680.0</td>\n",
       "      <td>77434088.0</td>\n",
       "      <td>73580286.40</td>\n",
       "      <td>True</td>\n",
       "    </tr>\n",
       "    <tr>\n",
       "      <th>2019-06-30</th>\n",
       "      <td>81860352.0</td>\n",
       "      <td>66976652.0</td>\n",
       "      <td>74418504.0</td>\n",
       "      <td>69357869.46</td>\n",
       "      <td>True</td>\n",
       "    </tr>\n",
       "  </tbody>\n",
       "</table>\n",
       "</div>"
      ],
      "text/plain": [
       "                 Upper       Lower  Prediction   True Value  Outlier\n",
       "Date                                                                \n",
       "2019-06-14  76055888.0  62227548.0  69141720.0  74731858.21     True\n",
       "2019-06-15  77874008.0  63715096.0  70794552.0  61625204.60     True\n",
       "2019-06-16  65458668.0  53557092.0  59507880.0  55018739.32     True\n",
       "2019-06-17  70039496.0  57305044.0  63672272.0  70281703.91     True\n",
       "2019-06-18  78403768.0  64148536.0  71276152.0  72384294.27     True\n",
       "2019-06-19  72109160.0  58998404.0  65553784.0  75481911.90     True\n",
       "2019-06-20  80159056.0  65584684.0  72871872.0  74203330.76     True\n",
       "2019-06-21  82645968.0  67619424.0  75132696.0  81689255.73     True\n",
       "2019-06-22  81836368.0  66957028.0  74396696.0  76857353.16     True\n",
       "2019-06-23  78709192.0  64398428.0  71553808.0  63653219.38     True\n",
       "2019-06-24  78358344.0  64111372.0  71234856.0  88443933.19     True\n",
       "2019-06-25  93707824.0  76670032.0  85188928.0  78286168.37     True\n",
       "2019-06-26  80386352.0  65770652.0  73078504.0  80766128.61     True\n",
       "2019-06-27  91204176.0  74621600.0  82912888.0  74517618.03     True\n",
       "2019-06-28  88223760.0  72183072.0  80203416.0  78144314.95     True\n",
       "2019-06-29  85177496.0  69690680.0  77434088.0  73580286.40     True\n",
       "2019-06-30  81860352.0  66976652.0  74418504.0  69357869.46     True"
      ]
     },
     "execution_count": 59,
     "metadata": {},
     "output_type": "execute_result"
    }
   ],
   "source": [
    "df"
   ]
  },
  {
   "cell_type": "code",
   "execution_count": 58,
   "id": "95601b70",
   "metadata": {},
   "outputs": [
    {
     "ename": "ValueError",
     "evalue": "The truth value of a Series is ambiguous. Use a.empty, a.bool(), a.item(), a.any() or a.all().",
     "output_type": "error",
     "traceback": [
      "\u001b[1;31m---------------------------------------------------------------------------\u001b[0m",
      "\u001b[1;31mValueError\u001b[0m                                Traceback (most recent call last)",
      "\u001b[1;32m<ipython-input-58-b00029c82eff>\u001b[0m in \u001b[0;36m<module>\u001b[1;34m\u001b[0m\n\u001b[1;32m----> 1\u001b[1;33m \u001b[0mdummy\u001b[0m \u001b[1;33m=\u001b[0m \u001b[0mnp\u001b[0m\u001b[1;33m.\u001b[0m\u001b[0mwhere\u001b[0m\u001b[1;33m(\u001b[0m\u001b[1;33m(\u001b[0m\u001b[0mbool\u001b[0m\u001b[1;33m)\u001b[0m\u001b[1;33m(\u001b[0m\u001b[0mdf\u001b[0m\u001b[1;33m[\u001b[0m\u001b[1;34m'Upper'\u001b[0m\u001b[1;33m]\u001b[0m \u001b[1;33m>=\u001b[0m \u001b[0mdf\u001b[0m\u001b[1;33m[\u001b[0m\u001b[1;34m'Prediction'\u001b[0m\u001b[1;33m]\u001b[0m\u001b[1;33m)\u001b[0m \u001b[1;32mor\u001b[0m \u001b[1;33m(\u001b[0m\u001b[0mbool\u001b[0m\u001b[1;33m)\u001b[0m\u001b[1;33m(\u001b[0m\u001b[0mdf\u001b[0m\u001b[1;33m[\u001b[0m\u001b[1;34m'Lower'\u001b[0m\u001b[1;33m]\u001b[0m \u001b[1;33m<=\u001b[0m \u001b[0mdf\u001b[0m\u001b[1;33m[\u001b[0m\u001b[1;34m'Prediction'\u001b[0m\u001b[1;33m]\u001b[0m\u001b[1;33m)\u001b[0m\u001b[1;33m)\u001b[0m\u001b[1;33m\u001b[0m\u001b[1;33m\u001b[0m\u001b[0m\n\u001b[0m\u001b[0;32m      2\u001b[0m \u001b[0mdummy\u001b[0m\u001b[1;33m\u001b[0m\u001b[1;33m\u001b[0m\u001b[0m\n",
      "\u001b[1;32m~\\anaconda3\\lib\\site-packages\\pandas\\core\\generic.py\u001b[0m in \u001b[0;36m__nonzero__\u001b[1;34m(self)\u001b[0m\n\u001b[0;32m   1440\u001b[0m     \u001b[1;33m@\u001b[0m\u001b[0mfinal\u001b[0m\u001b[1;33m\u001b[0m\u001b[1;33m\u001b[0m\u001b[0m\n\u001b[0;32m   1441\u001b[0m     \u001b[1;32mdef\u001b[0m \u001b[0m__nonzero__\u001b[0m\u001b[1;33m(\u001b[0m\u001b[0mself\u001b[0m\u001b[1;33m)\u001b[0m\u001b[1;33m:\u001b[0m\u001b[1;33m\u001b[0m\u001b[1;33m\u001b[0m\u001b[0m\n\u001b[1;32m-> 1442\u001b[1;33m         raise ValueError(\n\u001b[0m\u001b[0;32m   1443\u001b[0m             \u001b[1;34mf\"The truth value of a {type(self).__name__} is ambiguous. \"\u001b[0m\u001b[1;33m\u001b[0m\u001b[1;33m\u001b[0m\u001b[0m\n\u001b[0;32m   1444\u001b[0m             \u001b[1;34m\"Use a.empty, a.bool(), a.item(), a.any() or a.all().\"\u001b[0m\u001b[1;33m\u001b[0m\u001b[1;33m\u001b[0m\u001b[0m\n",
      "\u001b[1;31mValueError\u001b[0m: The truth value of a Series is ambiguous. Use a.empty, a.bool(), a.item(), a.any() or a.all()."
     ]
    }
   ],
   "source": [
    "dummy = np.where((bool)(df['Upper'] >= df['Prediction']) or (bool)(df['Lower'] <= df['Prediction']))\n",
    "dummy"
   ]
  }
 ],
 "metadata": {
  "kernelspec": {
   "display_name": "Python 3",
   "language": "python",
   "name": "python3"
  },
  "language_info": {
   "codemirror_mode": {
    "name": "ipython",
    "version": 3
   },
   "file_extension": ".py",
   "mimetype": "text/x-python",
   "name": "python",
   "nbconvert_exporter": "python",
   "pygments_lexer": "ipython3",
   "version": "3.8.8"
  }
 },
 "nbformat": 4,
 "nbformat_minor": 5
}
