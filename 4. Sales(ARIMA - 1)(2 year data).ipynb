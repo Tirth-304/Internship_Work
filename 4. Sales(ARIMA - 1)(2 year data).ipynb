{
 "cells": [
  {
   "cell_type": "code",
   "execution_count": 17,
   "metadata": {},
   "outputs": [],
   "source": [
    "import pandas as pd\n",
    "import matplotlib.pyplot as plt\n",
    "import numpy as np\n",
    "import warnings\n",
    "warnings.filterwarnings('ignore')\n",
    "%matplotlib inline"
   ]
  },
  {
   "cell_type": "markdown",
   "metadata": {},
   "source": [
    "## Import and Prepare data"
   ]
  },
  {
   "cell_type": "code",
   "execution_count": 18,
   "metadata": {},
   "outputs": [],
   "source": [
    "data = pd.read_excel('E:/vbak.xlsx')"
   ]
  },
  {
   "cell_type": "code",
   "execution_count": 19,
   "metadata": {},
   "outputs": [
    {
     "data": {
      "text/html": [
       "<div>\n",
       "<style scoped>\n",
       "    .dataframe tbody tr th:only-of-type {\n",
       "        vertical-align: middle;\n",
       "    }\n",
       "\n",
       "    .dataframe tbody tr th {\n",
       "        vertical-align: top;\n",
       "    }\n",
       "\n",
       "    .dataframe thead th {\n",
       "        text-align: right;\n",
       "    }\n",
       "</style>\n",
       "<table border=\"1\" class=\"dataframe\">\n",
       "  <thead>\n",
       "    <tr style=\"text-align: right;\">\n",
       "      <th></th>\n",
       "      <th>Date</th>\n",
       "      <th>Value</th>\n",
       "    </tr>\n",
       "  </thead>\n",
       "  <tbody>\n",
       "    <tr>\n",
       "      <td>0</td>\n",
       "      <td>2/7/2019</td>\n",
       "      <td>338948.19</td>\n",
       "    </tr>\n",
       "    <tr>\n",
       "      <td>1</td>\n",
       "      <td>2/7/2019</td>\n",
       "      <td>267974.06</td>\n",
       "    </tr>\n",
       "    <tr>\n",
       "      <td>2</td>\n",
       "      <td>4/7/2019</td>\n",
       "      <td>392543.78</td>\n",
       "    </tr>\n",
       "    <tr>\n",
       "      <td>3</td>\n",
       "      <td>4/7/2019</td>\n",
       "      <td>197866.03</td>\n",
       "    </tr>\n",
       "    <tr>\n",
       "      <td>4</td>\n",
       "      <td>4/7/2019</td>\n",
       "      <td>286206.22</td>\n",
       "    </tr>\n",
       "  </tbody>\n",
       "</table>\n",
       "</div>"
      ],
      "text/plain": [
       "       Date      Value\n",
       "0  2/7/2019  338948.19\n",
       "1  2/7/2019  267974.06\n",
       "2  4/7/2019  392543.78\n",
       "3  4/7/2019  197866.03\n",
       "4  4/7/2019  286206.22"
      ]
     },
     "execution_count": 19,
     "metadata": {},
     "output_type": "execute_result"
    }
   ],
   "source": [
    "data.head()"
   ]
  },
  {
   "cell_type": "code",
   "execution_count": 20,
   "metadata": {},
   "outputs": [
    {
     "data": {
      "text/html": [
       "<div>\n",
       "<style scoped>\n",
       "    .dataframe tbody tr th:only-of-type {\n",
       "        vertical-align: middle;\n",
       "    }\n",
       "\n",
       "    .dataframe tbody tr th {\n",
       "        vertical-align: top;\n",
       "    }\n",
       "\n",
       "    .dataframe thead th {\n",
       "        text-align: right;\n",
       "    }\n",
       "</style>\n",
       "<table border=\"1\" class=\"dataframe\">\n",
       "  <thead>\n",
       "    <tr style=\"text-align: right;\">\n",
       "      <th></th>\n",
       "      <th>Date</th>\n",
       "      <th>Value</th>\n",
       "    </tr>\n",
       "  </thead>\n",
       "  <tbody>\n",
       "    <tr>\n",
       "      <td>25857</td>\n",
       "      <td>2/4/2020</td>\n",
       "      <td>57847.62</td>\n",
       "    </tr>\n",
       "    <tr>\n",
       "      <td>25858</td>\n",
       "      <td>2/4/2020</td>\n",
       "      <td>34040.00</td>\n",
       "    </tr>\n",
       "    <tr>\n",
       "      <td>25859</td>\n",
       "      <td>2/4/2020</td>\n",
       "      <td>40430.50</td>\n",
       "    </tr>\n",
       "    <tr>\n",
       "      <td>25860</td>\n",
       "      <td>2/10/2019</td>\n",
       "      <td>185333.34</td>\n",
       "    </tr>\n",
       "    <tr>\n",
       "      <td>25861</td>\n",
       "      <td>4/11/2019</td>\n",
       "      <td>5088.26</td>\n",
       "    </tr>\n",
       "  </tbody>\n",
       "</table>\n",
       "</div>"
      ],
      "text/plain": [
       "            Date      Value\n",
       "25857   2/4/2020   57847.62\n",
       "25858   2/4/2020   34040.00\n",
       "25859   2/4/2020   40430.50\n",
       "25860  2/10/2019  185333.34\n",
       "25861  4/11/2019    5088.26"
      ]
     },
     "execution_count": 20,
     "metadata": {},
     "output_type": "execute_result"
    }
   ],
   "source": [
    "data.tail()"
   ]
  },
  {
   "cell_type": "code",
   "execution_count": 21,
   "metadata": {},
   "outputs": [],
   "source": [
    "data['Date'] = pd.to_datetime(data['Date'])"
   ]
  },
  {
   "cell_type": "code",
   "execution_count": 22,
   "metadata": {},
   "outputs": [
    {
     "data": {
      "text/plain": [
       "(25862, 2)"
      ]
     },
     "execution_count": 22,
     "metadata": {},
     "output_type": "execute_result"
    }
   ],
   "source": [
    "data.shape"
   ]
  },
  {
   "cell_type": "code",
   "execution_count": 23,
   "metadata": {},
   "outputs": [
    {
     "name": "stdout",
     "output_type": "stream",
     "text": [
      "<class 'pandas.core.frame.DataFrame'>\n",
      "RangeIndex: 25862 entries, 0 to 25861\n",
      "Data columns (total 2 columns):\n",
      "Date     25862 non-null datetime64[ns]\n",
      "Value    25862 non-null float64\n",
      "dtypes: datetime64[ns](1), float64(1)\n",
      "memory usage: 404.2 KB\n"
     ]
    }
   ],
   "source": [
    "data.info()"
   ]
  },
  {
   "cell_type": "code",
   "execution_count": 24,
   "metadata": {},
   "outputs": [
    {
     "data": {
      "text/html": [
       "<div>\n",
       "<style scoped>\n",
       "    .dataframe tbody tr th:only-of-type {\n",
       "        vertical-align: middle;\n",
       "    }\n",
       "\n",
       "    .dataframe tbody tr th {\n",
       "        vertical-align: top;\n",
       "    }\n",
       "\n",
       "    .dataframe thead th {\n",
       "        text-align: right;\n",
       "    }\n",
       "</style>\n",
       "<table border=\"1\" class=\"dataframe\">\n",
       "  <thead>\n",
       "    <tr style=\"text-align: right;\">\n",
       "      <th></th>\n",
       "      <th>Date</th>\n",
       "      <th>Value</th>\n",
       "    </tr>\n",
       "  </thead>\n",
       "  <tbody>\n",
       "    <tr>\n",
       "      <td>0</td>\n",
       "      <td>2019-01</td>\n",
       "      <td>5.653039e+08</td>\n",
       "    </tr>\n",
       "    <tr>\n",
       "      <td>1</td>\n",
       "      <td>2019-02</td>\n",
       "      <td>6.078914e+08</td>\n",
       "    </tr>\n",
       "    <tr>\n",
       "      <td>2</td>\n",
       "      <td>2019-03</td>\n",
       "      <td>6.627751e+08</td>\n",
       "    </tr>\n",
       "    <tr>\n",
       "      <td>3</td>\n",
       "      <td>2019-04</td>\n",
       "      <td>1.564008e+09</td>\n",
       "    </tr>\n",
       "    <tr>\n",
       "      <td>4</td>\n",
       "      <td>2019-05</td>\n",
       "      <td>1.702860e+09</td>\n",
       "    </tr>\n",
       "  </tbody>\n",
       "</table>\n",
       "</div>"
      ],
      "text/plain": [
       "      Date         Value\n",
       "0  2019-01  5.653039e+08\n",
       "1  2019-02  6.078914e+08\n",
       "2  2019-03  6.627751e+08\n",
       "3  2019-04  1.564008e+09\n",
       "4  2019-05  1.702860e+09"
      ]
     },
     "execution_count": 24,
     "metadata": {},
     "output_type": "execute_result"
    }
   ],
   "source": [
    "data['Date'] = data['Date'].apply(lambda x: str(x)[:-12])  \n",
    "data = data.groupby('Date')['Value'].sum().reset_index()\n",
    "data.head()"
   ]
  },
  {
   "cell_type": "code",
   "execution_count": 25,
   "metadata": {},
   "outputs": [
    {
     "data": {
      "text/plain": [
       "(24, 2)"
      ]
     },
     "execution_count": 25,
     "metadata": {},
     "output_type": "execute_result"
    }
   ],
   "source": [
    "# data['Sales_diff'] = data['Value'].diff()\n",
    "data.shape"
   ]
  },
  {
   "cell_type": "code",
   "execution_count": 26,
   "metadata": {},
   "outputs": [],
   "source": [
    "data.set_index('Date' , inplace = True)"
   ]
  },
  {
   "cell_type": "code",
   "execution_count": 27,
   "metadata": {},
   "outputs": [
    {
     "data": {
      "text/html": [
       "<div>\n",
       "<style scoped>\n",
       "    .dataframe tbody tr th:only-of-type {\n",
       "        vertical-align: middle;\n",
       "    }\n",
       "\n",
       "    .dataframe tbody tr th {\n",
       "        vertical-align: top;\n",
       "    }\n",
       "\n",
       "    .dataframe thead th {\n",
       "        text-align: right;\n",
       "    }\n",
       "</style>\n",
       "<table border=\"1\" class=\"dataframe\">\n",
       "  <thead>\n",
       "    <tr style=\"text-align: right;\">\n",
       "      <th></th>\n",
       "      <th>Value</th>\n",
       "    </tr>\n",
       "    <tr>\n",
       "      <th>Date</th>\n",
       "      <th></th>\n",
       "    </tr>\n",
       "  </thead>\n",
       "  <tbody>\n",
       "    <tr>\n",
       "      <td>2019-01</td>\n",
       "      <td>5.653039e+08</td>\n",
       "    </tr>\n",
       "    <tr>\n",
       "      <td>2019-02</td>\n",
       "      <td>6.078914e+08</td>\n",
       "    </tr>\n",
       "    <tr>\n",
       "      <td>2019-03</td>\n",
       "      <td>6.627751e+08</td>\n",
       "    </tr>\n",
       "    <tr>\n",
       "      <td>2019-04</td>\n",
       "      <td>1.564008e+09</td>\n",
       "    </tr>\n",
       "    <tr>\n",
       "      <td>2019-05</td>\n",
       "      <td>1.702860e+09</td>\n",
       "    </tr>\n",
       "  </tbody>\n",
       "</table>\n",
       "</div>"
      ],
      "text/plain": [
       "                Value\n",
       "Date                 \n",
       "2019-01  5.653039e+08\n",
       "2019-02  6.078914e+08\n",
       "2019-03  6.627751e+08\n",
       "2019-04  1.564008e+09\n",
       "2019-05  1.702860e+09"
      ]
     },
     "execution_count": 27,
     "metadata": {},
     "output_type": "execute_result"
    }
   ],
   "source": [
    "data.head()"
   ]
  },
  {
   "cell_type": "code",
   "execution_count": 28,
   "metadata": {},
   "outputs": [
    {
     "data": {
      "text/html": [
       "<div>\n",
       "<style scoped>\n",
       "    .dataframe tbody tr th:only-of-type {\n",
       "        vertical-align: middle;\n",
       "    }\n",
       "\n",
       "    .dataframe tbody tr th {\n",
       "        vertical-align: top;\n",
       "    }\n",
       "\n",
       "    .dataframe thead th {\n",
       "        text-align: right;\n",
       "    }\n",
       "</style>\n",
       "<table border=\"1\" class=\"dataframe\">\n",
       "  <thead>\n",
       "    <tr style=\"text-align: right;\">\n",
       "      <th></th>\n",
       "      <th>Value</th>\n",
       "    </tr>\n",
       "  </thead>\n",
       "  <tbody>\n",
       "    <tr>\n",
       "      <td>count</td>\n",
       "      <td>2.400000e+01</td>\n",
       "    </tr>\n",
       "    <tr>\n",
       "      <td>mean</td>\n",
       "      <td>1.037946e+09</td>\n",
       "    </tr>\n",
       "    <tr>\n",
       "      <td>std</td>\n",
       "      <td>7.726338e+08</td>\n",
       "    </tr>\n",
       "    <tr>\n",
       "      <td>min</td>\n",
       "      <td>1.602296e+08</td>\n",
       "    </tr>\n",
       "    <tr>\n",
       "      <td>25%</td>\n",
       "      <td>2.523700e+08</td>\n",
       "    </tr>\n",
       "    <tr>\n",
       "      <td>50%</td>\n",
       "      <td>7.972718e+08</td>\n",
       "    </tr>\n",
       "    <tr>\n",
       "      <td>75%</td>\n",
       "      <td>1.831873e+09</td>\n",
       "    </tr>\n",
       "    <tr>\n",
       "      <td>max</td>\n",
       "      <td>2.076434e+09</td>\n",
       "    </tr>\n",
       "  </tbody>\n",
       "</table>\n",
       "</div>"
      ],
      "text/plain": [
       "              Value\n",
       "count  2.400000e+01\n",
       "mean   1.037946e+09\n",
       "std    7.726338e+08\n",
       "min    1.602296e+08\n",
       "25%    2.523700e+08\n",
       "50%    7.972718e+08\n",
       "75%    1.831873e+09\n",
       "max    2.076434e+09"
      ]
     },
     "execution_count": 28,
     "metadata": {},
     "output_type": "execute_result"
    }
   ],
   "source": [
    "data.describe()"
   ]
  },
  {
   "cell_type": "code",
   "execution_count": 29,
   "metadata": {},
   "outputs": [
    {
     "data": {
      "image/png": "[encoded data removed]",
      "text/plain": [
       "<Figure size 1152x504 with 1 Axes>"
      ]
     },
     "metadata": {
      "needs_background": "light"
     },
     "output_type": "display_data"
    }
   ],
   "source": [
    "data.plot(figsize = (16 , 7));"
   ]
  },
  {
   "cell_type": "markdown",
   "metadata": {},
   "source": [
    "## ADF Test"
   ]
  },
  {
   "cell_type": "code",
   "execution_count": 31,
   "metadata": {},
   "outputs": [],
   "source": [
    "# To check whether data is stationary or not\n",
    "from statsmodels.tsa.stattools import adfuller"
   ]
  },
  {
   "cell_type": "code",
   "execution_count": 33,
   "metadata": {},
   "outputs": [],
   "source": [
    "test_result = adfuller(data['Value'])"
   ]
  },
  {
   "cell_type": "code",
   "execution_count": 34,
   "metadata": {},
   "outputs": [],
   "source": [
    "def adf_check(time_series):\n",
    "    print('\\n------Dickey Fuller Test Results---------\\n')\n",
    "    result = adfuller(time_series)\n",
    "    labels = ['ADF Test Statistic','p values','#Lags used','Number of Observations used']\n",
    "\n",
    "    for value, label in zip(result, labels):\n",
    "        print(label + ' : ' + str(value)+'\\n')\n",
    "    \n",
    "    if result[1] <= 0.05:\n",
    "        print('Since the evidence is strong enough we reject the null hypothesis so time series is stationary')\n",
    "    else:\n",
    "        print('Since the evidence is not enough we fail to reject the null hypothesis, so time series is not stationary')"
   ]
  },
  {
   "cell_type": "code",
   "execution_count": 37,
   "metadata": {},
   "outputs": [
    {
     "name": "stdout",
     "output_type": "stream",
     "text": [
      "\n",
      "------Dickey Fuller Test Results---------\n",
      "\n",
      "ADF Test Statistic : -2.383852368845749\n",
      "\n",
      "p values : 0.1463459200313018\n",
      "\n",
      "#Lags used : 9\n",
      "\n",
      "Number of Observations used : 14\n",
      "\n",
      "Since the evidence is not enough we fail to reject the null hypothesis, so time series is not stationary\n"
     ]
    }
   ],
   "source": [
    "adf_check(data['Value'])"
   ]
  },
  {
   "cell_type": "code",
   "execution_count": 39,
   "metadata": {},
   "outputs": [],
   "source": [
    "data['Value First Difference'] = data['Value'] - data['Value'].shift(1)"
   ]
  },
  {
   "cell_type": "code",
   "execution_count": 40,
   "metadata": {},
   "outputs": [
    {
     "data": {
      "text/html": [
       "<div>\n",
       "<style scoped>\n",
       "    .dataframe tbody tr th:only-of-type {\n",
       "        vertical-align: middle;\n",
       "    }\n",
       "\n",
       "    .dataframe tbody tr th {\n",
       "        vertical-align: top;\n",
       "    }\n",
       "\n",
       "    .dataframe thead th {\n",
       "        text-align: right;\n",
       "    }\n",
       "</style>\n",
       "<table border=\"1\" class=\"dataframe\">\n",
       "  <thead>\n",
       "    <tr style=\"text-align: right;\">\n",
       "      <th></th>\n",
       "      <th>Value</th>\n",
       "      <th>Value First Difference</th>\n",
       "    </tr>\n",
       "    <tr>\n",
       "      <th>Date</th>\n",
       "      <th></th>\n",
       "      <th></th>\n",
       "    </tr>\n",
       "  </thead>\n",
       "  <tbody>\n",
       "    <tr>\n",
       "      <td>2019-01</td>\n",
       "      <td>5.653039e+08</td>\n",
       "      <td>NaN</td>\n",
       "    </tr>\n",
       "    <tr>\n",
       "      <td>2019-02</td>\n",
       "      <td>6.078914e+08</td>\n",
       "      <td>4.258747e+07</td>\n",
       "    </tr>\n",
       "    <tr>\n",
       "      <td>2019-03</td>\n",
       "      <td>6.627751e+08</td>\n",
       "      <td>5.488371e+07</td>\n",
       "    </tr>\n",
       "    <tr>\n",
       "      <td>2019-04</td>\n",
       "      <td>1.564008e+09</td>\n",
       "      <td>9.012329e+08</td>\n",
       "    </tr>\n",
       "    <tr>\n",
       "      <td>2019-05</td>\n",
       "      <td>1.702860e+09</td>\n",
       "      <td>1.388520e+08</td>\n",
       "    </tr>\n",
       "  </tbody>\n",
       "</table>\n",
       "</div>"
      ],
      "text/plain": [
       "                Value  Value First Difference\n",
       "Date                                         \n",
       "2019-01  5.653039e+08                     NaN\n",
       "2019-02  6.078914e+08            4.258747e+07\n",
       "2019-03  6.627751e+08            5.488371e+07\n",
       "2019-04  1.564008e+09            9.012329e+08\n",
       "2019-05  1.702860e+09            1.388520e+08"
      ]
     },
     "execution_count": 40,
     "metadata": {},
     "output_type": "execute_result"
    }
   ],
   "source": [
    "data.head()"
   ]
  },
  {
   "cell_type": "code",
   "execution_count": 42,
   "metadata": {},
   "outputs": [
    {
     "name": "stdout",
     "output_type": "stream",
     "text": [
      "\n",
      "------Dickey Fuller Test Results---------\n",
      "\n",
      "ADF Test Statistic : -2.124241452436635\n",
      "\n",
      "p values : 0.23487936237531537\n",
      "\n",
      "#Lags used : 9\n",
      "\n",
      "Number of Observations used : 13\n",
      "\n",
      "Since the evidence is not enough we fail to reject the null hypothesis, so time series is not stationary\n"
     ]
    }
   ],
   "source": [
    "adf_check(data['Value First Difference'].dropna())"
   ]
  },
  {
   "cell_type": "code",
   "execution_count": 43,
   "metadata": {},
   "outputs": [],
   "source": [
    "data['Value Second Difference'] = data['Value'] - data['Value'].shift(2)"
   ]
  },
  {
   "cell_type": "code",
   "execution_count": 44,
   "metadata": {},
   "outputs": [
    {
     "name": "stdout",
     "output_type": "stream",
     "text": [
      "\n",
      "------Dickey Fuller Test Results---------\n",
      "\n",
      "ADF Test Statistic : -22.485134291222984\n",
      "\n",
      "p values : 0.0\n",
      "\n",
      "#Lags used : 9\n",
      "\n",
      "Number of Observations used : 12\n",
      "\n",
      "Since the evidence is strong enough we reject the null hypothesis so time series is stationary\n"
     ]
    }
   ],
   "source": [
    "adf_check(data['Value Second Difference'].dropna())"
   ]
  },
  {
   "cell_type": "code",
   "execution_count": 46,
   "metadata": {},
   "outputs": [
    {
     "data": {
      "text/plain": [
       "<matplotlib.axes._subplots.AxesSubplot at 0x179724bf848>"
      ]
     },
     "execution_count": 46,
     "metadata": {},
     "output_type": "execute_result"
    },
    {
     "data": {
      "image/png": "[encoded data removed]",
      "text/plain": [
       "<Figure size 432x288 with 1 Axes>"
      ]
     },
     "metadata": {
      "needs_background": "light"
     },
     "output_type": "display_data"
    }
   ],
   "source": [
    "data['Value Second Difference'].plot()"
   ]
  },
  {
   "cell_type": "code",
   "execution_count": 48,
   "metadata": {},
   "outputs": [],
   "source": [
    "from statsmodels.graphics.tsaplots import plot_acf,plot_pacf"
   ]
  },
  {
   "cell_type": "code",
   "execution_count": 52,
   "metadata": {},
   "outputs": [
    {
     "data": {
      "image/png": "[encoded data removed]",
      "text/plain": [
       "<Figure size 864x576 with 2 Axes>"
      ]
     },
     "metadata": {
      "needs_background": "light"
     },
     "output_type": "display_data"
    }
   ],
   "source": [
    "import statsmodels.api as sm\n",
    "fig = plt.figure(figsize=(12,8))\n",
    "# From acf obtain q value = 1\n",
    "ax1 = fig.add_subplot(211)\n",
    "fig = sm.graphics.tsa.plot_acf(data['Value Second Difference'].iloc[2:],ax=ax1)\n",
    "# From pacf obtain p value = 2\n",
    "ax2 = fig.add_subplot(212)\n",
    "fig = sm.graphics.tsa.plot_pacf(data['Value Second Difference'].iloc[2:],ax=ax2)"
   ]
  },
  {
   "cell_type": "markdown",
   "metadata": {},
   "source": [
    "## Model - 1(Arima)"
   ]
  },
  {
   "cell_type": "code",
   "execution_count": 53,
   "metadata": {},
   "outputs": [],
   "source": [
    "from statsmodels.tsa.arima_model import ARIMA"
   ]
  },
  {
   "cell_type": "code",
   "execution_count": 55,
   "metadata": {},
   "outputs": [],
   "source": [
    "# Put values in order in order as (p , d , q)\n",
    "model=ARIMA(data['Value'],order=(2,1,1))\n",
    "model_fit=model.fit()"
   ]
  },
  {
   "cell_type": "code",
   "execution_count": 56,
   "metadata": {},
   "outputs": [
    {
     "data": {
      "text/html": [
       "<table class=\"simpletable\">\n",
       "<caption>ARIMA Model Results</caption>\n",
       "<tr>\n",
       "  <th>Dep. Variable:</th>      <td>D.Value</td>     <th>  No. Observations:  </th>      <td>23</td>      \n",
       "</tr>\n",
       "<tr>\n",
       "  <th>Model:</th>          <td>ARIMA(2, 1, 1)</td>  <th>  Log Likelihood     </th>   <td>-479.900</td>   \n",
       "</tr>\n",
       "<tr>\n",
       "  <th>Method:</th>             <td>css-mle</td>     <th>  S.D. of innovations</th> <td>278088697.525</td>\n",
       "</tr>\n",
       "<tr>\n",
       "  <th>Date:</th>          <td>Sat, 12 Jun 2021</td> <th>  AIC                </th>    <td>969.801</td>   \n",
       "</tr>\n",
       "<tr>\n",
       "  <th>Time:</th>              <td>12:02:06</td>     <th>  BIC                </th>    <td>975.478</td>   \n",
       "</tr>\n",
       "<tr>\n",
       "  <th>Sample:</th>           <td>02-01-2019</td>    <th>  HQIC               </th>    <td>971.229</td>   \n",
       "</tr>\n",
       "<tr>\n",
       "  <th></th>                 <td>- 12-01-2020</td>   <th>                     </th>       <td> </td>      \n",
       "</tr>\n",
       "</table>\n",
       "<table class=\"simpletable\">\n",
       "<tr>\n",
       "        <td></td>           <th>coef</th>     <th>std err</th>      <th>z</th>      <th>P>|z|</th>  <th>[0.025</th>    <th>0.975]</th>  \n",
       "</tr>\n",
       "<tr>\n",
       "  <th>const</th>         <td>-1.528e+07</td> <td> 9.68e+07</td> <td>   -0.158</td> <td> 0.876</td> <td>-2.05e+08</td> <td> 1.75e+08</td>\n",
       "</tr>\n",
       "<tr>\n",
       "  <th>ar.L1.D.Value</th> <td>    0.5633</td> <td>    0.815</td> <td>    0.692</td> <td> 0.498</td> <td>   -1.033</td> <td>    2.160</td>\n",
       "</tr>\n",
       "<tr>\n",
       "  <th>ar.L2.D.Value</th> <td>    0.0412</td> <td>    0.326</td> <td>    0.126</td> <td> 0.901</td> <td>   -0.598</td> <td>    0.680</td>\n",
       "</tr>\n",
       "<tr>\n",
       "  <th>ma.L1.D.Value</th> <td>   -0.3147</td> <td>    0.798</td> <td>   -0.395</td> <td> 0.698</td> <td>   -1.878</td> <td>    1.249</td>\n",
       "</tr>\n",
       "</table>\n",
       "<table class=\"simpletable\">\n",
       "<caption>Roots</caption>\n",
       "<tr>\n",
       "    <td></td>   <th>            Real</th>  <th>         Imaginary</th> <th>         Modulus</th>  <th>        Frequency</th>\n",
       "</tr>\n",
       "<tr>\n",
       "  <th>AR.1</th> <td>           1.5903</td> <td>          +0.0000j</td> <td>           1.5903</td> <td>           0.0000</td>\n",
       "</tr>\n",
       "<tr>\n",
       "  <th>AR.2</th> <td>         -15.2694</td> <td>          +0.0000j</td> <td>          15.2694</td> <td>           0.5000</td>\n",
       "</tr>\n",
       "<tr>\n",
       "  <th>MA.1</th> <td>           3.1772</td> <td>          +0.0000j</td> <td>           3.1772</td> <td>           0.0000</td>\n",
       "</tr>\n",
       "</table>"
      ],
      "text/plain": [
       "<class 'statsmodels.iolib.summary.Summary'>\n",
       "\"\"\"\n",
       "                             ARIMA Model Results                              \n",
       "==============================================================================\n",
       "Dep. Variable:                D.Value   No. Observations:                   23\n",
       "Model:                 ARIMA(2, 1, 1)   Log Likelihood                -479.900\n",
       "Method:                       css-mle   S.D. of innovations      278088697.525\n",
       "Date:                Sat, 12 Jun 2021   AIC                            969.801\n",
       "Time:                        12:02:06   BIC                            975.478\n",
       "Sample:                    02-01-2019   HQIC                           971.229\n",
       "                         - 12-01-2020                                         \n",
       "=================================================================================\n",
       "                    coef    std err          z      P>|z|      [0.025      0.975]\n",
       "---------------------------------------------------------------------------------\n",
       "const         -1.528e+07   9.68e+07     -0.158      0.876   -2.05e+08    1.75e+08\n",
       "ar.L1.D.Value     0.5633      0.815      0.692      0.498      -1.033       2.160\n",
       "ar.L2.D.Value     0.0412      0.326      0.126      0.901      -0.598       0.680\n",
       "ma.L1.D.Value    -0.3147      0.798     -0.395      0.698      -1.878       1.249\n",
       "                                    Roots                                    \n",
       "=============================================================================\n",
       "                  Real          Imaginary           Modulus         Frequency\n",
       "-----------------------------------------------------------------------------\n",
       "AR.1            1.5903           +0.0000j            1.5903            0.0000\n",
       "AR.2          -15.2694           +0.0000j           15.2694            0.5000\n",
       "MA.1            3.1772           +0.0000j            3.1772            0.0000\n",
       "-----------------------------------------------------------------------------\n",
       "\"\"\""
      ]
     },
     "execution_count": 56,
     "metadata": {},
     "output_type": "execute_result"
    }
   ],
   "source": [
    "model_fit.summary()"
   ]
  },
  {
   "cell_type": "code",
   "execution_count": 64,
   "metadata": {},
   "outputs": [
    {
     "name": "stdout",
     "output_type": "stream",
     "text": [
      "Date\n",
      "2019-01   NaN\n",
      "2019-02   NaN\n",
      "2019-03   NaN\n",
      "2019-04   NaN\n",
      "2019-05   NaN\n",
      "2019-06   NaN\n",
      "2019-07   NaN\n",
      "2019-08   NaN\n",
      "2019-09   NaN\n",
      "2019-10   NaN\n",
      "2019-11   NaN\n",
      "2019-12   NaN\n",
      "2020-01   NaN\n",
      "2020-02   NaN\n",
      "2020-03   NaN\n",
      "2020-04   NaN\n",
      "2020-05   NaN\n",
      "2020-06   NaN\n",
      "2020-07   NaN\n",
      "2020-08   NaN\n",
      "2020-09   NaN\n",
      "2020-10   NaN\n",
      "2020-11   NaN\n",
      "2020-12   NaN\n",
      "Name: Prediction, dtype: float64\n"
     ]
    }
   ],
   "source": [
    "data['Prediction'] = model_fit.predict(start = 19 , end = 24 , dynamic = True)\n",
    "print(data['Prediction'])"
   ]
  },
  {
   "cell_type": "code",
   "execution_count": 12,
   "metadata": {},
   "outputs": [
    {
     "data": {
      "image/png": "[encoded data removed]",
      "text/plain": [
       "<Figure size 1152x504 with 1 Axes>"
      ]
     },
     "metadata": {
      "needs_background": "light"
     },
     "output_type": "display_data"
    }
   ],
   "source": [
    "data['Sales'].rolling(5).mean().plot(figsize = (16,7), label = 'Rolling Mean Line')\n",
    "data['Sales'].rolling(5).std().plot(label = 'Rolling Standard Deviation Line')\n",
    "data['Sales'].plot(label = 'Original Data Line')\n",
    "plt.legend()\n",
    "plt.show()"
   ]
  }
 ],
 "metadata": {
  "kernelspec": {
   "display_name": "Python 3",
   "language": "python",
   "name": "python3"
  },
  "language_info": {
   "codemirror_mode": {
    "name": "ipython",
    "version": 3
   },
   "file_extension": ".py",
   "mimetype": "text/x-python",
   "name": "python",
   "nbconvert_exporter": "python",
   "pygments_lexer": "ipython3",
   "version": "3.8.8"
  }
 },
 "nbformat": 4,
 "nbformat_minor": 2
}
