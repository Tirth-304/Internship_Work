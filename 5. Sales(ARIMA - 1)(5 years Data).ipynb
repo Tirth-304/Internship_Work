{
 "cells": [
  {
   "cell_type": "code",
   "execution_count": 1,
   "metadata": {},
   "outputs": [],
   "source": [
    "import pandas as pd\n",
    "import numpy as np\n",
    "import matplotlib.pyplot as plt\n",
    "import warnings, datetime\n",
    "warnings.filterwarnings('ignore')\n",
    "%matplotlib inline"
   ]
  },
  {
   "cell_type": "markdown",
   "metadata": {},
   "source": [
    "## Import and prepare data"
   ]
  },
  {
   "cell_type": "code",
   "execution_count": 67,
   "metadata": {},
   "outputs": [],
   "source": [
    "data = pd.read_csv('E:/Combined VBRK.txt')"
   ]
  },
  {
   "cell_type": "code",
   "execution_count": 68,
   "metadata": {},
   "outputs": [
    {
     "data": {
      "text/html": [
       "<div>\n",
       "<style scoped>\n",
       "    .dataframe tbody tr th:only-of-type {\n",
       "        vertical-align: middle;\n",
       "    }\n",
       "\n",
       "    .dataframe tbody tr th {\n",
       "        vertical-align: top;\n",
       "    }\n",
       "\n",
       "    .dataframe thead th {\n",
       "        text-align: right;\n",
       "    }\n",
       "</style>\n",
       "<table border=\"1\" class=\"dataframe\">\n",
       "  <thead>\n",
       "    <tr style=\"text-align: right;\">\n",
       "      <th></th>\n",
       "      <th>MANDT</th>\n",
       "      <th>VBELN</th>\n",
       "      <th>FKART</th>\n",
       "      <th>FKTYP</th>\n",
       "      <th>VBTYP</th>\n",
       "      <th>WAERK</th>\n",
       "      <th>BELNR</th>\n",
       "      <th>GJAHR</th>\n",
       "      <th>BUKRS</th>\n",
       "      <th>NETWR</th>\n",
       "      <th>KUNAG</th>\n",
       "      <th>FKDAT</th>\n",
       "      <th>BELNR.1</th>\n",
       "      <th>KURRF</th>\n",
       "      <th>ERDAT</th>\n",
       "    </tr>\n",
       "  </thead>\n",
       "  <tbody>\n",
       "    <tr>\n",
       "      <th>0</th>\n",
       "      <td>400</td>\n",
       "      <td>1266268.0</td>\n",
       "      <td>ZF2C</td>\n",
       "      <td>L</td>\n",
       "      <td>M</td>\n",
       "      <td>INR</td>\n",
       "      <td></td>\n",
       "      <td>0.0</td>\n",
       "      <td>BWPL</td>\n",
       "      <td>93927.0</td>\n",
       "      <td>10000008.0</td>\n",
       "      <td>20160719.0</td>\n",
       "      <td></td>\n",
       "      <td>1.0</td>\n",
       "      <td>20160719.0</td>\n",
       "    </tr>\n",
       "    <tr>\n",
       "      <th>1</th>\n",
       "      <td>400</td>\n",
       "      <td>1266270.0</td>\n",
       "      <td>ZF2C</td>\n",
       "      <td>L</td>\n",
       "      <td>M</td>\n",
       "      <td>INR</td>\n",
       "      <td></td>\n",
       "      <td>0.0</td>\n",
       "      <td>BWPL</td>\n",
       "      <td>79938.0</td>\n",
       "      <td>10000008.0</td>\n",
       "      <td>20160719.0</td>\n",
       "      <td></td>\n",
       "      <td>1.0</td>\n",
       "      <td>20160719.0</td>\n",
       "    </tr>\n",
       "    <tr>\n",
       "      <th>2</th>\n",
       "      <td>400</td>\n",
       "      <td>1270953.0</td>\n",
       "      <td>ZF2C</td>\n",
       "      <td>L</td>\n",
       "      <td>M</td>\n",
       "      <td>INR</td>\n",
       "      <td></td>\n",
       "      <td>0.0</td>\n",
       "      <td>BWPL</td>\n",
       "      <td>118851.0</td>\n",
       "      <td>10000008.0</td>\n",
       "      <td>20160927.0</td>\n",
       "      <td></td>\n",
       "      <td>1.0</td>\n",
       "      <td>20160927.0</td>\n",
       "    </tr>\n",
       "    <tr>\n",
       "      <th>3</th>\n",
       "      <td>400</td>\n",
       "      <td>1271403.0</td>\n",
       "      <td>ZF2C</td>\n",
       "      <td>L</td>\n",
       "      <td>M</td>\n",
       "      <td>INR</td>\n",
       "      <td></td>\n",
       "      <td>0.0</td>\n",
       "      <td>BWPL</td>\n",
       "      <td>114889.0</td>\n",
       "      <td>10000008.0</td>\n",
       "      <td>20161004.0</td>\n",
       "      <td></td>\n",
       "      <td>1.0</td>\n",
       "      <td>20161004.0</td>\n",
       "    </tr>\n",
       "    <tr>\n",
       "      <th>4</th>\n",
       "      <td>400</td>\n",
       "      <td>1272693.0</td>\n",
       "      <td>ZF2C</td>\n",
       "      <td>L</td>\n",
       "      <td>M</td>\n",
       "      <td>INR</td>\n",
       "      <td></td>\n",
       "      <td>0.0</td>\n",
       "      <td>BWPL</td>\n",
       "      <td>39617.0</td>\n",
       "      <td>10000008.0</td>\n",
       "      <td>20161025.0</td>\n",
       "      <td></td>\n",
       "      <td>1.0</td>\n",
       "      <td>20161025.0</td>\n",
       "    </tr>\n",
       "  </tbody>\n",
       "</table>\n",
       "</div>"
      ],
      "text/plain": [
       "  MANDT      VBELN FKART FKTYP VBTYP  WAERK       BELNR  GJAHR BUKRS  \\\n",
       "0   400  1266268.0  ZF2C     L  M     INR                  0.0  BWPL   \n",
       "1   400  1266270.0  ZF2C     L  M     INR                  0.0  BWPL   \n",
       "2   400  1270953.0  ZF2C     L  M     INR                  0.0  BWPL   \n",
       "3   400  1271403.0  ZF2C     L  M     INR                  0.0  BWPL   \n",
       "4   400  1272693.0  ZF2C     L  M     INR                  0.0  BWPL   \n",
       "\n",
       "      NETWR       KUNAG       FKDAT     BELNR.1  KURRF       ERDAT  \n",
       "0   93927.0  10000008.0  20160719.0                1.0  20160719.0  \n",
       "1   79938.0  10000008.0  20160719.0                1.0  20160719.0  \n",
       "2  118851.0  10000008.0  20160927.0                1.0  20160927.0  \n",
       "3  114889.0  10000008.0  20161004.0                1.0  20161004.0  \n",
       "4   39617.0  10000008.0  20161025.0                1.0  20161025.0  "
      ]
     },
     "execution_count": 68,
     "metadata": {},
     "output_type": "execute_result"
    }
   ],
   "source": [
    "data.head()"
   ]
  },
  {
   "cell_type": "code",
   "execution_count": 69,
   "metadata": {},
   "outputs": [
    {
     "name": "stdout",
     "output_type": "stream",
     "text": [
      "<class 'pandas.core.frame.DataFrame'>\n",
      "RangeIndex: 191306 entries, 0 to 191305\n",
      "Data columns (total 15 columns):\n",
      " #   Column   Non-Null Count   Dtype  \n",
      "---  ------   --------------   -----  \n",
      " 0   MANDT    191306 non-null  object \n",
      " 1   VBELN    191305 non-null  float64\n",
      " 2   FKART    191305 non-null  object \n",
      " 3   FKTYP    191305 non-null  object \n",
      " 4   VBTYP    191305 non-null  object \n",
      " 5   WAERK    191305 non-null  object \n",
      " 6   BELNR    191305 non-null  object \n",
      " 7   GJAHR    191305 non-null  float64\n",
      " 8   BUKRS    191305 non-null  object \n",
      " 9   NETWR    191305 non-null  float64\n",
      " 10  KUNAG    191305 non-null  float64\n",
      " 11  FKDAT    191305 non-null  float64\n",
      " 12  BELNR.1  191305 non-null  object \n",
      " 13  KURRF    191305 non-null  float64\n",
      " 14  ERDAT    191305 non-null  float64\n",
      "dtypes: float64(7), object(8)\n",
      "memory usage: 21.9+ MB\n"
     ]
    }
   ],
   "source": [
    "data.info()"
   ]
  },
  {
   "cell_type": "code",
   "execution_count": 70,
   "metadata": {},
   "outputs": [
    {
     "data": {
      "text/plain": [
       "(191306, 15)"
      ]
     },
     "execution_count": 70,
     "metadata": {},
     "output_type": "execute_result"
    }
   ],
   "source": [
    "data.shape"
   ]
  },
  {
   "cell_type": "code",
   "execution_count": 71,
   "metadata": {},
   "outputs": [],
   "source": [
    "# AS one of the data entry is empty we can just drop it\n",
    "data.dropna(inplace = True)"
   ]
  },
  {
   "cell_type": "code",
   "execution_count": 72,
   "metadata": {},
   "outputs": [],
   "source": [
    "# lim_data = data[datetime(2016,4,1):datetime(2021,2,1)]"
   ]
  },
  {
   "cell_type": "code",
   "execution_count": 73,
   "metadata": {},
   "outputs": [],
   "source": [
    "# As we can see that dates have been written in float format so\n",
    "# First convert dates in float to int\n",
    "data['FKDAT'] = data['FKDAT'].apply(np.int64)\n",
    "data['ERDAT'] = data['ERDAT'].apply(np.int64)"
   ]
  },
  {
   "cell_type": "code",
   "execution_count": 74,
   "metadata": {},
   "outputs": [],
   "source": [
    "# Then convert it into Date format\n",
    "data['FKDAT'] = pd.to_datetime(data['FKDAT'], format='%Y%m%d')\n",
    "data['ERDAT'] = pd.to_datetime(data['ERDAT'], format = '%Y%m%d')"
   ]
  },
  {
   "cell_type": "code",
   "execution_count": 75,
   "metadata": {},
   "outputs": [
    {
     "data": {
      "text/html": [
       "<div>\n",
       "<style scoped>\n",
       "    .dataframe tbody tr th:only-of-type {\n",
       "        vertical-align: middle;\n",
       "    }\n",
       "\n",
       "    .dataframe tbody tr th {\n",
       "        vertical-align: top;\n",
       "    }\n",
       "\n",
       "    .dataframe thead th {\n",
       "        text-align: right;\n",
       "    }\n",
       "</style>\n",
       "<table border=\"1\" class=\"dataframe\">\n",
       "  <thead>\n",
       "    <tr style=\"text-align: right;\">\n",
       "      <th></th>\n",
       "      <th>MANDT</th>\n",
       "      <th>VBELN</th>\n",
       "      <th>FKART</th>\n",
       "      <th>FKTYP</th>\n",
       "      <th>VBTYP</th>\n",
       "      <th>WAERK</th>\n",
       "      <th>BELNR</th>\n",
       "      <th>GJAHR</th>\n",
       "      <th>BUKRS</th>\n",
       "      <th>NETWR</th>\n",
       "      <th>KUNAG</th>\n",
       "      <th>FKDAT</th>\n",
       "      <th>BELNR.1</th>\n",
       "      <th>KURRF</th>\n",
       "      <th>ERDAT</th>\n",
       "    </tr>\n",
       "  </thead>\n",
       "  <tbody>\n",
       "    <tr>\n",
       "      <th>0</th>\n",
       "      <td>400</td>\n",
       "      <td>1266268.0</td>\n",
       "      <td>ZF2C</td>\n",
       "      <td>L</td>\n",
       "      <td>M</td>\n",
       "      <td>INR</td>\n",
       "      <td></td>\n",
       "      <td>0.0</td>\n",
       "      <td>BWPL</td>\n",
       "      <td>93927.0</td>\n",
       "      <td>10000008.0</td>\n",
       "      <td>2016-07-19</td>\n",
       "      <td></td>\n",
       "      <td>1.0</td>\n",
       "      <td>2016-07-19</td>\n",
       "    </tr>\n",
       "    <tr>\n",
       "      <th>1</th>\n",
       "      <td>400</td>\n",
       "      <td>1266270.0</td>\n",
       "      <td>ZF2C</td>\n",
       "      <td>L</td>\n",
       "      <td>M</td>\n",
       "      <td>INR</td>\n",
       "      <td></td>\n",
       "      <td>0.0</td>\n",
       "      <td>BWPL</td>\n",
       "      <td>79938.0</td>\n",
       "      <td>10000008.0</td>\n",
       "      <td>2016-07-19</td>\n",
       "      <td></td>\n",
       "      <td>1.0</td>\n",
       "      <td>2016-07-19</td>\n",
       "    </tr>\n",
       "    <tr>\n",
       "      <th>2</th>\n",
       "      <td>400</td>\n",
       "      <td>1270953.0</td>\n",
       "      <td>ZF2C</td>\n",
       "      <td>L</td>\n",
       "      <td>M</td>\n",
       "      <td>INR</td>\n",
       "      <td></td>\n",
       "      <td>0.0</td>\n",
       "      <td>BWPL</td>\n",
       "      <td>118851.0</td>\n",
       "      <td>10000008.0</td>\n",
       "      <td>2016-09-27</td>\n",
       "      <td></td>\n",
       "      <td>1.0</td>\n",
       "      <td>2016-09-27</td>\n",
       "    </tr>\n",
       "    <tr>\n",
       "      <th>3</th>\n",
       "      <td>400</td>\n",
       "      <td>1271403.0</td>\n",
       "      <td>ZF2C</td>\n",
       "      <td>L</td>\n",
       "      <td>M</td>\n",
       "      <td>INR</td>\n",
       "      <td></td>\n",
       "      <td>0.0</td>\n",
       "      <td>BWPL</td>\n",
       "      <td>114889.0</td>\n",
       "      <td>10000008.0</td>\n",
       "      <td>2016-10-04</td>\n",
       "      <td></td>\n",
       "      <td>1.0</td>\n",
       "      <td>2016-10-04</td>\n",
       "    </tr>\n",
       "    <tr>\n",
       "      <th>4</th>\n",
       "      <td>400</td>\n",
       "      <td>1272693.0</td>\n",
       "      <td>ZF2C</td>\n",
       "      <td>L</td>\n",
       "      <td>M</td>\n",
       "      <td>INR</td>\n",
       "      <td></td>\n",
       "      <td>0.0</td>\n",
       "      <td>BWPL</td>\n",
       "      <td>39617.0</td>\n",
       "      <td>10000008.0</td>\n",
       "      <td>2016-10-25</td>\n",
       "      <td></td>\n",
       "      <td>1.0</td>\n",
       "      <td>2016-10-25</td>\n",
       "    </tr>\n",
       "  </tbody>\n",
       "</table>\n",
       "</div>"
      ],
      "text/plain": [
       "  MANDT      VBELN FKART FKTYP VBTYP  WAERK       BELNR  GJAHR BUKRS  \\\n",
       "0   400  1266268.0  ZF2C     L  M     INR                  0.0  BWPL   \n",
       "1   400  1266270.0  ZF2C     L  M     INR                  0.0  BWPL   \n",
       "2   400  1270953.0  ZF2C     L  M     INR                  0.0  BWPL   \n",
       "3   400  1271403.0  ZF2C     L  M     INR                  0.0  BWPL   \n",
       "4   400  1272693.0  ZF2C     L  M     INR                  0.0  BWPL   \n",
       "\n",
       "      NETWR       KUNAG      FKDAT     BELNR.1  KURRF      ERDAT  \n",
       "0   93927.0  10000008.0 2016-07-19                1.0 2016-07-19  \n",
       "1   79938.0  10000008.0 2016-07-19                1.0 2016-07-19  \n",
       "2  118851.0  10000008.0 2016-09-27                1.0 2016-09-27  \n",
       "3  114889.0  10000008.0 2016-10-04                1.0 2016-10-04  \n",
       "4   39617.0  10000008.0 2016-10-25                1.0 2016-10-25  "
      ]
     },
     "execution_count": 75,
     "metadata": {},
     "output_type": "execute_result"
    }
   ],
   "source": [
    "data.head()"
   ]
  },
  {
   "cell_type": "code",
   "execution_count": 76,
   "metadata": {},
   "outputs": [],
   "source": [
    "data.drop(['MANDT','VBELN','FKART','FKTYP','VBTYP','WAERK','BELNR','GJAHR','BUKRS','KUNAG','FKDAT','BELNR.1','KURRF'] , axis = 1 , inplace = True)"
   ]
  },
  {
   "cell_type": "code",
   "execution_count": 77,
   "metadata": {},
   "outputs": [
    {
     "data": {
      "text/html": [
       "<div>\n",
       "<style scoped>\n",
       "    .dataframe tbody tr th:only-of-type {\n",
       "        vertical-align: middle;\n",
       "    }\n",
       "\n",
       "    .dataframe tbody tr th {\n",
       "        vertical-align: top;\n",
       "    }\n",
       "\n",
       "    .dataframe thead th {\n",
       "        text-align: right;\n",
       "    }\n",
       "</style>\n",
       "<table border=\"1\" class=\"dataframe\">\n",
       "  <thead>\n",
       "    <tr style=\"text-align: right;\">\n",
       "      <th></th>\n",
       "      <th>NETWR</th>\n",
       "      <th>ERDAT</th>\n",
       "    </tr>\n",
       "  </thead>\n",
       "  <tbody>\n",
       "    <tr>\n",
       "      <th>0</th>\n",
       "      <td>93927.0</td>\n",
       "      <td>2016-07-19</td>\n",
       "    </tr>\n",
       "    <tr>\n",
       "      <th>1</th>\n",
       "      <td>79938.0</td>\n",
       "      <td>2016-07-19</td>\n",
       "    </tr>\n",
       "    <tr>\n",
       "      <th>2</th>\n",
       "      <td>118851.0</td>\n",
       "      <td>2016-09-27</td>\n",
       "    </tr>\n",
       "    <tr>\n",
       "      <th>3</th>\n",
       "      <td>114889.0</td>\n",
       "      <td>2016-10-04</td>\n",
       "    </tr>\n",
       "    <tr>\n",
       "      <th>4</th>\n",
       "      <td>39617.0</td>\n",
       "      <td>2016-10-25</td>\n",
       "    </tr>\n",
       "  </tbody>\n",
       "</table>\n",
       "</div>"
      ],
      "text/plain": [
       "      NETWR      ERDAT\n",
       "0   93927.0 2016-07-19\n",
       "1   79938.0 2016-07-19\n",
       "2  118851.0 2016-09-27\n",
       "3  114889.0 2016-10-04\n",
       "4   39617.0 2016-10-25"
      ]
     },
     "execution_count": 77,
     "metadata": {},
     "output_type": "execute_result"
    }
   ],
   "source": [
    "data.head()"
   ]
  },
  {
   "cell_type": "code",
   "execution_count": 78,
   "metadata": {},
   "outputs": [],
   "source": [
    "data.columns = ['Sales' , 'Date']"
   ]
  },
  {
   "cell_type": "code",
   "execution_count": 79,
   "metadata": {},
   "outputs": [
    {
     "data": {
      "text/html": [
       "<div>\n",
       "<style scoped>\n",
       "    .dataframe tbody tr th:only-of-type {\n",
       "        vertical-align: middle;\n",
       "    }\n",
       "\n",
       "    .dataframe tbody tr th {\n",
       "        vertical-align: top;\n",
       "    }\n",
       "\n",
       "    .dataframe thead th {\n",
       "        text-align: right;\n",
       "    }\n",
       "</style>\n",
       "<table border=\"1\" class=\"dataframe\">\n",
       "  <thead>\n",
       "    <tr style=\"text-align: right;\">\n",
       "      <th></th>\n",
       "      <th>Sales</th>\n",
       "      <th>Date</th>\n",
       "    </tr>\n",
       "  </thead>\n",
       "  <tbody>\n",
       "    <tr>\n",
       "      <th>0</th>\n",
       "      <td>93927.0</td>\n",
       "      <td>2016-07-19</td>\n",
       "    </tr>\n",
       "    <tr>\n",
       "      <th>1</th>\n",
       "      <td>79938.0</td>\n",
       "      <td>2016-07-19</td>\n",
       "    </tr>\n",
       "    <tr>\n",
       "      <th>2</th>\n",
       "      <td>118851.0</td>\n",
       "      <td>2016-09-27</td>\n",
       "    </tr>\n",
       "    <tr>\n",
       "      <th>3</th>\n",
       "      <td>114889.0</td>\n",
       "      <td>2016-10-04</td>\n",
       "    </tr>\n",
       "    <tr>\n",
       "      <th>4</th>\n",
       "      <td>39617.0</td>\n",
       "      <td>2016-10-25</td>\n",
       "    </tr>\n",
       "  </tbody>\n",
       "</table>\n",
       "</div>"
      ],
      "text/plain": [
       "      Sales       Date\n",
       "0   93927.0 2016-07-19\n",
       "1   79938.0 2016-07-19\n",
       "2  118851.0 2016-09-27\n",
       "3  114889.0 2016-10-04\n",
       "4   39617.0 2016-10-25"
      ]
     },
     "execution_count": 79,
     "metadata": {},
     "output_type": "execute_result"
    }
   ],
   "source": [
    "data.head()"
   ]
  },
  {
   "cell_type": "code",
   "execution_count": 80,
   "metadata": {},
   "outputs": [
    {
     "data": {
      "text/html": [
       "<div>\n",
       "<style scoped>\n",
       "    .dataframe tbody tr th:only-of-type {\n",
       "        vertical-align: middle;\n",
       "    }\n",
       "\n",
       "    .dataframe tbody tr th {\n",
       "        vertical-align: top;\n",
       "    }\n",
       "\n",
       "    .dataframe thead th {\n",
       "        text-align: right;\n",
       "    }\n",
       "</style>\n",
       "<table border=\"1\" class=\"dataframe\">\n",
       "  <thead>\n",
       "    <tr style=\"text-align: right;\">\n",
       "      <th></th>\n",
       "      <th>Date</th>\n",
       "      <th>Sales</th>\n",
       "    </tr>\n",
       "  </thead>\n",
       "  <tbody>\n",
       "    <tr>\n",
       "      <th>0</th>\n",
       "      <td>2016-04</td>\n",
       "      <td>1.194274e+09</td>\n",
       "    </tr>\n",
       "    <tr>\n",
       "      <th>1</th>\n",
       "      <td>2016-05</td>\n",
       "      <td>1.270143e+09</td>\n",
       "    </tr>\n",
       "    <tr>\n",
       "      <th>2</th>\n",
       "      <td>2016-06</td>\n",
       "      <td>1.341825e+09</td>\n",
       "    </tr>\n",
       "    <tr>\n",
       "      <th>3</th>\n",
       "      <td>2016-07</td>\n",
       "      <td>1.640480e+09</td>\n",
       "    </tr>\n",
       "    <tr>\n",
       "      <th>4</th>\n",
       "      <td>2016-08</td>\n",
       "      <td>1.586615e+09</td>\n",
       "    </tr>\n",
       "  </tbody>\n",
       "</table>\n",
       "</div>"
      ],
      "text/plain": [
       "      Date         Sales\n",
       "0  2016-04  1.194274e+09\n",
       "1  2016-05  1.270143e+09\n",
       "2  2016-06  1.341825e+09\n",
       "3  2016-07  1.640480e+09\n",
       "4  2016-08  1.586615e+09"
      ]
     },
     "execution_count": 80,
     "metadata": {},
     "output_type": "execute_result"
    }
   ],
   "source": [
    "data['Date'] = data['Date'].apply(lambda x: str(x)[:-12])  \n",
    "data = data.groupby('Date')['Sales'].sum().reset_index()\n",
    "data.head()"
   ]
  },
  {
   "cell_type": "code",
   "execution_count": 81,
   "metadata": {},
   "outputs": [
    {
     "data": {
      "text/html": [
       "<div>\n",
       "<style scoped>\n",
       "    .dataframe tbody tr th:only-of-type {\n",
       "        vertical-align: middle;\n",
       "    }\n",
       "\n",
       "    .dataframe tbody tr th {\n",
       "        vertical-align: top;\n",
       "    }\n",
       "\n",
       "    .dataframe thead th {\n",
       "        text-align: right;\n",
       "    }\n",
       "</style>\n",
       "<table border=\"1\" class=\"dataframe\">\n",
       "  <thead>\n",
       "    <tr style=\"text-align: right;\">\n",
       "      <th></th>\n",
       "      <th>Date</th>\n",
       "      <th>Sales</th>\n",
       "    </tr>\n",
       "  </thead>\n",
       "  <tbody>\n",
       "    <tr>\n",
       "      <th>0</th>\n",
       "      <td>2016-04-01</td>\n",
       "      <td>1.194274e+09</td>\n",
       "    </tr>\n",
       "    <tr>\n",
       "      <th>1</th>\n",
       "      <td>2016-05-01</td>\n",
       "      <td>1.270143e+09</td>\n",
       "    </tr>\n",
       "    <tr>\n",
       "      <th>2</th>\n",
       "      <td>2016-06-01</td>\n",
       "      <td>1.341825e+09</td>\n",
       "    </tr>\n",
       "    <tr>\n",
       "      <th>3</th>\n",
       "      <td>2016-07-01</td>\n",
       "      <td>1.640480e+09</td>\n",
       "    </tr>\n",
       "    <tr>\n",
       "      <th>4</th>\n",
       "      <td>2016-08-01</td>\n",
       "      <td>1.586615e+09</td>\n",
       "    </tr>\n",
       "  </tbody>\n",
       "</table>\n",
       "</div>"
      ],
      "text/plain": [
       "         Date         Sales\n",
       "0  2016-04-01  1.194274e+09\n",
       "1  2016-05-01  1.270143e+09\n",
       "2  2016-06-01  1.341825e+09\n",
       "3  2016-07-01  1.640480e+09\n",
       "4  2016-08-01  1.586615e+09"
      ]
     },
     "execution_count": 81,
     "metadata": {},
     "output_type": "execute_result"
    }
   ],
   "source": [
    "data['Date'] = pd.to_datetime(data['Date'])\n",
    "data['Date'] = data['Date'].apply(lambda x: str(x)[:-9])\n",
    "data.head()"
   ]
  },
  {
   "cell_type": "code",
   "execution_count": 82,
   "metadata": {},
   "outputs": [
    {
     "name": "stdout",
     "output_type": "stream",
     "text": [
      "0     2016-04-01\n",
      "1     2016-05-01\n",
      "2     2016-06-01\n",
      "3     2016-07-01\n",
      "4     2016-08-01\n",
      "5     2016-09-01\n",
      "6     2016-10-01\n",
      "7     2016-11-01\n",
      "8     2016-12-01\n",
      "9     2017-01-01\n",
      "10    2017-02-01\n",
      "11    2017-03-01\n",
      "12    2017-04-01\n",
      "13    2017-05-01\n",
      "14    2017-06-01\n",
      "15    2017-07-01\n",
      "16    2017-08-01\n",
      "17    2017-09-01\n",
      "18    2017-10-01\n",
      "19    2017-11-01\n",
      "20    2017-12-01\n",
      "21    2018-01-01\n",
      "22    2018-02-01\n",
      "23    2018-03-01\n",
      "24    2018-04-01\n",
      "25    2018-05-01\n",
      "26    2018-06-01\n",
      "27    2018-07-01\n",
      "28    2018-08-01\n",
      "29    2018-09-01\n",
      "30    2018-10-01\n",
      "31    2018-11-01\n",
      "32    2018-12-01\n",
      "33    2019-01-01\n",
      "34    2019-02-01\n",
      "35    2019-03-01\n",
      "36    2019-04-01\n",
      "37    2019-05-01\n",
      "38    2019-06-01\n",
      "39    2019-07-01\n",
      "40    2019-08-01\n",
      "41    2019-09-01\n",
      "42    2019-10-01\n",
      "43    2019-11-01\n",
      "44    2019-12-01\n",
      "45    2020-01-01\n",
      "46    2020-02-01\n",
      "47    2020-03-01\n",
      "48    2020-04-01\n",
      "49    2020-05-01\n",
      "50    2020-06-01\n",
      "51    2020-07-01\n",
      "52    2020-08-01\n",
      "53    2020-09-01\n",
      "54    2020-10-01\n",
      "55    2020-11-01\n",
      "56    2020-12-01\n",
      "57    2021-01-01\n",
      "58    2021-02-01\n",
      "Name: Date, dtype: object\n"
     ]
    }
   ],
   "source": [
    "dates = data.loc[-57: , 'Date']\n",
    "print(dates)"
   ]
  },
  {
   "cell_type": "code",
   "execution_count": 16,
   "metadata": {},
   "outputs": [],
   "source": [
    "data.set_index('Date', inplace= True)"
   ]
  },
  {
   "cell_type": "code",
   "execution_count": 17,
   "metadata": {},
   "outputs": [
    {
     "data": {
      "text/html": [
       "<div>\n",
       "<style scoped>\n",
       "    .dataframe tbody tr th:only-of-type {\n",
       "        vertical-align: middle;\n",
       "    }\n",
       "\n",
       "    .dataframe tbody tr th {\n",
       "        vertical-align: top;\n",
       "    }\n",
       "\n",
       "    .dataframe thead th {\n",
       "        text-align: right;\n",
       "    }\n",
       "</style>\n",
       "<table border=\"1\" class=\"dataframe\">\n",
       "  <thead>\n",
       "    <tr style=\"text-align: right;\">\n",
       "      <th></th>\n",
       "      <th>Sales</th>\n",
       "    </tr>\n",
       "    <tr>\n",
       "      <th>Date</th>\n",
       "      <th></th>\n",
       "    </tr>\n",
       "  </thead>\n",
       "  <tbody>\n",
       "    <tr>\n",
       "      <th>2016-04-01</th>\n",
       "      <td>1.194274e+09</td>\n",
       "    </tr>\n",
       "    <tr>\n",
       "      <th>2016-05-01</th>\n",
       "      <td>1.270143e+09</td>\n",
       "    </tr>\n",
       "    <tr>\n",
       "      <th>2016-06-01</th>\n",
       "      <td>1.341825e+09</td>\n",
       "    </tr>\n",
       "    <tr>\n",
       "      <th>2016-07-01</th>\n",
       "      <td>1.640480e+09</td>\n",
       "    </tr>\n",
       "    <tr>\n",
       "      <th>2016-08-01</th>\n",
       "      <td>1.586615e+09</td>\n",
       "    </tr>\n",
       "  </tbody>\n",
       "</table>\n",
       "</div>"
      ],
      "text/plain": [
       "                   Sales\n",
       "Date                    \n",
       "2016-04-01  1.194274e+09\n",
       "2016-05-01  1.270143e+09\n",
       "2016-06-01  1.341825e+09\n",
       "2016-07-01  1.640480e+09\n",
       "2016-08-01  1.586615e+09"
      ]
     },
     "execution_count": 17,
     "metadata": {},
     "output_type": "execute_result"
    }
   ],
   "source": [
    "data.head()"
   ]
  },
  {
   "cell_type": "code",
   "execution_count": 18,
   "metadata": {},
   "outputs": [
    {
     "data": {
      "text/plain": [
       "(59, 1)"
      ]
     },
     "execution_count": 18,
     "metadata": {},
     "output_type": "execute_result"
    }
   ],
   "source": [
    "data.shape"
   ]
  },
  {
   "cell_type": "code",
   "execution_count": 19,
   "metadata": {},
   "outputs": [],
   "source": [
    "data = data.iloc[:-1 , :]"
   ]
  },
  {
   "cell_type": "code",
   "execution_count": 20,
   "metadata": {},
   "outputs": [
    {
     "data": {
      "text/html": [
       "<div>\n",
       "<style scoped>\n",
       "    .dataframe tbody tr th:only-of-type {\n",
       "        vertical-align: middle;\n",
       "    }\n",
       "\n",
       "    .dataframe tbody tr th {\n",
       "        vertical-align: top;\n",
       "    }\n",
       "\n",
       "    .dataframe thead th {\n",
       "        text-align: right;\n",
       "    }\n",
       "</style>\n",
       "<table border=\"1\" class=\"dataframe\">\n",
       "  <thead>\n",
       "    <tr style=\"text-align: right;\">\n",
       "      <th></th>\n",
       "      <th>Sales</th>\n",
       "    </tr>\n",
       "    <tr>\n",
       "      <th>Date</th>\n",
       "      <th></th>\n",
       "    </tr>\n",
       "  </thead>\n",
       "  <tbody>\n",
       "    <tr>\n",
       "      <th>2020-09-01</th>\n",
       "      <td>3.247609e+09</td>\n",
       "    </tr>\n",
       "    <tr>\n",
       "      <th>2020-10-01</th>\n",
       "      <td>3.557795e+09</td>\n",
       "    </tr>\n",
       "    <tr>\n",
       "      <th>2020-11-01</th>\n",
       "      <td>3.073496e+09</td>\n",
       "    </tr>\n",
       "    <tr>\n",
       "      <th>2020-12-01</th>\n",
       "      <td>2.908535e+09</td>\n",
       "    </tr>\n",
       "    <tr>\n",
       "      <th>2021-01-01</th>\n",
       "      <td>2.547055e+05</td>\n",
       "    </tr>\n",
       "  </tbody>\n",
       "</table>\n",
       "</div>"
      ],
      "text/plain": [
       "                   Sales\n",
       "Date                    \n",
       "2020-09-01  3.247609e+09\n",
       "2020-10-01  3.557795e+09\n",
       "2020-11-01  3.073496e+09\n",
       "2020-12-01  2.908535e+09\n",
       "2021-01-01  2.547055e+05"
      ]
     },
     "execution_count": 20,
     "metadata": {},
     "output_type": "execute_result"
    }
   ],
   "source": [
    "data.tail()"
   ]
  },
  {
   "cell_type": "markdown",
   "metadata": {},
   "source": [
    "## ADF Test"
   ]
  },
  {
   "cell_type": "code",
   "execution_count": 21,
   "metadata": {},
   "outputs": [],
   "source": [
    "from statsmodels.tsa.stattools import adfuller"
   ]
  },
  {
   "cell_type": "code",
   "execution_count": 22,
   "metadata": {},
   "outputs": [],
   "source": [
    "def adf_check(time_series):\n",
    "    print('\\n------Dickey Fuller Test Results---------\\n')\n",
    "    result = adfuller(time_series)\n",
    "    labels = ['ADF Test Statistic','p values','#Lags used','Number of Observations used']\n",
    "\n",
    "    for value, label in zip(result, labels):\n",
    "        print(label + ' : ' + str(value)+'\\n')\n",
    "    \n",
    "    if result[1] <= 0.05:\n",
    "        print('Since the evidence is strong enough we reject the null hypothesis so time series is stationary')\n",
    "    else:\n",
    "        print('Since the evidence is not enough we fail to reject the null hypothesis, so time series is not stationary')"
   ]
  },
  {
   "cell_type": "code",
   "execution_count": 23,
   "metadata": {},
   "outputs": [
    {
     "name": "stdout",
     "output_type": "stream",
     "text": [
      "\n",
      "------Dickey Fuller Test Results---------\n",
      "\n",
      "ADF Test Statistic : 0.005267536477969917\n",
      "\n",
      "p values : 0.9589655457812183\n",
      "\n",
      "#Lags used : 9\n",
      "\n",
      "Number of Observations used : 48\n",
      "\n",
      "Since the evidence is not enough we fail to reject the null hypothesis, so time series is not stationary\n"
     ]
    }
   ],
   "source": [
    "adf_check(data['Sales'])"
   ]
  },
  {
   "cell_type": "code",
   "execution_count": 24,
   "metadata": {},
   "outputs": [
    {
     "data": {
      "image/png": "[encoded data removed]",
      "text/plain": [
       "<Figure size 1152x504 with 1 Axes>"
      ]
     },
     "metadata": {
      "needs_background": "light"
     },
     "output_type": "display_data"
    }
   ],
   "source": [
    "data['Sales'].plot(figsize = (16,7));"
   ]
  },
  {
   "cell_type": "code",
   "execution_count": 25,
   "metadata": {},
   "outputs": [],
   "source": [
    "data['First Difference'] = data['Sales'] - data['Sales'].shift(1)"
   ]
  },
  {
   "cell_type": "code",
   "execution_count": 26,
   "metadata": {},
   "outputs": [
    {
     "name": "stdout",
     "output_type": "stream",
     "text": [
      "\n",
      "------Dickey Fuller Test Results---------\n",
      "\n",
      "ADF Test Statistic : -7.667337529533889\n",
      "\n",
      "p values : 1.6279511641240682e-11\n",
      "\n",
      "#Lags used : 7\n",
      "\n",
      "Number of Observations used : 49\n",
      "\n",
      "Since the evidence is strong enough we reject the null hypothesis so time series is stationary\n"
     ]
    }
   ],
   "source": [
    "# By first Difference Data is Stationary\n",
    "# So our d = 1\n",
    "adf_check(data['First Difference'].dropna())"
   ]
  },
  {
   "cell_type": "code",
   "execution_count": 27,
   "metadata": {},
   "outputs": [
    {
     "data": {
      "image/png": "[encoded data removed]",
      "text/plain": [
       "<Figure size 1152x504 with 1 Axes>"
      ]
     },
     "metadata": {
      "needs_background": "light"
     },
     "output_type": "display_data"
    }
   ],
   "source": [
    "data['First Difference'].plot(figsize = (16,7));"
   ]
  },
  {
   "cell_type": "code",
   "execution_count": 28,
   "metadata": {},
   "outputs": [],
   "source": [
    "from statsmodels.graphics.tsaplots import plot_acf, plot_pacf"
   ]
  },
  {
   "cell_type": "code",
   "execution_count": 29,
   "metadata": {},
   "outputs": [
    {
     "data": {
      "image/png": "[encoded data removed]",
      "text/plain": [
       "<Figure size 864x576 with 2 Axes>"
      ]
     },
     "metadata": {
      "needs_background": "light"
     },
     "output_type": "display_data"
    }
   ],
   "source": [
    "import statsmodels.api as sm\n",
    "fig = plt.figure(figsize=(12,8))\n",
    "ax1 = fig.add_subplot(211)\n",
    "fig = sm.graphics.tsa.plot_acf(data['First Difference'].dropna(), ax = ax1)\n",
    "ax2 = fig.add_subplot(212)\n",
    "fig = sm.graphics.tsa.plot_pacf(data['First Difference'].dropna(), ax= ax2 , method = 'ols')"
   ]
  },
  {
   "cell_type": "code",
   "execution_count": 30,
   "metadata": {},
   "outputs": [
    {
     "data": {
      "text/html": [
       "<div>\n",
       "<style scoped>\n",
       "    .dataframe tbody tr th:only-of-type {\n",
       "        vertical-align: middle;\n",
       "    }\n",
       "\n",
       "    .dataframe tbody tr th {\n",
       "        vertical-align: top;\n",
       "    }\n",
       "\n",
       "    .dataframe thead th {\n",
       "        text-align: right;\n",
       "    }\n",
       "</style>\n",
       "<table border=\"1\" class=\"dataframe\">\n",
       "  <thead>\n",
       "    <tr style=\"text-align: right;\">\n",
       "      <th></th>\n",
       "      <th>Sales</th>\n",
       "      <th>First Difference</th>\n",
       "    </tr>\n",
       "    <tr>\n",
       "      <th>Date</th>\n",
       "      <th></th>\n",
       "      <th></th>\n",
       "    </tr>\n",
       "  </thead>\n",
       "  <tbody>\n",
       "    <tr>\n",
       "      <th>2016-04-01</th>\n",
       "      <td>1.194274e+09</td>\n",
       "      <td>NaN</td>\n",
       "    </tr>\n",
       "    <tr>\n",
       "      <th>2016-05-01</th>\n",
       "      <td>1.270143e+09</td>\n",
       "      <td>7.586951e+07</td>\n",
       "    </tr>\n",
       "    <tr>\n",
       "      <th>2016-06-01</th>\n",
       "      <td>1.341825e+09</td>\n",
       "      <td>7.168160e+07</td>\n",
       "    </tr>\n",
       "    <tr>\n",
       "      <th>2016-07-01</th>\n",
       "      <td>1.640480e+09</td>\n",
       "      <td>2.986554e+08</td>\n",
       "    </tr>\n",
       "    <tr>\n",
       "      <th>2016-08-01</th>\n",
       "      <td>1.586615e+09</td>\n",
       "      <td>-5.386492e+07</td>\n",
       "    </tr>\n",
       "  </tbody>\n",
       "</table>\n",
       "</div>"
      ],
      "text/plain": [
       "                   Sales  First Difference\n",
       "Date                                      \n",
       "2016-04-01  1.194274e+09               NaN\n",
       "2016-05-01  1.270143e+09      7.586951e+07\n",
       "2016-06-01  1.341825e+09      7.168160e+07\n",
       "2016-07-01  1.640480e+09      2.986554e+08\n",
       "2016-08-01  1.586615e+09     -5.386492e+07"
      ]
     },
     "execution_count": 30,
     "metadata": {},
     "output_type": "execute_result"
    }
   ],
   "source": [
    "data.head()"
   ]
  },
  {
   "cell_type": "markdown",
   "metadata": {},
   "source": [
    "## Model - 1(ARIMA)"
   ]
  },
  {
   "cell_type": "code",
   "execution_count": 31,
   "metadata": {},
   "outputs": [],
   "source": [
    "from statsmodels.tsa.arima_model import ARIMA"
   ]
  },
  {
   "cell_type": "code",
   "execution_count": 32,
   "metadata": {},
   "outputs": [
    {
     "name": "stderr",
     "output_type": "stream",
     "text": [
      "C:\\Users\\Tirth\\anaconda3\\lib\\site-packages\\statsmodels\\tsa\\base\\tsa_model.py:524: ValueWarning: No frequency information was provided, so inferred frequency MS will be used.\n",
      "  warnings.warn('No frequency information was'\n",
      "C:\\Users\\Tirth\\anaconda3\\lib\\site-packages\\statsmodels\\tsa\\base\\tsa_model.py:524: ValueWarning: No frequency information was provided, so inferred frequency MS will be used.\n",
      "  warnings.warn('No frequency information was'\n"
     ]
    }
   ],
   "source": [
    "model=ARIMA(data['Sales'],order=(1,1,1))\n",
    "model_fit=model.fit()"
   ]
  },
  {
   "cell_type": "code",
   "execution_count": 33,
   "metadata": {},
   "outputs": [
    {
     "data": {
      "text/html": [
       "<table class=\"simpletable\">\n",
       "<caption>ARIMA Model Results</caption>\n",
       "<tr>\n",
       "  <th>Dep. Variable:</th>      <td>D.Sales</td>     <th>  No. Observations:  </th>      <td>57</td>      \n",
       "</tr>\n",
       "<tr>\n",
       "  <th>Model:</th>          <td>ARIMA(1, 1, 1)</td>  <th>  Log Likelihood     </th>   <td>-1225.357</td>  \n",
       "</tr>\n",
       "<tr>\n",
       "  <th>Method:</th>             <td>css-mle</td>     <th>  S.D. of innovations</th> <td>524798986.453</td>\n",
       "</tr>\n",
       "<tr>\n",
       "  <th>Date:</th>          <td>Sat, 10 Jul 2021</td> <th>  AIC                </th>   <td>2458.714</td>   \n",
       "</tr>\n",
       "<tr>\n",
       "  <th>Time:</th>              <td>16:13:42</td>     <th>  BIC                </th>   <td>2466.886</td>   \n",
       "</tr>\n",
       "<tr>\n",
       "  <th>Sample:</th>           <td>05-01-2016</td>    <th>  HQIC               </th>   <td>2461.890</td>   \n",
       "</tr>\n",
       "<tr>\n",
       "  <th></th>                 <td>- 01-01-2021</td>   <th>                     </th>       <td> </td>      \n",
       "</tr>\n",
       "</table>\n",
       "<table class=\"simpletable\">\n",
       "<tr>\n",
       "        <td></td>           <th>coef</th>     <th>std err</th>      <th>z</th>      <th>P>|z|</th>  <th>[0.025</th>    <th>0.975]</th>  \n",
       "</tr>\n",
       "<tr>\n",
       "  <th>const</th>         <td>-2.095e+07</td> <td> 7.38e+07</td> <td>   -0.284</td> <td> 0.776</td> <td>-1.66e+08</td> <td> 1.24e+08</td>\n",
       "</tr>\n",
       "<tr>\n",
       "  <th>ar.L1.D.Sales</th> <td>    0.0482</td> <td>    1.133</td> <td>    0.043</td> <td> 0.966</td> <td>   -2.172</td> <td>    2.269</td>\n",
       "</tr>\n",
       "<tr>\n",
       "  <th>ma.L1.D.Sales</th> <td>    0.0024</td> <td>    1.116</td> <td>    0.002</td> <td> 0.998</td> <td>   -2.184</td> <td>    2.189</td>\n",
       "</tr>\n",
       "</table>\n",
       "<table class=\"simpletable\">\n",
       "<caption>Roots</caption>\n",
       "<tr>\n",
       "    <td></td>   <th>            Real</th>  <th>         Imaginary</th> <th>         Modulus</th>  <th>        Frequency</th>\n",
       "</tr>\n",
       "<tr>\n",
       "  <th>AR.1</th> <td>          20.7566</td> <td>          +0.0000j</td> <td>          20.7566</td> <td>           0.0000</td>\n",
       "</tr>\n",
       "<tr>\n",
       "  <th>MA.1</th> <td>        -414.5920</td> <td>          +0.0000j</td> <td>         414.5920</td> <td>           0.5000</td>\n",
       "</tr>\n",
       "</table>"
      ],
      "text/plain": [
       "<class 'statsmodels.iolib.summary.Summary'>\n",
       "\"\"\"\n",
       "                             ARIMA Model Results                              \n",
       "==============================================================================\n",
       "Dep. Variable:                D.Sales   No. Observations:                   57\n",
       "Model:                 ARIMA(1, 1, 1)   Log Likelihood               -1225.357\n",
       "Method:                       css-mle   S.D. of innovations      524798986.453\n",
       "Date:                Sat, 10 Jul 2021   AIC                           2458.714\n",
       "Time:                        16:13:42   BIC                           2466.886\n",
       "Sample:                    05-01-2016   HQIC                          2461.890\n",
       "                         - 01-01-2021                                         \n",
       "=================================================================================\n",
       "                    coef    std err          z      P>|z|      [0.025      0.975]\n",
       "---------------------------------------------------------------------------------\n",
       "const         -2.095e+07   7.38e+07     -0.284      0.776   -1.66e+08    1.24e+08\n",
       "ar.L1.D.Sales     0.0482      1.133      0.043      0.966      -2.172       2.269\n",
       "ma.L1.D.Sales     0.0024      1.116      0.002      0.998      -2.184       2.189\n",
       "                                    Roots                                    \n",
       "=============================================================================\n",
       "                  Real          Imaginary           Modulus         Frequency\n",
       "-----------------------------------------------------------------------------\n",
       "AR.1           20.7566           +0.0000j           20.7566            0.0000\n",
       "MA.1         -414.5920           +0.0000j          414.5920            0.5000\n",
       "-----------------------------------------------------------------------------\n",
       "\"\"\""
      ]
     },
     "execution_count": 33,
     "metadata": {},
     "output_type": "execute_result"
    }
   ],
   "source": [
    "model_fit.summary()"
   ]
  },
  {
   "cell_type": "code",
   "execution_count": 34,
   "metadata": {},
   "outputs": [
    {
     "data": {
      "image/png": "[encoded data removed]",
      "text/plain": [
       "<Figure size 432x288 with 1 Axes>"
      ]
     },
     "metadata": {
      "needs_background": "light"
     },
     "output_type": "display_data"
    }
   ],
   "source": [
    "model_fit.plot_predict(dynamic=False)\n",
    "plt.show()"
   ]
  },
  {
   "cell_type": "code",
   "execution_count": 35,
   "metadata": {},
   "outputs": [],
   "source": [
    "prediction = model_fit.predict(dynamic = False)"
   ]
  },
  {
   "cell_type": "code",
   "execution_count": 36,
   "metadata": {},
   "outputs": [
    {
     "name": "stdout",
     "output_type": "stream",
     "text": [
      "Prediction-  -20947703.69649127  Real Data-  1194273816.240002  Error-  1215221519.9364932\n",
      "Prediction-  -16050377.856229573  Real Data-  1270143326.1899984  Error-  1286193704.046228\n",
      "Prediction-  -16273456.53138882  Real Data-  1341824926.2999988  Error-  1358098382.8313875\n",
      "Prediction-  -4790451.118641518  Real Data-  1640480370.9799998  Error-  1645270822.0986414\n",
      "Prediction-  -22651936.710579585  Real Data-  1586615454.7099984  Error-  1609267391.420578\n",
      "Prediction-  -21426514.500507712  Real Data-  1556121846.7599983  Error-  1577548361.2605062\n",
      "Prediction-  -20723253.8592076  Real Data-  1539588012.4600003  Error-  1560311266.319208\n",
      "Prediction-  -31910043.199082837  Real Data-  1301958528.5900013  Error-  1333868571.7890842\n",
      "Prediction-  -17970255.187195383  Real Data-  1339343362.4899983  Error-  1357313617.6771936\n",
      "Prediction-  -19719923.60222537  Real Data-  1342807137.9100006  Error-  1362527061.5122259\n",
      "Prediction-  -22040958.711742595  Real Data-  1300307608.9699974  Error-  1322348567.68174\n",
      "Prediction-  -16897233.042375684  Real Data-  1359373403.4599993  Error-  1376270636.5023751\n",
      "Prediction-  -25061712.95532453  Real Data-  1257297229.1299968  Error-  1282358942.0853214\n",
      "Prediction-  -9510154.941836208  Real Data-  1462239316.1499975  Error-  1471749471.0918336\n",
      "Prediction-  -18118675.46013069  Real Data-  1497758313.6200013  Error-  1515876989.080132\n",
      "Prediction-  -4118207.272772342  Real Data-  1809614020.6000018  Error-  1813732227.8727741\n",
      "Prediction-  -23259891.692683067  Real Data-  1743763714.1899955  Error-  1767023605.8826785\n",
      "Prediction-  -22661542.859311163  Real Data-  1688828323.879999  Error-  1711489866.73931\n",
      "Prediction-  -22916412.914687842  Real Data-  1628883447.3099978  Error-  1651799860.2246857\n",
      "Prediction-  -16817778.665867213  Real Data-  1689478075.7900019  Error-  1706295854.4558692\n",
      "Prediction-  -19164442.61016724  Real Data-  1703976987.740002  Error-  1723141430.3501692\n",
      "Prediction-  -20986319.031953603  Real Data-  1682350997.6500053  Error-  1703337316.681959\n",
      "Prediction-  -24695397.533751503  Real Data-  1587320817.2800064  Error-  1612016214.813758\n",
      "Prediction-  -25429396.5847364  Real Data-  1477604841.13  Error-  1503034237.7147365\n",
      "Prediction-  -18844704.00746432  Real Data-  1498013437.3099983  Error-  1516858141.3174627\n",
      "Prediction-  -11180296.669959761  Real Data-  1670238261.1900022  Error-  1681418557.859962\n",
      "Prediction-  -19039450.995266676  Real Data-  1687476666.3399985  Error-  1706516117.3352652\n",
      "Prediction-  -10128805.329671383  Real Data-  1880477026.3599985  Error-  1890605831.6896698\n",
      "Prediction-  -805872.7019116282  Real Data-  2258188568.089997  Error-  2258994440.7919083\n",
      "Prediction-  -42384399.85452533  Real Data-  1814462180.4599965  Error-  1856846580.3145218\n",
      "Prediction-  -11715007.661402225  Real Data-  1974995046.3099964  Error-  1986710053.9713986\n",
      "Prediction-  -33070933.14878662  Real Data-  1714847756.449997  Error-  1747918689.5987835\n",
      "Prediction-  -15265313.831101043  Real Data-  1805645796.4300005  Error-  1820911110.2611015\n",
      "Prediction-  -19890504.792971075  Real Data-  1805866661.4400003  Error-  1825757166.2329714\n",
      "Prediction-  -24471031.819419533  Real Data-  1715323762.8700044  Error-  1739794794.689424\n",
      "Prediction-  -13330918.222357184  Real Data-  1844769013.7999997  Error-  1858099932.022357\n",
      "Prediction-  -27471782.248075426  Real Data-  1695223053.5100007  Error-  1722694835.7580762\n",
      "Prediction-  -9895681.56693247  Real Data-  1892429530.940001  Error-  1902325212.5069335\n",
      "Prediction-  -10415555.70634836  Real Data-  2080197656.7599995  Error-  2090613212.466348\n",
      "Prediction-  -3144103.5262598097  Real Data-  2411675735.8399987  Error-  2414819839.3662586\n",
      "Prediction-  -17538003.063570302  Real Data-  2458976401.9199977  Error-  2476514404.983568\n",
      "Prediction-  -19531236.994758334  Real Data-  2466190553.0699964  Error-  2485721790.0647545\n",
      "Prediction-  -22534376.36232692  Real Data-  2413946637.4200034  Error-  2436481013.7823305\n",
      "Prediction-  -17183159.17120247  Real Data-  2467337007.0399985  Error-  2484520166.211201\n",
      "Prediction-  -22012909.287743986  Real Data-  2425512879.169997  Error-  2447525788.4577413\n",
      "Prediction-  -12510809.754004136  Real Data-  2571286406.7699924  Error-  2583797216.5239964\n",
      "Prediction-  -21024070.646434903  Real Data-  2549231413.929997  Error-  2570255484.5764318\n",
      "Prediction-  -58222038.7519362  Real Data-  1791478571.7799985  Error-  1849700610.5319347\n",
      "Prediction-  -83501149.07187104  Real Data-  532260216.75000006  Error-  615761365.821871\n",
      "Prediction-  69187543.7256887  Real Data-  2290032828.3699975  Error-  2220845284.644309\n",
      "Prediction-  13557551.391414344  Real Data-  2955447724.279999  Error-  2941890172.8885846\n",
      "Prediction-  -3305405.226529278  Real Data-  3284880348.0699844  Error-  3288185753.2965136\n",
      "Prediction-  -20867775.73896935  Real Data-  3266353732.439997  Error-  3287221508.1789665\n",
      "Prediction-  -20836447.17029828  Real Data-  3247609046.4699984  Error-  3268445493.6402965\n",
      "Prediction-  -4196107.483997464  Real Data-  3557795322.1499963  Error-  3561991429.6339936\n",
      "Prediction-  -44428801.9727577  Real Data-  3073495613.17  Error-  3117924415.142758\n",
      "Prediction-  -28176600.892015934  Real Data-  2908534817.5099955  Error-  2936711418.4020114\n",
      "nan\n"
     ]
    }
   ],
   "source": [
    "for i in range(len(prediction)):\n",
    "    error = np.sqrt((prediction[i] - data.iloc[i , 0]) ** 2)\n",
    "    print('Prediction- ' , prediction[i] , ' Real Data- ' , data.iloc[i , 0] , ' Error- ' , error)\n",
    "print(np.sqrt((prediction - data['Sales']) ** 2).mean())"
   ]
  },
  {
   "cell_type": "code",
   "execution_count": 180,
   "metadata": {},
   "outputs": [],
   "source": [
    "# import statsmodels.api as sm\n",
    "# model=sm.tsa.statespace.SARIMAX(data['Sales'],order=(1, 1, 1))\n",
    "# results=model.fit()"
   ]
  },
  {
   "cell_type": "code",
   "execution_count": 181,
   "metadata": {},
   "outputs": [],
   "source": [
    "# results.summary()"
   ]
  },
  {
   "cell_type": "code",
   "execution_count": 182,
   "metadata": {},
   "outputs": [],
   "source": [
    "# pred = results.get_prediction(start=pd.to_datetime('2016-06'), dynamic=False)\n",
    "# pred_ci = pred.conf_int()"
   ]
  },
  {
   "cell_type": "code",
   "execution_count": 183,
   "metadata": {},
   "outputs": [],
   "source": [
    "# ax = data['2020':].plot(label='observed')\n",
    "# pred.predicted_mean.plot(ax=ax, label='One-step ahead Forecast', alpha=.7)\n",
    "\n",
    "# ax.fill_between(pred_ci.index,\n",
    "#                 pred_ci.iloc[:, 0],\n",
    "#                 pred_ci.iloc[:, 1], color='k', alpha=.2)\n",
    "\n",
    "# ax.set_xlabel('Date')\n",
    "# ax.set_ylabel('Sales')\n",
    "# plt.legend()\n",
    "\n",
    "# plt.show()"
   ]
  },
  {
   "cell_type": "code",
   "execution_count": 38,
   "metadata": {},
   "outputs": [
    {
     "name": "stdout",
     "output_type": "stream",
     "text": [
      "Collecting pmdarima\n",
      "  Downloading pmdarima-1.8.2-cp38-cp38-win_amd64.whl (596 kB)\n",
      "Requirement already satisfied: scikit-learn>=0.22 in c:\\users\\tirth\\anaconda3\\lib\\site-packages (from pmdarima) (0.24.1)\n",
      "Requirement already satisfied: Cython!=0.29.18,>=0.29 in c:\\users\\tirth\\anaconda3\\lib\\site-packages (from pmdarima) (0.29.23)\n",
      "Requirement already satisfied: pandas>=0.19 in c:\\users\\tirth\\anaconda3\\lib\\site-packages (from pmdarima) (1.2.4)\n",
      "Requirement already satisfied: statsmodels!=0.12.0,>=0.11 in c:\\users\\tirth\\anaconda3\\lib\\site-packages (from pmdarima) (0.12.2)\n",
      "Requirement already satisfied: joblib>=0.11 in c:\\users\\tirth\\anaconda3\\lib\\site-packages (from pmdarima) (1.0.1)\n",
      "Requirement already satisfied: scipy>=1.3.2 in c:\\users\\tirth\\anaconda3\\lib\\site-packages (from pmdarima) (1.6.2)\n",
      "Requirement already satisfied: numpy~=1.19.0 in c:\\users\\tirth\\anaconda3\\lib\\site-packages (from pmdarima) (1.19.5)\n",
      "Requirement already satisfied: setuptools!=50.0.0,>=38.6.0 in c:\\users\\tirth\\anaconda3\\lib\\site-packages (from pmdarima) (52.0.0.post20210125)\n",
      "Requirement already satisfied: urllib3 in c:\\users\\tirth\\anaconda3\\lib\\site-packages (from pmdarima) (1.26.4)\n",
      "Requirement already satisfied: pytz>=2017.3 in c:\\users\\tirth\\anaconda3\\lib\\site-packages (from pandas>=0.19->pmdarima) (2021.1)\n",
      "Requirement already satisfied: python-dateutil>=2.7.3 in c:\\users\\tirth\\anaconda3\\lib\\site-packages (from pandas>=0.19->pmdarima) (2.8.1)\n",
      "Requirement already satisfied: six>=1.5 in c:\\users\\tirth\\anaconda3\\lib\\site-packages (from python-dateutil>=2.7.3->pandas>=0.19->pmdarima) (1.15.0)\n",
      "Requirement already satisfied: threadpoolctl>=2.0.0 in c:\\users\\tirth\\anaconda3\\lib\\site-packages (from scikit-learn>=0.22->pmdarima) (2.1.0)\n",
      "Requirement already satisfied: patsy>=0.5 in c:\\users\\tirth\\anaconda3\\lib\\site-packages (from statsmodels!=0.12.0,>=0.11->pmdarima) (0.5.1)\n",
      "Installing collected packages: pmdarima\n",
      "Successfully installed pmdarima-1.8.2\n"
     ]
    }
   ],
   "source": [
    "!pip install pmdarima"
   ]
  },
  {
   "cell_type": "markdown",
   "metadata": {},
   "source": [
    "-----------------------------------------------------Automate ARIMA model------------------------------------------------------ "
   ]
  },
  {
   "cell_type": "markdown",
   "metadata": {},
   "source": [
    "## Model - 2(Auto Arima)"
   ]
  },
  {
   "cell_type": "code",
   "execution_count": 39,
   "metadata": {},
   "outputs": [
    {
     "name": "stdout",
     "output_type": "stream",
     "text": [
      "Performing stepwise search to minimize aic\n",
      " ARIMA(1,0,1)(0,0,0)[0]             : AIC=2500.568, Time=0.08 sec\n",
      " ARIMA(0,0,0)(0,0,0)[0]             : AIC=2651.384, Time=0.00 sec\n",
      " ARIMA(1,0,0)(0,0,0)[0]             : AIC=2498.653, Time=0.03 sec\n",
      " ARIMA(0,0,1)(0,0,0)[0]             : AIC=2611.072, Time=0.05 sec\n",
      " ARIMA(2,0,0)(0,0,0)[0]             : AIC=2500.488, Time=0.03 sec\n",
      " ARIMA(2,0,1)(0,0,0)[0]             : AIC=2502.544, Time=0.10 sec\n",
      " ARIMA(1,0,0)(0,0,0)[0] intercept   : AIC=2493.146, Time=0.03 sec\n",
      " ARIMA(0,0,0)(0,0,0)[0] intercept   : AIC=2524.313, Time=0.02 sec\n",
      " ARIMA(2,0,0)(0,0,0)[0] intercept   : AIC=2493.750, Time=0.06 sec\n",
      " ARIMA(1,0,1)(0,0,0)[0] intercept   : AIC=2494.364, Time=0.05 sec\n",
      " ARIMA(0,0,1)(0,0,0)[0] intercept   : AIC=2504.634, Time=0.04 sec\n",
      " ARIMA(2,0,1)(0,0,0)[0] intercept   : AIC=2496.040, Time=0.13 sec\n",
      "\n",
      "Best model:  ARIMA(1,0,0)(0,0,0)[0] intercept\n",
      "Total fit time: 0.660 seconds\n"
     ]
    }
   ],
   "source": [
    "import pmdarima as pm\n",
    "model = pm.auto_arima(data['Sales'] , start_p=1, start_q=1,\n",
    "                      d = None ,  # let model determine 'd'\n",
    "                      test='adf',       # use adftest to find optimal 'd'\n",
    "                      max_p=3, max_q=3, max_d=2,  # maximum p and q\n",
    "                      m=1,              # frequency of series\n",
    "                      seasonal=False,   # No Seasonality\n",
    "                      start_P=0, \n",
    "                      D=0, \n",
    "                      trace=True,\n",
    "                      error_action='ignore',  \n",
    "                      suppress_warnings=True, \n",
    "                      stepwise=True)"
   ]
  },
  {
   "cell_type": "code",
   "execution_count": 40,
   "metadata": {},
   "outputs": [
    {
     "name": "stderr",
     "output_type": "stream",
     "text": [
      "C:\\Users\\Tirth\\anaconda3\\lib\\site-packages\\statsmodels\\tsa\\base\\tsa_model.py:524: ValueWarning: No frequency information was provided, so inferred frequency MS will be used.\n",
      "  warnings.warn('No frequency information was'\n"
     ]
    }
   ],
   "source": [
    "model=ARIMA(data['Sales'].dropna(),order=(1,0,0))\n",
    "model_fit=model.fit()"
   ]
  },
  {
   "cell_type": "code",
   "execution_count": 41,
   "metadata": {},
   "outputs": [
    {
     "data": {
      "text/html": [
       "<table class=\"simpletable\">\n",
       "<caption>ARMA Model Results</caption>\n",
       "<tr>\n",
       "  <th>Dep. Variable:</th>       <td>Sales</td>      <th>  No. Observations:  </th>      <td>58</td>      \n",
       "</tr>\n",
       "<tr>\n",
       "  <th>Model:</th>            <td>ARMA(1, 0)</td>    <th>  Log Likelihood     </th>   <td>-1243.679</td>  \n",
       "</tr>\n",
       "<tr>\n",
       "  <th>Method:</th>             <td>css-mle</td>     <th>  S.D. of innovations</th> <td>493871290.431</td>\n",
       "</tr>\n",
       "<tr>\n",
       "  <th>Date:</th>          <td>Sat, 10 Jul 2021</td> <th>  AIC                </th>   <td>2493.357</td>   \n",
       "</tr>\n",
       "<tr>\n",
       "  <th>Time:</th>              <td>16:15:02</td>     <th>  BIC                </th>   <td>2499.539</td>   \n",
       "</tr>\n",
       "<tr>\n",
       "  <th>Sample:</th>           <td>04-01-2016</td>    <th>  HQIC               </th>   <td>2495.765</td>   \n",
       "</tr>\n",
       "<tr>\n",
       "  <th></th>                 <td>- 01-01-2021</td>   <th>                     </th>       <td> </td>      \n",
       "</tr>\n",
       "</table>\n",
       "<table class=\"simpletable\">\n",
       "<tr>\n",
       "       <td></td>          <th>coef</th>     <th>std err</th>      <th>z</th>      <th>P>|z|</th>  <th>[0.025</th>    <th>0.975]</th>  \n",
       "</tr>\n",
       "<tr>\n",
       "  <th>const</th>       <td> 1.897e+09</td> <td> 2.16e+08</td> <td>    8.800</td> <td> 0.000</td> <td> 1.47e+09</td> <td> 2.32e+09</td>\n",
       "</tr>\n",
       "<tr>\n",
       "  <th>ar.L1.Sales</th> <td>    0.7085</td> <td>    0.104</td> <td>    6.795</td> <td> 0.000</td> <td>    0.504</td> <td>    0.913</td>\n",
       "</tr>\n",
       "</table>\n",
       "<table class=\"simpletable\">\n",
       "<caption>Roots</caption>\n",
       "<tr>\n",
       "    <td></td>   <th>            Real</th>  <th>         Imaginary</th> <th>         Modulus</th>  <th>        Frequency</th>\n",
       "</tr>\n",
       "<tr>\n",
       "  <th>AR.1</th> <td>           1.4114</td> <td>          +0.0000j</td> <td>           1.4114</td> <td>           0.0000</td>\n",
       "</tr>\n",
       "</table>"
      ],
      "text/plain": [
       "<class 'statsmodels.iolib.summary.Summary'>\n",
       "\"\"\"\n",
       "                              ARMA Model Results                              \n",
       "==============================================================================\n",
       "Dep. Variable:                  Sales   No. Observations:                   58\n",
       "Model:                     ARMA(1, 0)   Log Likelihood               -1243.679\n",
       "Method:                       css-mle   S.D. of innovations      493871290.431\n",
       "Date:                Sat, 10 Jul 2021   AIC                           2493.357\n",
       "Time:                        16:15:02   BIC                           2499.539\n",
       "Sample:                    04-01-2016   HQIC                          2495.765\n",
       "                         - 01-01-2021                                         \n",
       "===============================================================================\n",
       "                  coef    std err          z      P>|z|      [0.025      0.975]\n",
       "-------------------------------------------------------------------------------\n",
       "const        1.897e+09   2.16e+08      8.800      0.000    1.47e+09    2.32e+09\n",
       "ar.L1.Sales     0.7085      0.104      6.795      0.000       0.504       0.913\n",
       "                                    Roots                                    \n",
       "=============================================================================\n",
       "                  Real          Imaginary           Modulus         Frequency\n",
       "-----------------------------------------------------------------------------\n",
       "AR.1            1.4114           +0.0000j            1.4114            0.0000\n",
       "-----------------------------------------------------------------------------\n",
       "\"\"\""
      ]
     },
     "execution_count": 41,
     "metadata": {},
     "output_type": "execute_result"
    }
   ],
   "source": [
    "model_fit.summary()"
   ]
  },
  {
   "cell_type": "code",
   "execution_count": 42,
   "metadata": {},
   "outputs": [
    {
     "data": {
      "image/png": "[encoded data removed]",
      "text/plain": [
       "<Figure size 432x288 with 1 Axes>"
      ]
     },
     "metadata": {
      "needs_background": "light"
     },
     "output_type": "display_data"
    }
   ],
   "source": [
    "prediction = model_fit.plot_predict(dynamic=False)\n",
    "plt.show()"
   ]
  },
  {
   "cell_type": "code",
   "execution_count": 43,
   "metadata": {},
   "outputs": [],
   "source": [
    "prediction = model_fit.predict(dynamic = False)"
   ]
  },
  {
   "cell_type": "code",
   "execution_count": 45,
   "metadata": {},
   "outputs": [
    {
     "name": "stdout",
     "output_type": "stream",
     "text": [
      "Prediction-  1896765659.6462054  Real Data-  1194273816.240002  Error-  702491843.4062035\n",
      "Prediction-  1399027061.4883094  Real Data-  1270143326.1899984  Error-  128883735.298311\n",
      "Prediction-  1452783107.0280466  Real Data-  1341824926.2999988  Error-  110958180.72804785\n",
      "Prediction-  1503571880.5737572  Real Data-  1640480370.9799998  Error-  136908490.4062426\n",
      "Prediction-  1715179095.3229983  Real Data-  1586615454.7099984  Error-  128563640.61299992\n",
      "Prediction-  1677014028.8303754  Real Data-  1556121846.7599983  Error-  120892182.07037711\n",
      "Prediction-  1655408303.7016451  Real Data-  1539588012.4600003  Error-  115820291.24164486\n",
      "Prediction-  1643693537.7810144  Real Data-  1301958528.5900013  Error-  341735009.1910131\n",
      "Prediction-  1475325225.333512  Real Data-  1339343362.4899983  Error-  135981862.84351373\n",
      "Prediction-  1501813610.9175005  Real Data-  1342807137.9100006  Error-  159006473.00749993\n",
      "Prediction-  1504267809.83535  Real Data-  1300307608.9699974  Error-  203960200.86535263\n",
      "Prediction-  1474155494.4319434  Real Data-  1359373403.4599993  Error-  114782090.9719441\n",
      "Prediction-  1516005554.3642926  Real Data-  1257297229.1299968  Error-  258708325.23429585\n",
      "Prediction-  1443681224.3478966  Real Data-  1462239316.1499975  Error-  18558091.802100897\n",
      "Prediction-  1588889440.0081384  Real Data-  1497758313.6200013  Error-  91131126.3881371\n",
      "Prediction-  1614055819.0552912  Real Data-  1809614020.6000018  Error-  195558201.54471064\n",
      "Prediction-  1835015854.2168813  Real Data-  1743763714.1899955  Error-  91252140.02688575\n",
      "Prediction-  1788358744.2327127  Real Data-  1688828323.879999  Error-  99530420.35271382\n",
      "Prediction-  1749435211.6411128  Real Data-  1628883447.3099978  Error-  120551764.331115\n",
      "Prediction-  1706962293.1143594  Real Data-  1689478075.7900019  Error-  17484217.32435751\n",
      "Prediction-  1749895582.2601752  Real Data-  1703976987.740002  Error-  45918594.52017331\n",
      "Prediction-  1760168538.70308  Real Data-  1682350997.6500053  Error-  77817541.0530746\n",
      "Prediction-  1744845812.763688  Real Data-  1587320817.2800064  Error-  157524995.48368168\n",
      "Prediction-  1677513801.4328394  Real Data-  1477604841.13  Error-  199908960.30283928\n",
      "Prediction-  1599776420.3130248  Real Data-  1498013437.3099983  Error-  101762983.00302649\n",
      "Prediction-  1614236582.5887156  Real Data-  1670238261.1900022  Error-  56001678.60128665\n",
      "Prediction-  1736263540.2119884  Real Data-  1687476666.3399985  Error-  48786873.871989965\n",
      "Prediction-  1748477517.7753916  Real Data-  1880477026.3599985  Error-  131999508.58460689\n",
      "Prediction-  1885224626.7162378  Real Data-  2258188568.089997  Error-  372963941.37375903\n",
      "Prediction-  2152845688.872882  Real Data-  1814462180.4599965  Error-  338383508.4128854\n",
      "Prediction-  1838450935.086516  Real Data-  1974995046.3099964  Error-  136544111.22348046\n",
      "Prediction-  1952193755.5284123  Real Data-  1714847756.449997  Error-  237345999.0784154\n",
      "Prediction-  1767870836.2164235  Real Data-  1805645796.4300005  Error-  37774960.21357703\n",
      "Prediction-  1832204236.7524338  Real Data-  1805866661.4400003  Error-  26337575.31243348\n",
      "Prediction-  1832360726.883232  Real Data-  1715323762.8700044  Error-  117036964.0132277\n",
      "Prediction-  1768208102.4358573  Real Data-  1844769013.7999997  Error-  76560911.36414242\n",
      "Prediction-  1859924324.2551582  Real Data-  1695223053.5100007  Error-  164701270.74515748\n",
      "Prediction-  1753966088.108237  Real Data-  1892429530.940001  Error-  138463442.83176398\n",
      "Prediction-  1893693369.7058787  Real Data-  2080197656.7599995  Error-  186504287.05412078\n",
      "Prediction-  2026733268.4628816  Real Data-  2411675735.8399987  Error-  384942467.37711716\n",
      "Prediction-  2261596400.255785  Real Data-  2458976401.9199977  Error-  197380001.6642127\n",
      "Prediction-  2295110479.3836474  Real Data-  2466190553.0699964  Error-  171080073.68634892\n",
      "Prediction-  2300221942.9742975  Real Data-  2413946637.4200034  Error-  113724694.44570589\n",
      "Prediction-  2263205408.7867675  Real Data-  2467337007.0399985  Error-  204131598.25323105\n",
      "Prediction-  2301034243.35506  Real Data-  2425512879.169997  Error-  124478635.81493711\n",
      "Prediction-  2271400471.844985  Real Data-  2571286406.7699924  Error-  299885934.92500734\n",
      "Prediction-  2374685815.2367916  Real Data-  2549231413.929997  Error-  174545598.69320536\n",
      "Prediction-  2359059126.7255993  Real Data-  1791478571.7799985  Error-  567580554.9456007\n",
      "Prediction-  1822166291.6812303  Real Data-  532260216.75000006  Error-  1289906074.9312303\n",
      "Prediction-  929968631.7506659  Real Data-  2290032828.3699975  Error-  1360064196.6193316\n",
      "Prediction-  2175408395.642956  Real Data-  2955447724.279999  Error-  780039328.637043\n",
      "Prediction-  2646876755.8700423  Real Data-  3284880348.0699844  Error-  638003592.1999421\n",
      "Prediction-  2880290615.2504587  Real Data-  3266353732.439997  Error-  386063117.1895385\n",
      "Prediction-  2867163898.1521254  Real Data-  3247609046.4699984  Error-  380445148.317873\n",
      "Prediction-  2853882671.038685  Real Data-  3557795322.1499963  Error-  703912651.1113114\n",
      "Prediction-  3073659859.163995  Real Data-  3073495613.17  Error-  164245.99399471283\n",
      "Prediction-  2730517571.465439  Real Data-  2908534817.5099955  Error-  178017246.04455662\n",
      "Prediction-  2613637416.978941  Real Data-  254705.54  Error-  2613382711.438941\n",
      "nan\n"
     ]
    }
   ],
   "source": [
    "pred = []\n",
    "dataset = []\n",
    "for i in range(len(prediction)):\n",
    "    error = np.sqrt((prediction[i] - data.iloc[i , 0]) ** 2)\n",
    "    pred.append(prediction[i])\n",
    "    dataset.append(data.iloc[i , 0])\n",
    "    print('Prediction- ' , prediction[i] , ' Real Data- ' , data.iloc[i , 0] , ' Error- ' , error)\n",
    "error = (np.sqrt((prediction - data['Sales']) ** 2)/data['Sales']).median()\n",
    "print(error)"
   ]
  },
  {
   "cell_type": "code",
   "execution_count": 47,
   "metadata": {},
   "outputs": [
    {
     "name": "stdout",
     "output_type": "stream",
     "text": [
      "58\n",
      "[1194273816.240002, 1270143326.1899984, 1341824926.2999988, 1640480370.9799998, 1586615454.7099984, 1556121846.7599983, 1539588012.4600003, 1301958528.5900013, 1339343362.4899983, 1342807137.9100006, 1300307608.9699974, 1359373403.4599993, 1257297229.1299968, 1462239316.1499975, 1497758313.6200013, 1809614020.6000018, 1743763714.1899955, 1688828323.879999, 1628883447.3099978, 1689478075.7900019, 1703976987.740002, 1682350997.6500053, 1587320817.2800064, 1477604841.13, 1498013437.3099983, 1670238261.1900022, 1687476666.3399985, 1880477026.3599985, 2258188568.089997, 1814462180.4599965, 1974995046.3099964, 1714847756.449997, 1805645796.4300005, 1805866661.4400003, 1715323762.8700044, 1844769013.7999997, 1695223053.5100007, 1892429530.940001, 2080197656.7599995, 2411675735.8399987, 2458976401.9199977, 2466190553.0699964, 2413946637.4200034, 2467337007.0399985, 2425512879.169997, 2571286406.7699924, 2549231413.929997, 1791478571.7799985, 532260216.75000006, 2290032828.3699975, 2955447724.279999, 3284880348.0699844, 3266353732.439997, 3247609046.4699984, 3557795322.1499963, 3073495613.17, 2908534817.5099955, 254705.54]\n"
     ]
    }
   ],
   "source": [
    "print(len(pred))\n",
    "print(dataset)"
   ]
  },
  {
   "cell_type": "code",
   "execution_count": 84,
   "metadata": {},
   "outputs": [],
   "source": [
    "dataset.append(0)\n",
    "pred.append(0)"
   ]
  },
  {
   "cell_type": "code",
   "execution_count": 85,
   "metadata": {},
   "outputs": [],
   "source": [
    "dictionary = {'Date' : dates , 'Prediction' : pred , 'Sales' : dataset}\n",
    "dataframe = pd.DataFrame(dictionary)"
   ]
  },
  {
   "cell_type": "code",
   "execution_count": 86,
   "metadata": {},
   "outputs": [
    {
     "data": {
      "text/html": [
       "<div>\n",
       "<style scoped>\n",
       "    .dataframe tbody tr th:only-of-type {\n",
       "        vertical-align: middle;\n",
       "    }\n",
       "\n",
       "    .dataframe tbody tr th {\n",
       "        vertical-align: top;\n",
       "    }\n",
       "\n",
       "    .dataframe thead th {\n",
       "        text-align: right;\n",
       "    }\n",
       "</style>\n",
       "<table border=\"1\" class=\"dataframe\">\n",
       "  <thead>\n",
       "    <tr style=\"text-align: right;\">\n",
       "      <th></th>\n",
       "      <th>Date</th>\n",
       "      <th>Prediction</th>\n",
       "      <th>Sales</th>\n",
       "    </tr>\n",
       "  </thead>\n",
       "  <tbody>\n",
       "    <tr>\n",
       "      <th>0</th>\n",
       "      <td>2016-04-01</td>\n",
       "      <td>1.896766e+09</td>\n",
       "      <td>1.194274e+09</td>\n",
       "    </tr>\n",
       "    <tr>\n",
       "      <th>1</th>\n",
       "      <td>2016-05-01</td>\n",
       "      <td>1.399027e+09</td>\n",
       "      <td>1.270143e+09</td>\n",
       "    </tr>\n",
       "    <tr>\n",
       "      <th>2</th>\n",
       "      <td>2016-06-01</td>\n",
       "      <td>1.452783e+09</td>\n",
       "      <td>1.341825e+09</td>\n",
       "    </tr>\n",
       "    <tr>\n",
       "      <th>3</th>\n",
       "      <td>2016-07-01</td>\n",
       "      <td>1.503572e+09</td>\n",
       "      <td>1.640480e+09</td>\n",
       "    </tr>\n",
       "    <tr>\n",
       "      <th>4</th>\n",
       "      <td>2016-08-01</td>\n",
       "      <td>1.715179e+09</td>\n",
       "      <td>1.586615e+09</td>\n",
       "    </tr>\n",
       "  </tbody>\n",
       "</table>\n",
       "</div>"
      ],
      "text/plain": [
       "         Date    Prediction         Sales\n",
       "0  2016-04-01  1.896766e+09  1.194274e+09\n",
       "1  2016-05-01  1.399027e+09  1.270143e+09\n",
       "2  2016-06-01  1.452783e+09  1.341825e+09\n",
       "3  2016-07-01  1.503572e+09  1.640480e+09\n",
       "4  2016-08-01  1.715179e+09  1.586615e+09"
      ]
     },
     "execution_count": 86,
     "metadata": {},
     "output_type": "execute_result"
    }
   ],
   "source": [
    "dataframe.head()"
   ]
  },
  {
   "cell_type": "code",
   "execution_count": 89,
   "metadata": {},
   "outputs": [],
   "source": [
    "import tensorflow as tf\n",
    "def upper_lower(y_true , y_pred):\n",
    "    y_true = tf.cast(y_true, dtype=tf.float32)\n",
    "    y_pred = tf.cast(y_pred, dtype=tf.float32)\n",
    "    upper = y_pred + (y_pred/10)\n",
    "    lower = y_pred - (y_pred/10)\n",
    "    return upper , lower"
   ]
  },
  {
   "cell_type": "code",
   "execution_count": 90,
   "metadata": {},
   "outputs": [],
   "source": [
    "upper , lower = upper_lower(dataset , pred)"
   ]
  },
  {
   "cell_type": "code",
   "execution_count": 92,
   "metadata": {},
   "outputs": [
    {
     "data": {
      "text/html": [
       "<div>\n",
       "<style scoped>\n",
       "    .dataframe tbody tr th:only-of-type {\n",
       "        vertical-align: middle;\n",
       "    }\n",
       "\n",
       "    .dataframe tbody tr th {\n",
       "        vertical-align: top;\n",
       "    }\n",
       "\n",
       "    .dataframe thead th {\n",
       "        text-align: right;\n",
       "    }\n",
       "</style>\n",
       "<table border=\"1\" class=\"dataframe\">\n",
       "  <thead>\n",
       "    <tr style=\"text-align: right;\">\n",
       "      <th></th>\n",
       "      <th>Date</th>\n",
       "      <th>Prediction</th>\n",
       "      <th>Sales</th>\n",
       "      <th>Upper</th>\n",
       "      <th>Lower</th>\n",
       "    </tr>\n",
       "  </thead>\n",
       "  <tbody>\n",
       "    <tr>\n",
       "      <th>0</th>\n",
       "      <td>2016-04-01</td>\n",
       "      <td>1.896766e+09</td>\n",
       "      <td>1.194274e+09</td>\n",
       "      <td>2.086442e+09</td>\n",
       "      <td>1.707089e+09</td>\n",
       "    </tr>\n",
       "    <tr>\n",
       "      <th>1</th>\n",
       "      <td>2016-05-01</td>\n",
       "      <td>1.399027e+09</td>\n",
       "      <td>1.270143e+09</td>\n",
       "      <td>1.538930e+09</td>\n",
       "      <td>1.259124e+09</td>\n",
       "    </tr>\n",
       "    <tr>\n",
       "      <th>2</th>\n",
       "      <td>2016-06-01</td>\n",
       "      <td>1.452783e+09</td>\n",
       "      <td>1.341825e+09</td>\n",
       "      <td>1.598061e+09</td>\n",
       "      <td>1.307505e+09</td>\n",
       "    </tr>\n",
       "    <tr>\n",
       "      <th>3</th>\n",
       "      <td>2016-07-01</td>\n",
       "      <td>1.503572e+09</td>\n",
       "      <td>1.640480e+09</td>\n",
       "      <td>1.653929e+09</td>\n",
       "      <td>1.353215e+09</td>\n",
       "    </tr>\n",
       "    <tr>\n",
       "      <th>4</th>\n",
       "      <td>2016-08-01</td>\n",
       "      <td>1.715179e+09</td>\n",
       "      <td>1.586615e+09</td>\n",
       "      <td>1.886697e+09</td>\n",
       "      <td>1.543661e+09</td>\n",
       "    </tr>\n",
       "  </tbody>\n",
       "</table>\n",
       "</div>"
      ],
      "text/plain": [
       "         Date    Prediction         Sales         Upper         Lower\n",
       "0  2016-04-01  1.896766e+09  1.194274e+09  2.086442e+09  1.707089e+09\n",
       "1  2016-05-01  1.399027e+09  1.270143e+09  1.538930e+09  1.259124e+09\n",
       "2  2016-06-01  1.452783e+09  1.341825e+09  1.598061e+09  1.307505e+09\n",
       "3  2016-07-01  1.503572e+09  1.640480e+09  1.653929e+09  1.353215e+09\n",
       "4  2016-08-01  1.715179e+09  1.586615e+09  1.886697e+09  1.543661e+09"
      ]
     },
     "execution_count": 92,
     "metadata": {},
     "output_type": "execute_result"
    }
   ],
   "source": [
    "dictionary = {'Date' : dates , 'Prediction' : pred , 'Sales' : dataset , 'Upper' : upper , 'Lower' : lower}\n",
    "dataframe = pd.DataFrame(dictionary)\n",
    "dataframe.head()"
   ]
  },
  {
   "cell_type": "code",
   "execution_count": 99,
   "metadata": {},
   "outputs": [],
   "source": [
    "import matplotlib.pyplot as plt\n",
    "# Create a function to plot time series data\n",
    "def plot_time_series(timesteps, values , color , format='.', start=0, end=None, label=None):\n",
    "  # Plot the series\n",
    "    plt.plot(timesteps[start:end], values[start:end], format, label=label)\n",
    "    plt.xlabel(\"Time\")\n",
    "    plt.ylabel(\"Price\")\n",
    "    if label:\n",
    "        plt.legend(fontsize=14) # make label bigger\n",
    "    plt.grid(False)"
   ]
  },
  {
   "cell_type": "code",
   "execution_count": 100,
   "metadata": {},
   "outputs": [
    {
     "data": {
      "image/png": "[encoded data removed]",
      "text/plain": [
       "<Figure size 720x504 with 1 Axes>"
      ]
     },
     "metadata": {
      "needs_background": "light"
     },
     "output_type": "display_data"
    }
   ],
   "source": [
    "fig = plt.figure(figsize=(10, 7))\n",
    "# Account for the test_window offset and index into test_labels to ensure correct plotting\n",
    "plot_time_series(timesteps = dates , values = dataset , format=\"-\", label=\"Original Data\" , color = 'orange')\n",
    "plot_time_series(timesteps = dates , values = pred , format=\"-\", label=\"Model Prediction\" , color = '#0E83C5')\n",
    "plt.fill_between(x = dates , y1 = upper , y2 = lower , color = '#ACD9E7')\n",
    "plt.ylabel('Sales')\n",
    "fig.savefig(\"ARIMA.png\")"
   ]
  },
  {
   "cell_type": "code",
   "execution_count": 190,
   "metadata": {},
   "outputs": [
    {
     "data": {
      "text/html": [
       "<div>\n",
       "<style scoped>\n",
       "    .dataframe tbody tr th:only-of-type {\n",
       "        vertical-align: middle;\n",
       "    }\n",
       "\n",
       "    .dataframe tbody tr th {\n",
       "        vertical-align: top;\n",
       "    }\n",
       "\n",
       "    .dataframe thead th {\n",
       "        text-align: right;\n",
       "    }\n",
       "</style>\n",
       "<table border=\"1\" class=\"dataframe\">\n",
       "  <thead>\n",
       "    <tr style=\"text-align: right;\">\n",
       "      <th></th>\n",
       "      <th>Date</th>\n",
       "      <th>Sales</th>\n",
       "    </tr>\n",
       "  </thead>\n",
       "  <tbody>\n",
       "    <tr>\n",
       "      <td>0</td>\n",
       "      <td>2021-02-01</td>\n",
       "      <td>0</td>\n",
       "    </tr>\n",
       "    <tr>\n",
       "      <td>1</td>\n",
       "      <td>2021-03-01</td>\n",
       "      <td>0</td>\n",
       "    </tr>\n",
       "    <tr>\n",
       "      <td>2</td>\n",
       "      <td>2021-04-01</td>\n",
       "      <td>0</td>\n",
       "    </tr>\n",
       "    <tr>\n",
       "      <td>3</td>\n",
       "      <td>2021-05-01</td>\n",
       "      <td>0</td>\n",
       "    </tr>\n",
       "    <tr>\n",
       "      <td>4</td>\n",
       "      <td>2021-06-01</td>\n",
       "      <td>0</td>\n",
       "    </tr>\n",
       "  </tbody>\n",
       "</table>\n",
       "</div>"
      ],
      "text/plain": [
       "         Date Sales\n",
       "0  2021-02-01     0\n",
       "1  2021-03-01     0\n",
       "2  2021-04-01     0\n",
       "3  2021-05-01     0\n",
       "4  2021-06-01     0"
      ]
     },
     "execution_count": 190,
     "metadata": {},
     "output_type": "execute_result"
    }
   ],
   "source": [
    "sale = np.zeros(shape = (11) , dtype = np.float64)\n",
    "future_date = [['2021-02-01' , '2021-03-01' , '2021-04-01' , '2021-05-01' , '2021-06-01' , '2021-07-01' , \n",
    "              '2021-08-01' , '2021-09-01' , '2021-10-01' , '2021-11-01' , '2021-12-01'] , sale]\n",
    "new_data = pd.DataFrame(future_date)\n",
    "new_data = new_data.transpose()\n",
    "new_data.columns = ['Date' , 'Sales']\n",
    "new_data.head()"
   ]
  },
  {
   "cell_type": "code",
   "execution_count": 191,
   "metadata": {},
   "outputs": [],
   "source": [
    "data.drop('First Difference' , axis = 1 , inplace = True)"
   ]
  },
  {
   "cell_type": "code",
   "execution_count": 192,
   "metadata": {},
   "outputs": [],
   "source": [
    "new_data.set_index('Date', inplace= True)"
   ]
  },
  {
   "cell_type": "code",
   "execution_count": 193,
   "metadata": {},
   "outputs": [],
   "source": [
    "future_data=pd.concat([data , new_data])"
   ]
  },
  {
   "cell_type": "code",
   "execution_count": 194,
   "metadata": {},
   "outputs": [
    {
     "data": {
      "text/html": [
       "<div>\n",
       "<style scoped>\n",
       "    .dataframe tbody tr th:only-of-type {\n",
       "        vertical-align: middle;\n",
       "    }\n",
       "\n",
       "    .dataframe tbody tr th {\n",
       "        vertical-align: top;\n",
       "    }\n",
       "\n",
       "    .dataframe thead th {\n",
       "        text-align: right;\n",
       "    }\n",
       "</style>\n",
       "<table border=\"1\" class=\"dataframe\">\n",
       "  <thead>\n",
       "    <tr style=\"text-align: right;\">\n",
       "      <th></th>\n",
       "      <th>Sales</th>\n",
       "    </tr>\n",
       "    <tr>\n",
       "      <th>Date</th>\n",
       "      <th></th>\n",
       "    </tr>\n",
       "  </thead>\n",
       "  <tbody>\n",
       "    <tr>\n",
       "      <td>2021-08-01</td>\n",
       "      <td>0</td>\n",
       "    </tr>\n",
       "    <tr>\n",
       "      <td>2021-09-01</td>\n",
       "      <td>0</td>\n",
       "    </tr>\n",
       "    <tr>\n",
       "      <td>2021-10-01</td>\n",
       "      <td>0</td>\n",
       "    </tr>\n",
       "    <tr>\n",
       "      <td>2021-11-01</td>\n",
       "      <td>0</td>\n",
       "    </tr>\n",
       "    <tr>\n",
       "      <td>2021-12-01</td>\n",
       "      <td>0</td>\n",
       "    </tr>\n",
       "  </tbody>\n",
       "</table>\n",
       "</div>"
      ],
      "text/plain": [
       "           Sales\n",
       "Date            \n",
       "2021-08-01     0\n",
       "2021-09-01     0\n",
       "2021-10-01     0\n",
       "2021-11-01     0\n",
       "2021-12-01     0"
      ]
     },
     "execution_count": 194,
     "metadata": {},
     "output_type": "execute_result"
    }
   ],
   "source": [
    "future_data.tail()"
   ]
  },
  {
   "cell_type": "code",
   "execution_count": 195,
   "metadata": {},
   "outputs": [
    {
     "data": {
      "text/plain": [
       "(69, 1)"
      ]
     },
     "execution_count": 195,
     "metadata": {},
     "output_type": "execute_result"
    }
   ],
   "source": [
    "future_data.shape"
   ]
  },
  {
   "cell_type": "code",
   "execution_count": 196,
   "metadata": {},
   "outputs": [
    {
     "ename": "ValueError",
     "evalue": "could not broadcast input array from shape (0) into shape (1)",
     "output_type": "error",
     "traceback": [
      "\u001b[1;31m---------------------------------------------------------------------------\u001b[0m",
      "\u001b[1;31mValueError\u001b[0m                                Traceback (most recent call last)",
      "\u001b[1;32m<ipython-input-196-dd73736741af>\u001b[0m in \u001b[0;36m<module>\u001b[1;34m\u001b[0m\n\u001b[1;32m----> 1\u001b[1;33m \u001b[0mfuture_data\u001b[0m\u001b[1;33m[\u001b[0m\u001b[1;34m'forecast'\u001b[0m\u001b[1;33m]\u001b[0m\u001b[1;33m=\u001b[0m\u001b[0mmodel_fit\u001b[0m\u001b[1;33m.\u001b[0m\u001b[0mpredict\u001b[0m\u001b[1;33m(\u001b[0m\u001b[0mstart\u001b[0m\u001b[1;33m=\u001b[0m\u001b[1;36m59\u001b[0m\u001b[1;33m,\u001b[0m\u001b[0mend\u001b[0m\u001b[1;33m=\u001b[0m\u001b[1;36m69\u001b[0m\u001b[1;33m,\u001b[0m\u001b[0mdynamic\u001b[0m\u001b[1;33m=\u001b[0m\u001b[1;32mTrue\u001b[0m\u001b[1;33m)\u001b[0m\u001b[1;33m\u001b[0m\u001b[1;33m\u001b[0m\u001b[0m\n\u001b[0m\u001b[0;32m      2\u001b[0m \u001b[0mfuture_data\u001b[0m\u001b[1;33m[\u001b[0m\u001b[1;33m[\u001b[0m\u001b[1;34m'Sales'\u001b[0m\u001b[1;33m,\u001b[0m\u001b[1;34m'forecast'\u001b[0m\u001b[1;33m]\u001b[0m\u001b[1;33m]\u001b[0m\u001b[1;33m.\u001b[0m\u001b[0mplot\u001b[0m\u001b[1;33m(\u001b[0m\u001b[0mfigsize\u001b[0m\u001b[1;33m=\u001b[0m\u001b[1;33m(\u001b[0m\u001b[1;36m12\u001b[0m\u001b[1;33m,\u001b[0m\u001b[1;36m8\u001b[0m\u001b[1;33m)\u001b[0m\u001b[1;33m)\u001b[0m\u001b[1;33m\u001b[0m\u001b[1;33m\u001b[0m\u001b[0m\n\u001b[0;32m      3\u001b[0m \u001b[1;31m# data[['avg monthly busride', 'ARMA_forecast']].plot(figsize=(8, 5))\u001b[0m\u001b[1;33m\u001b[0m\u001b[1;33m\u001b[0m\u001b[1;33m\u001b[0m\u001b[0m\n",
      "\u001b[1;32m~\\Anaconda3\\lib\\site-packages\\statsmodels\\base\\wrapper.py\u001b[0m in \u001b[0;36mwrapper\u001b[1;34m(self, *args, **kwargs)\u001b[0m\n\u001b[0;32m    111\u001b[0m             \u001b[0mobj\u001b[0m \u001b[1;33m=\u001b[0m \u001b[0mdata\u001b[0m\u001b[1;33m.\u001b[0m\u001b[0mwrap_output\u001b[0m\u001b[1;33m(\u001b[0m\u001b[0mfunc\u001b[0m\u001b[1;33m(\u001b[0m\u001b[0mresults\u001b[0m\u001b[1;33m,\u001b[0m \u001b[1;33m*\u001b[0m\u001b[0margs\u001b[0m\u001b[1;33m,\u001b[0m \u001b[1;33m**\u001b[0m\u001b[0mkwargs\u001b[0m\u001b[1;33m)\u001b[0m\u001b[1;33m,\u001b[0m \u001b[0mhow\u001b[0m\u001b[1;33m[\u001b[0m\u001b[1;36m0\u001b[0m\u001b[1;33m]\u001b[0m\u001b[1;33m,\u001b[0m \u001b[0mhow\u001b[0m\u001b[1;33m[\u001b[0m\u001b[1;36m1\u001b[0m\u001b[1;33m:\u001b[0m\u001b[1;33m]\u001b[0m\u001b[1;33m)\u001b[0m\u001b[1;33m\u001b[0m\u001b[1;33m\u001b[0m\u001b[0m\n\u001b[0;32m    112\u001b[0m         \u001b[1;32melif\u001b[0m \u001b[0mhow\u001b[0m\u001b[1;33m:\u001b[0m\u001b[1;33m\u001b[0m\u001b[1;33m\u001b[0m\u001b[0m\n\u001b[1;32m--> 113\u001b[1;33m             \u001b[0mobj\u001b[0m \u001b[1;33m=\u001b[0m \u001b[0mdata\u001b[0m\u001b[1;33m.\u001b[0m\u001b[0mwrap_output\u001b[0m\u001b[1;33m(\u001b[0m\u001b[0mfunc\u001b[0m\u001b[1;33m(\u001b[0m\u001b[0mresults\u001b[0m\u001b[1;33m,\u001b[0m \u001b[1;33m*\u001b[0m\u001b[0margs\u001b[0m\u001b[1;33m,\u001b[0m \u001b[1;33m**\u001b[0m\u001b[0mkwargs\u001b[0m\u001b[1;33m)\u001b[0m\u001b[1;33m,\u001b[0m \u001b[0mhow\u001b[0m\u001b[1;33m)\u001b[0m\u001b[1;33m\u001b[0m\u001b[1;33m\u001b[0m\u001b[0m\n\u001b[0m\u001b[0;32m    114\u001b[0m         \u001b[1;32mreturn\u001b[0m \u001b[0mobj\u001b[0m\u001b[1;33m\u001b[0m\u001b[1;33m\u001b[0m\u001b[0m\n\u001b[0;32m    115\u001b[0m \u001b[1;33m\u001b[0m\u001b[0m\n",
      "\u001b[1;32m~\\Anaconda3\\lib\\site-packages\\statsmodels\\tsa\\arima_model.py\u001b[0m in \u001b[0;36mpredict\u001b[1;34m(self, start, end, exog, dynamic, **kwargs)\u001b[0m\n\u001b[0;32m   1563\u001b[0m                 **kwargs):\n\u001b[0;32m   1564\u001b[0m         return self.model.predict(self.params, start, end, exog, dynamic,\n\u001b[1;32m-> 1565\u001b[1;33m                                   **kwargs)\n\u001b[0m\u001b[0;32m   1566\u001b[0m \u001b[1;33m\u001b[0m\u001b[0m\n\u001b[0;32m   1567\u001b[0m     \u001b[1;32mdef\u001b[0m \u001b[0m_forecast_error\u001b[0m\u001b[1;33m(\u001b[0m\u001b[0mself\u001b[0m\u001b[1;33m,\u001b[0m \u001b[0msteps\u001b[0m\u001b[1;33m)\u001b[0m\u001b[1;33m:\u001b[0m\u001b[1;33m\u001b[0m\u001b[1;33m\u001b[0m\u001b[0m\n",
      "\u001b[1;32m~\\Anaconda3\\lib\\site-packages\\statsmodels\\tsa\\arima_model.py\u001b[0m in \u001b[0;36mpredict\u001b[1;34m(self, params, start, end, exog, dynamic, **kwargs)\u001b[0m\n\u001b[0;32m    799\u001b[0m                                                \u001b[0mk_ar\u001b[0m\u001b[1;33m,\u001b[0m \u001b[0mself\u001b[0m\u001b[1;33m.\u001b[0m\u001b[0mk_ma\u001b[0m\u001b[1;33m,\u001b[0m \u001b[0mself\u001b[0m\u001b[1;33m.\u001b[0m\u001b[0mk_trend\u001b[0m\u001b[1;33m,\u001b[0m\u001b[1;33m\u001b[0m\u001b[1;33m\u001b[0m\u001b[0m\n\u001b[0;32m    800\u001b[0m                                                \u001b[0mself\u001b[0m\u001b[1;33m.\u001b[0m\u001b[0mk_exog\u001b[0m\u001b[1;33m,\u001b[0m \u001b[0mendog\u001b[0m\u001b[1;33m,\u001b[0m \u001b[0mexog\u001b[0m\u001b[1;33m,\u001b[0m\u001b[1;33m\u001b[0m\u001b[1;33m\u001b[0m\u001b[0m\n\u001b[1;32m--> 801\u001b[1;33m                                                start, method)\n\u001b[0m\u001b[0;32m    802\u001b[0m \u001b[1;33m\u001b[0m\u001b[0m\n\u001b[0;32m    803\u001b[0m         predictedvalues = _arma_predict_in_sample(start, end, endog, resid,\n",
      "\u001b[1;32m~\\Anaconda3\\lib\\site-packages\\statsmodels\\tsa\\arima_model.py\u001b[0m in \u001b[0;36m_arma_predict_out_of_sample\u001b[1;34m(params, steps, errors, p, q, k_trend, k_exog, endog, exog, start, method)\u001b[0m\n\u001b[0;32m    372\u001b[0m                                                   \u001b[0mexparams\u001b[0m\u001b[1;33m,\u001b[0m \u001b[0marparams\u001b[0m\u001b[1;33m,\u001b[0m\u001b[1;33m\u001b[0m\u001b[1;33m\u001b[0m\u001b[0m\n\u001b[0;32m    373\u001b[0m                                                   \u001b[0mmaparams\u001b[0m\u001b[1;33m,\u001b[0m \u001b[0msteps\u001b[0m\u001b[1;33m,\u001b[0m \u001b[0mmethod\u001b[0m\u001b[1;33m,\u001b[0m\u001b[1;33m\u001b[0m\u001b[1;33m\u001b[0m\u001b[0m\n\u001b[1;32m--> 374\u001b[1;33m                                                   exog)\n\u001b[0m\u001b[0;32m    375\u001b[0m \u001b[1;33m\u001b[0m\u001b[0m\n\u001b[0;32m    376\u001b[0m     \u001b[0mforecast\u001b[0m \u001b[1;33m=\u001b[0m \u001b[0mnp\u001b[0m\u001b[1;33m.\u001b[0m\u001b[0mzeros\u001b[0m\u001b[1;33m(\u001b[0m\u001b[0msteps\u001b[0m\u001b[1;33m)\u001b[0m\u001b[1;33m\u001b[0m\u001b[1;33m\u001b[0m\u001b[0m\n",
      "\u001b[1;32m~\\Anaconda3\\lib\\site-packages\\statsmodels\\tsa\\arima_model.py\u001b[0m in \u001b[0;36m_get_predict_out_of_sample\u001b[1;34m(endog, p, q, k_trend, k_exog, start, errors, trendparam, exparams, arparams, maparams, steps, method, exog)\u001b[0m\n\u001b[0;32m    356\u001b[0m \u001b[1;33m\u001b[0m\u001b[0m\n\u001b[0;32m    357\u001b[0m     \u001b[1;32mif\u001b[0m \u001b[0mp\u001b[0m \u001b[1;32mand\u001b[0m \u001b[0mstart\u001b[0m\u001b[1;33m:\u001b[0m\u001b[1;33m\u001b[0m\u001b[1;33m\u001b[0m\u001b[0m\n\u001b[1;32m--> 358\u001b[1;33m         \u001b[0mendog\u001b[0m\u001b[1;33m[\u001b[0m\u001b[1;33m:\u001b[0m\u001b[0mp\u001b[0m\u001b[1;33m]\u001b[0m \u001b[1;33m=\u001b[0m \u001b[0my\u001b[0m\u001b[1;33m[\u001b[0m\u001b[0mstart\u001b[0m \u001b[1;33m-\u001b[0m \u001b[0mp\u001b[0m\u001b[1;33m:\u001b[0m\u001b[0mstart\u001b[0m\u001b[1;33m]\u001b[0m\u001b[1;33m\u001b[0m\u001b[1;33m\u001b[0m\u001b[0m\n\u001b[0m\u001b[0;32m    359\u001b[0m     \u001b[1;32melif\u001b[0m \u001b[0mp\u001b[0m\u001b[1;33m:\u001b[0m\u001b[1;33m\u001b[0m\u001b[1;33m\u001b[0m\u001b[0m\n\u001b[0;32m    360\u001b[0m         \u001b[0mendog\u001b[0m\u001b[1;33m[\u001b[0m\u001b[1;33m:\u001b[0m\u001b[0mp\u001b[0m\u001b[1;33m]\u001b[0m \u001b[1;33m=\u001b[0m \u001b[0my\u001b[0m\u001b[1;33m[\u001b[0m\u001b[1;33m-\u001b[0m\u001b[0mp\u001b[0m\u001b[1;33m:\u001b[0m\u001b[1;33m]\u001b[0m\u001b[1;33m\u001b[0m\u001b[1;33m\u001b[0m\u001b[0m\n",
      "\u001b[1;31mValueError\u001b[0m: could not broadcast input array from shape (0) into shape (1)"
     ]
    }
   ],
   "source": [
    "future_data['forecast']=model_fit.predict(start=59,end=69,dynamic=True)\n",
    "future_data[['Sales','forecast']].plot(figsize=(12,8)) \n",
    "# data[['avg monthly busride', 'ARMA_forecast']].plot(figsize=(8, 5))"
   ]
  },
  {
   "cell_type": "code",
   "execution_count": null,
   "metadata": {},
   "outputs": [],
   "source": [
    "dataset = pd.concat([data])"
   ]
  },
  {
   "cell_type": "code",
   "execution_count": null,
   "metadata": {},
   "outputs": [],
   "source": [
    "new_data['Predict'] = model_fit.predict()"
   ]
  },
  {
   "cell_type": "markdown",
   "metadata": {},
   "source": [
    "--------------------------------------------------Automate Sarimax model-------------------------------------------------------"
   ]
  },
  {
   "cell_type": "markdown",
   "metadata": {},
   "source": [
    "### Model - 3 (Sarimax)"
   ]
  },
  {
   "cell_type": "code",
   "execution_count": 45,
   "metadata": {},
   "outputs": [
    {
     "name": "stdout",
     "output_type": "stream",
     "text": [
      "Performing stepwise search to minimize aic\n",
      " ARIMA(1,2,1)(0,1,1)[12]             : AIC=1912.370, Time=0.24 sec\n",
      " ARIMA(0,2,0)(0,1,0)[12]             : AIC=1924.867, Time=0.01 sec\n",
      " ARIMA(1,2,0)(1,1,0)[12]             : AIC=1916.718, Time=0.24 sec\n",
      " ARIMA(0,2,1)(0,1,1)[12]             : AIC=1910.430, Time=0.18 sec\n",
      " ARIMA(0,2,1)(0,1,0)[12]             : AIC=1909.240, Time=0.04 sec\n",
      " ARIMA(0,2,1)(1,1,0)[12]             : AIC=1910.098, Time=0.17 sec\n",
      " ARIMA(0,2,1)(1,1,1)[12]             : AIC=1912.086, Time=0.22 sec\n",
      " ARIMA(1,2,1)(0,1,0)[12]             : AIC=1911.050, Time=0.06 sec\n",
      " ARIMA(0,2,2)(0,1,0)[12]             : AIC=1911.988, Time=0.08 sec\n",
      " ARIMA(1,2,0)(0,1,0)[12]             : AIC=1916.568, Time=0.02 sec\n",
      " ARIMA(1,2,2)(0,1,0)[12]             : AIC=1913.566, Time=0.10 sec\n",
      " ARIMA(0,2,1)(0,1,0)[12] intercept   : AIC=1916.688, Time=0.03 sec\n",
      "\n",
      "Best model:  ARIMA(0,2,1)(0,1,0)[12]          \n",
      "Total fit time: 1.388 seconds\n"
     ]
    },
    {
     "data": {
      "text/html": [
       "<table class=\"simpletable\">\n",
       "<caption>SARIMAX Results</caption>\n",
       "<tr>\n",
       "  <th>Dep. Variable:</th>                  <td>y</td>                <th>  No. Observations:  </th>    <td>58</td>   \n",
       "</tr>\n",
       "<tr>\n",
       "  <th>Model:</th>           <td>SARIMAX(0, 2, 1)x(0, 1, [], 12)</td> <th>  Log Likelihood     </th> <td>-952.620</td>\n",
       "</tr>\n",
       "<tr>\n",
       "  <th>Date:</th>                   <td>Tue, 15 Jun 2021</td>         <th>  AIC                </th> <td>1909.240</td>\n",
       "</tr>\n",
       "<tr>\n",
       "  <th>Time:</th>                       <td>11:19:05</td>             <th>  BIC                </th> <td>1912.808</td>\n",
       "</tr>\n",
       "<tr>\n",
       "  <th>Sample:</th>                         <td>0</td>                <th>  HQIC               </th> <td>1910.563</td>\n",
       "</tr>\n",
       "<tr>\n",
       "  <th></th>                              <td> - 58</td>              <th>                     </th>     <td> </td>   \n",
       "</tr>\n",
       "<tr>\n",
       "  <th>Covariance Type:</th>               <td>opg</td>               <th>                     </th>     <td> </td>   \n",
       "</tr>\n",
       "</table>\n",
       "<table class=\"simpletable\">\n",
       "<tr>\n",
       "     <td></td>       <th>coef</th>     <th>std err</th>      <th>z</th>      <th>P>|z|</th>  <th>[0.025</th>    <th>0.975]</th>  \n",
       "</tr>\n",
       "<tr>\n",
       "  <th>ma.L1</th>  <td>   -0.9665</td> <td>    0.171</td> <td>   -5.650</td> <td> 0.000</td> <td>   -1.302</td> <td>   -0.631</td>\n",
       "</tr>\n",
       "<tr>\n",
       "  <th>sigma2</th> <td> 4.457e+17</td> <td> 1.99e-19</td> <td> 2.23e+36</td> <td> 0.000</td> <td> 4.46e+17</td> <td> 4.46e+17</td>\n",
       "</tr>\n",
       "</table>\n",
       "<table class=\"simpletable\">\n",
       "<tr>\n",
       "  <th>Ljung-Box (L1) (Q):</th>     <td>0.09</td>  <th>  Jarque-Bera (JB):  </th> <td>347.65</td>\n",
       "</tr>\n",
       "<tr>\n",
       "  <th>Prob(Q):</th>                <td>0.76</td>  <th>  Prob(JB):          </th>  <td>0.00</td> \n",
       "</tr>\n",
       "<tr>\n",
       "  <th>Heteroskedasticity (H):</th> <td>41.19</td> <th>  Skew:              </th>  <td>-2.45</td>\n",
       "</tr>\n",
       "<tr>\n",
       "  <th>Prob(H) (two-sided):</th>    <td>0.00</td>  <th>  Kurtosis:          </th>  <td>15.87</td>\n",
       "</tr>\n",
       "</table><br/><br/>Warnings:<br/>[1] Covariance matrix calculated using the outer product of gradients (complex-step).<br/>[2] Covariance matrix is singular or near-singular, with condition number 1.56e+52. Standard errors may be unstable."
      ],
      "text/plain": [
       "<class 'statsmodels.iolib.summary.Summary'>\n",
       "\"\"\"\n",
       "                                      SARIMAX Results                                      \n",
       "===========================================================================================\n",
       "Dep. Variable:                                   y   No. Observations:                   58\n",
       "Model:             SARIMAX(0, 2, 1)x(0, 1, [], 12)   Log Likelihood                -952.620\n",
       "Date:                             Tue, 15 Jun 2021   AIC                           1909.240\n",
       "Time:                                     11:19:05   BIC                           1912.808\n",
       "Sample:                                          0   HQIC                          1910.563\n",
       "                                              - 58                                         \n",
       "Covariance Type:                               opg                                         \n",
       "==============================================================================\n",
       "                 coef    std err          z      P>|z|      [0.025      0.975]\n",
       "------------------------------------------------------------------------------\n",
       "ma.L1         -0.9665      0.171     -5.650      0.000      -1.302      -0.631\n",
       "sigma2      4.457e+17   1.99e-19   2.23e+36      0.000    4.46e+17    4.46e+17\n",
       "===================================================================================\n",
       "Ljung-Box (L1) (Q):                   0.09   Jarque-Bera (JB):               347.65\n",
       "Prob(Q):                              0.76   Prob(JB):                         0.00\n",
       "Heteroskedasticity (H):              41.19   Skew:                            -2.45\n",
       "Prob(H) (two-sided):                  0.00   Kurtosis:                        15.87\n",
       "===================================================================================\n",
       "\n",
       "Warnings:\n",
       "[1] Covariance matrix calculated using the outer product of gradients (complex-step).\n",
       "[2] Covariance matrix is singular or near-singular, with condition number 1.56e+52. Standard errors may be unstable.\n",
       "\"\"\""
      ]
     },
     "execution_count": 45,
     "metadata": {},
     "output_type": "execute_result"
    }
   ],
   "source": [
    "smodel = pm.auto_arima(data['Sales'], start_p=1, start_q=1,\n",
    "                         test='adf',\n",
    "                         max_p=3, max_q=3, m=12,\n",
    "                         start_P=0, seasonal=True,\n",
    "                         d=None, D=1, trace=True,\n",
    "                         error_action='ignore',  \n",
    "                         suppress_warnings=True, \n",
    "                         stepwise=True)\n",
    "smodel.summary()"
   ]
  },
  {
   "cell_type": "code",
   "execution_count": 46,
   "metadata": {},
   "outputs": [],
   "source": [
    "train = data[:(len(data) - 11)]\n",
    "test = data[(len(data) - 11):]"
   ]
  },
  {
   "cell_type": "code",
   "execution_count": 48,
   "metadata": {},
   "outputs": [
    {
     "name": "stdout",
     "output_type": "stream",
     "text": [
      "                                      SARIMAX Results                                      \n",
      "===========================================================================================\n",
      "Dep. Variable:                               Sales   No. Observations:                   47\n",
      "Model:             SARIMAX(0, 2, 1)x(0, 1, [], 12)   Log Likelihood                -680.802\n",
      "Date:                             Tue, 15 Jun 2021   AIC                           1365.604\n",
      "Time:                                     11:25:18   BIC                           1368.597\n",
      "Sample:                                 04-01-2016   HQIC                          1366.611\n",
      "                                      - 02-01-2020                                         \n",
      "Covariance Type:                               opg                                         \n",
      "==============================================================================\n",
      "                 coef    std err          z      P>|z|      [0.025      0.975]\n",
      "------------------------------------------------------------------------------\n",
      "ma.L1         -0.9725      0.287     -3.391      0.001      -1.535      -0.410\n",
      "sigma2      7.797e+16   1.58e-18   4.93e+34      0.000     7.8e+16     7.8e+16\n",
      "===================================================================================\n",
      "Ljung-Box (L1) (Q):                  16.97   Jarque-Bera (JB):                 0.17\n",
      "Prob(Q):                              0.00   Prob(JB):                         0.92\n",
      "Heteroskedasticity (H):               4.04   Skew:                             0.17\n",
      "Prob(H) (two-sided):                  0.03   Kurtosis:                         2.97\n",
      "===================================================================================\n",
      "\n",
      "Warnings:\n",
      "[1] Covariance matrix calculated using the outer product of gradients (complex-step).\n",
      "[2] Covariance matrix is singular or near-singular, with condition number 8.09e+50. Standard errors may be unstable.\n"
     ]
    },
    {
     "name": "stderr",
     "output_type": "stream",
     "text": [
      "C:\\Users\\Tirth\\Anaconda3\\lib\\site-packages\\statsmodels\\tsa\\base\\tsa_model.py:527: ValueWarning: No frequency information was provided, so inferred frequency MS will be used.\n",
      "  % freq, ValueWarning)\n",
      "C:\\Users\\Tirth\\Anaconda3\\lib\\site-packages\\statsmodels\\tsa\\base\\tsa_model.py:527: ValueWarning: No frequency information was provided, so inferred frequency MS will be used.\n",
      "  % freq, ValueWarning)\n"
     ]
    }
   ],
   "source": [
    "model = sm.tsa.statespace.SARIMAX(train['Sales'] , order = (0,2,1) , seasonal_order=(0, 1, 0, 12))\n",
    "model_fit = model.fit()\n",
    "print(model_fit.summary())"
   ]
  },
  {
   "cell_type": "code",
   "execution_count": null,
   "metadata": {},
   "outputs": [],
   "source": [
    "model_fit.plot_diagnostics(figsize = (15 , 9))\n",
    "plt.show()"
   ]
  },
  {
   "cell_type": "code",
   "execution_count": null,
   "metadata": {},
   "outputs": [],
   "source": [
    "test.head()"
   ]
  },
  {
   "cell_type": "code",
   "execution_count": null,
   "metadata": {},
   "outputs": [],
   "source": [
    "forecast = model_fit.get_prediction(start = pd.to_datetime('2020-04-01') , dynamic = False)\n",
    "prediction = forecast.predicted_mean\n",
    "\n",
    "actual = test['2020-04-01':]\n",
    "rmse = np.sqrt((prediction - actual['Sales']) ** 2).mean()\n",
    "# for i in range(len(prediction)):\n",
    "#     print('Prediction %.2f' %prediction[i])\n",
    "#     print('Original %.2f' %actual[])\n",
    "print(rmse)"
   ]
  }
 ],
 "metadata": {
  "kernelspec": {
   "display_name": "Python 3",
   "language": "python",
   "name": "python3"
  },
  "language_info": {
   "codemirror_mode": {
    "name": "ipython",
    "version": 3
   },
   "file_extension": ".py",
   "mimetype": "text/x-python",
   "name": "python",
   "nbconvert_exporter": "python",
   "pygments_lexer": "ipython3",
   "version": "3.8.8"
  }
 },
 "nbformat": 4,
 "nbformat_minor": 2
}
